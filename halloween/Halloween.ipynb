{
 "cells": [
  {
   "cell_type": "markdown",
   "id": "185f9931-b384-4fdc-a5b2-eea785428bb8",
   "metadata": {},
   "source": [
    "Copyright **`(c)`** 2023 Giovanni Squillero `<giovanni.squillero@polito.it>`  \n",
    "[`https://github.com/squillero/computational-intelligence`](https://github.com/squillero/computational-intelligence)  \n",
    "Free for personal or classroom use; see [`LICENSE.md`](https://github.com/squillero/computational-intelligence/blob/master/LICENSE.md) for details.\n"
   ]
  },
  {
   "cell_type": "code",
   "execution_count": null,
   "id": "3ffe7245-e849-41d0-9698-5f0e0b83fee9",
   "metadata": {},
   "outputs": [],
   "source": [
    "from itertools import product\n",
    "from random import random, randint, shuffle, seed\n",
    "import numpy as np\n",
    "from scipy import sparse\n",
    "from functools import reduce\n",
    "from collections import namedtuple\n",
    "from tqdm import tqdm\n"
   ]
  },
  {
   "cell_type": "code",
   "execution_count": null,
   "id": "6f03bd67-78a0-4d72-95b7-77a918727b91",
   "metadata": {},
   "outputs": [],
   "source": [
    "def make_set_covering_problem(num_points, num_sets, density):\n",
    "    \"\"\"Returns a sparse array where rows are sets and columns are the covered items\"\"\"\n",
    "    seed(num_points * 2654435761 + num_sets + density)\n",
    "    sets = sparse.lil_array((num_sets, num_points), dtype=bool)\n",
    "    for s, p in product(range(num_sets), range(num_points)):\n",
    "        if random() < density:\n",
    "            sets[s, p] = True\n",
    "    for p in range(num_points):\n",
    "        sets[randint(0, num_sets - 1), p] = True\n",
    "    return sets\n"
   ]
  },
  {
   "cell_type": "markdown",
   "id": "82b0be37-21d9-492d-9a1d-cf0cdf0ddd76",
   "metadata": {},
   "source": [
    "# Halloween Challenge\n",
    "\n",
    "Find the best solution with the fewest calls to the fitness functions for:\n",
    "\n",
    "- `num_points = [100, 1_000, 5_000]`\n",
    "- `num_sets = num_points`\n",
    "- `density = [.3, .7]`\n"
   ]
  },
  {
   "cell_type": "code",
   "execution_count": null,
   "id": "221ffdba-5d3d-48cc-bd08-45ccc9366ea6",
   "metadata": {},
   "outputs": [],
   "source": [
    "# x = make_set_covering_problem(1000, 1000, 0.3)\n",
    "# print(\"Element at row=42 and column=42:\", x[42, 42])\n"
   ]
  },
  {
   "cell_type": "markdown",
   "id": "7924f53d",
   "metadata": {},
   "source": [
    "# SOL\n"
   ]
  },
  {
   "cell_type": "code",
   "execution_count": null,
   "id": "32be54f2",
   "metadata": {},
   "outputs": [],
   "source": [
    "State = namedtuple(\"State\", [\"taken\", \"cost\", \"heuristic\"])\n",
    "\n",
    "\n",
    "# solution check\n",
    "def goal_check(state, problem, psize):\n",
    "    return np.all(\n",
    "        reduce(np.logical_or, [problem[i] for i in state.taken], np.zeros(psize))\n",
    "    )\n"
   ]
  },
  {
   "cell_type": "code",
   "execution_count": null,
   "id": "aa74d723",
   "metadata": {},
   "outputs": [],
   "source": [
    "# heuristic functions\n",
    "def h1(taken, problem, psize):\n",
    "    # number of spots covered by the union of the sets in state.taken\n",
    "    return np.sum(reduce(np.logical_or, [problem[i] for i in taken], np.zeros(psize)))\n",
    "\n",
    "\n",
    "# successor function\n",
    "def successor1(state, problem, psize):\n",
    "    return [\n",
    "        State(state.taken + [i], state.cost + 1, h1(state.taken + [i], problem, psize))\n",
    "        for i in range(psize)\n",
    "        if i not in state.taken\n",
    "    ]\n",
    "\n",
    "def hill_climbing_1(init_state, problem, psize):\n",
    "    current = init_state\n",
    "    pb = tqdm()\n",
    "    fit_calls = 0\n",
    "    while True:\n",
    "        neighbors = successor1(current, problem, psize)\n",
    "        fit_calls += len(neighbors)\n",
    "        next = max(neighbors, key=lambda state: state.heuristic)\n",
    "\n",
    "        pb.update(1)\n",
    "        if (\n",
    "            goal_check(current, problem, psize)\n",
    "            or next.heuristic < current.heuristic\n",
    "            or len(current.taken) == psize\n",
    "        ):\n",
    "            return current, fit_calls\n",
    "\n",
    "        current = next\n"
   ]
  },
  {
   "cell_type": "code",
   "execution_count": null,
   "id": "98e40959",
   "metadata": {},
   "outputs": [],
   "source": [
    "PROBLEM_SIZE = [100, 1000, 5000]\n",
    "DENSITY = [0.3, 0.7]\n",
    "INITIAL_STATE = State([], 0, 0)\n",
    "\n",
    "\n",
    "def sparse_to_dense(sparse_matrix):\n",
    "    dense_matrix = sparse_matrix.toarray()\n",
    "    return dense_matrix\n",
    "\n",
    "\n",
    "for p in PROBLEM_SIZE:\n",
    "    for d in DENSITY:\n",
    "        problem = sparse_to_dense(make_set_covering_problem(p, p, d))\n",
    "        print(\"\\nProblem size: \", p, \"Density: \", d)\n",
    "\n",
    "        solution, calls = hill_climbing_1(INITIAL_STATE, problem, p)\n",
    "\n",
    "        print(\" Solution: \", solution.taken)\n",
    "        print(\" Solution Lenght: \", solution.cost)\n",
    "        print(\" Fitness calls: \", calls)\n"
   ]
  },
  {
   "cell_type": "markdown",
   "id": "41128936",
   "metadata": {},
   "source": [
    "Problem size: 100 Density: 0.3\n",
    "7it [00:00, 282.91it/s]\n",
    "Solution: [76, 0, 40, 3, 4, 17]\n",
    "Solution Lenght: 6\n",
    "Fitness calls: 679\n",
    "\n",
    "Problem size: 100 Density: 0.7\n",
    "4it [00:00, 297.12it/s]\n",
    "Solution: [57, 7, 2]\n",
    "Solution Lenght: 3\n",
    "Fitness calls: 394\n",
    "\n",
    "Problem size: 1000 Density: 0.3\n",
    "11it [00:00, 26.89it/s]\n",
    "Solution: [714, 404, 991, 572, 736, 951, 153, 212, 113, 6]\n",
    "Solution Lenght: 10\n",
    "Fitness calls: 10945\n",
    "\n",
    "Problem size: 1000 Density: 0.7\n",
    "5it [00:00, 41.03it/s]\n",
    "Solution: [414, 105, 46, 15]\n",
    "Solution Lenght: 4\n",
    "Fitness calls: 4990\n",
    "\n",
    "Problem size: 5000 Density: 0.3\n",
    "14it [00:03, 4.05it/s]\n",
    "Solution: [1075, 48, 3388, 2040, 803, 3699, 3296, 847, 4699, 3595, 1747, 852, 27]\n",
    "Solution Lenght: 13\n",
    "Fitness calls: 69909\n",
    "\n",
    "Problem size: 5000 Density: 0.7\n",
    "6it [00:01, 4.10it/s]\n",
    "Solution: [309, 1976, 4590, 1639, 5]\n",
    "Solution Lenght: 5\n",
    "Fitness calls: 29985\n"
   ]
  }
 ],
 "metadata": {
  "kernelspec": {
   "display_name": "Python 3 (ipykernel)",
   "language": "python",
   "name": "python3"
  },
  "language_info": {
   "codemirror_mode": {
    "name": "ipython",
    "version": 3
   },
   "file_extension": ".py",
   "mimetype": "text/x-python",
   "name": "python",
   "nbconvert_exporter": "python",
   "pygments_lexer": "ipython3",
   "version": "3.10.12"
  }
 },
 "nbformat": 4,
 "nbformat_minor": 5
}
