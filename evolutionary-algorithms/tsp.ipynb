{
 "cells": [
  {
   "cell_type": "markdown",
   "metadata": {},
   "source": [
    "# Traveling Salesman Problem\n",
    "\n",
    "The Traveling Salesman Problem (TSP) is a classic optimization problem that can be tackled using evolutionary algorithms.\n",
    "\n",
    "**Problem Description**:\n",
    "\n",
    "- You are given a set of n cities and a distance or cost matrix that provides the distances between each pair of cities.\n",
    "- The goal is to find the shortest possible tour that visits each city exactly once and returns to the starting city (completing the circuit). Such a tour is called a Hamiltonian cycle.\n",
    "- The objective is to minimize the total distance or cost of the tour.\n",
    "\n",
    "**Input**:\n",
    "\n",
    "- n: The number of cities (n >= 2).\n",
    "- Distances: A distance matrix D, where D[i][j] represents the distance between city i and city j. The matrix is symmetric, and D[i][i] is usually set to 0 (i.e., the distance from a city to itself is zero).\n",
    "\n",
    "**Output**:\n",
    "\n",
    "- A permutation of the cities representing the order in which they should be visited to form the optimal tour.\n",
    "- The total distance or cost of the optimal tour.\n",
    "\n",
    "**Constraints**:\n",
    "\n",
    "- The tour must visit each city exactly once and return to the starting city.\n",
    "- The problem is typically defined in the Euclidean plane, but it can also be defined in other spaces.\n",
    "- The goal is to find the shortest possible tour, which is a combinatorial optimization problem.\n",
    "\n",
    "Solving the TSP using evolutionary algorithms involves representing potential solutions (tours) as permutations of cities and evolving these permutations to find an optimal or near-optimal tour with the shortest distance. Various evolutionary operators like crossover and mutation are applied to generate new tours, and the fitness function calculates the total distance of a tour. The algorithm aims to find a tour with the minimum total distance, which corresponds to the shortest route that visits all cities.\n",
    "\n",
    "The TSP is a well-known NP-hard problem, and evolutionary algorithms offer a heuristic approach to finding good solutions when an exhaustive search is impractical for large instances.\n"
   ]
  },
  {
   "cell_type": "code",
   "execution_count": 615,
   "metadata": {},
   "outputs": [],
   "source": [
    "import random\n",
    "import numpy as np\n",
    "import math"
   ]
  },
  {
   "cell_type": "code",
   "execution_count": 616,
   "metadata": {},
   "outputs": [],
   "source": [
    "# evolution parameters\n",
    "POPULATION_SIZE = 20\n",
    "MUTATION_RATE = 0.01\n",
    "NUMBER_GENERATIONS = 100\n",
    "\n",
    "# problem parameters\n",
    "NUMBER_CITIES = 50"
   ]
  },
  {
   "cell_type": "code",
   "execution_count": 617,
   "metadata": {},
   "outputs": [],
   "source": [
    "def generate_distance_matrix(num_cities, seed=None):\n",
    "    if seed is not None:\n",
    "        random.seed(seed)  # Set a seed for reproducibility\n",
    "\n",
    "    # empty distance matrix filled with zeros\n",
    "    distance_matrix = [[0] * num_cities for _ in range(num_cities)]\n",
    "\n",
    "    # random city coordinates\n",
    "    city_coordinates = [\n",
    "        (random.uniform(0, 100), random.uniform(0, 100)) for _ in range(num_cities)\n",
    "    ]\n",
    "\n",
    "    for i in range(num_cities):\n",
    "        for j in range(i + 1, num_cities):\n",
    "            x1, y1 = city_coordinates[i]\n",
    "            x2, y2 = city_coordinates[j]\n",
    "            distance = math.sqrt((x1 - x2) ** 2 + (y1 - y2) ** 2)\n",
    "            distance = int(distance)\n",
    "            # Populate both symmetric elements of the matrix\n",
    "            distance_matrix[i][j] = distance\n",
    "            distance_matrix[j][i] = distance\n",
    "\n",
    "    return distance_matrix"
   ]
  },
  {
   "cell_type": "code",
   "execution_count": 618,
   "metadata": {},
   "outputs": [],
   "source": [
    "# population initialization\n",
    "def generate_random_tour(num_cities):\n",
    "    tour = list(range(num_cities))\n",
    "    random.shuffle(tour)\n",
    "    return tour"
   ]
  },
  {
   "cell_type": "markdown",
   "metadata": {},
   "source": [
    "# Fitness\n"
   ]
  },
  {
   "cell_type": "code",
   "execution_count": 619,
   "metadata": {},
   "outputs": [],
   "source": [
    "# Fitness function\n",
    "def fitness(tour, distance_matrix):\n",
    "    tour_distance = 0\n",
    "    num_cities = len(tour)\n",
    "\n",
    "    for i in range(num_cities):\n",
    "        from_city = tour[i]\n",
    "        to_city = tour[(i + 1) % num_cities]\n",
    "        tour_distance += distance_matrix[from_city][to_city]\n",
    "\n",
    "    return tour_distance"
   ]
  },
  {
   "cell_type": "markdown",
   "metadata": {},
   "source": [
    "# The New Generation\n"
   ]
  },
  {
   "cell_type": "code",
   "execution_count": 620,
   "metadata": {},
   "outputs": [],
   "source": [
    "TOURNAMENT_SIZE = 5\n",
    "\n",
    "\n",
    "def tournament_selection(population, distance_matrix):\n",
    "    tournaments_winners = []\n",
    "    for i in range(len(population)):\n",
    "        # randomly select k individuals from the population\n",
    "        tournament = random.sample(population, TOURNAMENT_SIZE)\n",
    "        # sort the selected individuals according to their fitness\n",
    "        tournament.sort(key=lambda tour: fitness(tour, distance_matrix))\n",
    "        # select the best individual from the tournament\n",
    "        winner = tournament[0]\n",
    "        tournaments_winners.append(winner)\n",
    "    return tournaments_winners"
   ]
  },
  {
   "cell_type": "code",
   "execution_count": 621,
   "metadata": {},
   "outputs": [],
   "source": [
    "CROSSOVER_POINT = NUMBER_CITIES // 2\n",
    "\n",
    "\n",
    "def reproduce(tournaments_winners):\n",
    "    new_population = []\n",
    "    for j in range(POPULATION_SIZE):\n",
    "        child = random.sample(tournaments_winners, 1)[0]\n",
    "\n",
    "        if random.random() < MUTATION_RATE:\n",
    "            # mutate by swapping two cities\n",
    "            swap_index1, swap_index2 = random.sample(range(NUMBER_CITIES), 2)\n",
    "            child[swap_index1], child[swap_index2] = (\n",
    "                child[swap_index2],\n",
    "                child[swap_index1],\n",
    "            )\n",
    "\n",
    "        new_population.append(child)\n",
    "\n",
    "    return new_population"
   ]
  },
  {
   "cell_type": "markdown",
   "metadata": {},
   "source": [
    "# Run\n"
   ]
  },
  {
   "cell_type": "code",
   "execution_count": 622,
   "metadata": {},
   "outputs": [
    {
     "name": "stdout",
     "output_type": "stream",
     "text": [
      "Best [10, 35, 34, 21, 11, 9, 31, 22, 7, 3, 38, 6, 16, 48, 20, 36, 30, 0, 2, 44, 32, 18, 12, 5, 24, 8, 4, 41, 49, 33, 23, 25, 46, 45, 1, 39, 27, 17, 40, 19, 14, 29, 43, 42, 26, 28, 15, 47, 13, 37]\n",
      "Best tour length 2659\n"
     ]
    }
   ],
   "source": [
    "distance_matrix = generate_distance_matrix(NUMBER_CITIES, seed=42)\n",
    "\n",
    "population = [generate_random_tour(NUMBER_CITIES) for i in range(POPULATION_SIZE)]\n",
    "\n",
    "\n",
    "for i in range(NUMBER_GENERATIONS):\n",
    "    # select the best parents by tournament selection\n",
    "    tournaments_winners = tournament_selection(population, distance_matrix)\n",
    "\n",
    "    # create new population by random mutation\n",
    "    new_population = reproduce(tournaments_winners)\n",
    "\n",
    "    population = new_population\n",
    "\n",
    "# print the best tour\n",
    "best = sorted(population, key=lambda x: fitness(x, distance_matrix))[0]\n",
    "print(\"Best\", best)\n",
    "print(\"Best tour length\", fitness(best, distance_matrix))"
   ]
  }
 ],
 "metadata": {
  "kernelspec": {
   "display_name": ".envCI",
   "language": "python",
   "name": "python3"
  },
  "language_info": {
   "codemirror_mode": {
    "name": "ipython",
    "version": 3
   },
   "file_extension": ".py",
   "mimetype": "text/x-python",
   "name": "python",
   "nbconvert_exporter": "python",
   "pygments_lexer": "ipython3",
   "version": "3.10.12"
  }
 },
 "nbformat": 4,
 "nbformat_minor": 2
}
