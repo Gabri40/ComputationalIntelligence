{
 "cells": [
  {
   "cell_type": "markdown",
   "metadata": {},
   "source": [
    "# Traveling Salesman Problem\n",
    "\n",
    "The Traveling Salesman Problem (TSP) is a classic optimization problem that can be tackled using evolutionary algorithms.\n",
    "\n",
    "**Problem Description**:\n",
    "\n",
    "- You are given a set of n cities and a distance or cost matrix that provides the distances between each pair of cities.\n",
    "- The goal is to find the shortest possible tour that visits each city exactly once and returns to the starting city (completing the circuit). Such a tour is called a Hamiltonian cycle.\n",
    "- The objective is to minimize the total distance or cost of the tour.\n",
    "\n",
    "**Input**:\n",
    "\n",
    "- n: The number of cities (n >= 2).\n",
    "- Distances: A distance matrix D, where D[i][j] represents the distance between city i and city j. The matrix is symmetric, and D[i][i] is usually set to 0 (i.e., the distance from a city to itself is zero).\n",
    "\n",
    "**Output**:\n",
    "\n",
    "- A permutation of the cities representing the order in which they should be visited to form the optimal tour.\n",
    "- The total distance or cost of the optimal tour.\n",
    "\n",
    "**Constraints**:\n",
    "\n",
    "- The tour must visit each city exactly once and return to the starting city.\n",
    "- The problem is typically defined in the Euclidean plane, but it can also be defined in other spaces.\n",
    "- The goal is to find the shortest possible tour, which is a combinatorial optimization problem.\n",
    "\n",
    "Solving the TSP using evolutionary algorithms involves representing potential solutions (tours) as permutations of cities and evolving these permutations to find an optimal or near-optimal tour with the shortest distance. Various evolutionary operators like crossover and mutation are applied to generate new tours, and the fitness function calculates the total distance of a tour. The algorithm aims to find a tour with the minimum total distance, which corresponds to the shortest route that visits all cities.\n",
    "\n",
    "The TSP is a well-known NP-hard problem, and evolutionary algorithms offer a heuristic approach to finding good solutions when an exhaustive search is impractical for large instances.\n"
   ]
  },
  {
   "cell_type": "code",
   "execution_count": 32,
   "metadata": {},
   "outputs": [],
   "source": [
    "import random\n",
    "import numpy as np\n",
    "import math"
   ]
  },
  {
   "cell_type": "code",
   "execution_count": 33,
   "metadata": {},
   "outputs": [],
   "source": [
    "# evolution parameters\n",
    "POPULATION_SIZE = 20\n",
    "MUTATION_RATE = 0.01\n",
    "NUMBER_GENERATIONS = 100\n",
    "\n",
    "# problem parameters\n",
    "NUMBER_CITIES = 1500"
   ]
  },
  {
   "cell_type": "code",
   "execution_count": 34,
   "metadata": {},
   "outputs": [],
   "source": [
    "def generate_distance_matrix(num_cities, seed=None):\n",
    "    if seed is not None:\n",
    "        random.seed(seed)  # Set a seed for reproducibility\n",
    "\n",
    "    # empty distance matrix filled with zeros\n",
    "    distance_matrix = [[0] * num_cities for _ in range(num_cities)]\n",
    "\n",
    "    # random city coordinates\n",
    "    city_coordinates = [\n",
    "        (random.uniform(0, 100), random.uniform(0, 100)) for _ in range(num_cities)\n",
    "    ]\n",
    "\n",
    "    for i in range(num_cities):\n",
    "        for j in range(i + 1, num_cities):\n",
    "            x1, y1 = city_coordinates[i]\n",
    "            x2, y2 = city_coordinates[j]\n",
    "            distance = math.sqrt((x1 - x2) ** 2 + (y1 - y2) ** 2)\n",
    "            distance = int(distance)\n",
    "            # Populate both symmetric elements of the matrix\n",
    "            distance_matrix[i][j] = distance\n",
    "            distance_matrix[j][i] = distance\n",
    "\n",
    "    return distance_matrix"
   ]
  },
  {
   "cell_type": "code",
   "execution_count": 35,
   "metadata": {},
   "outputs": [],
   "source": [
    "# population initialization\n",
    "def generate_random_tour(num_cities):\n",
    "    tour = list(range(num_cities))\n",
    "    random.shuffle(tour)\n",
    "    return tour"
   ]
  },
  {
   "cell_type": "markdown",
   "metadata": {},
   "source": [
    "# Fitness\n"
   ]
  },
  {
   "cell_type": "code",
   "execution_count": 36,
   "metadata": {},
   "outputs": [],
   "source": [
    "# Fitness function\n",
    "def fitness(tour, distance_matrix):\n",
    "    tour_distance = 0\n",
    "    num_cities = len(tour)\n",
    "\n",
    "    for i in range(num_cities):\n",
    "        from_city = tour[i]\n",
    "        to_city = tour[(i + 1) % num_cities]\n",
    "        tour_distance += distance_matrix[from_city][to_city]\n",
    "\n",
    "    return tour_distance"
   ]
  },
  {
   "cell_type": "markdown",
   "metadata": {},
   "source": [
    "# The New Generation\n"
   ]
  },
  {
   "cell_type": "code",
   "execution_count": 37,
   "metadata": {},
   "outputs": [],
   "source": [
    "TOURNAMENT_SIZE = 5\n",
    "\n",
    "\n",
    "def tournament_selection(population, distance_matrix):\n",
    "    tournaments_winners = []\n",
    "    for i in range(len(population)):\n",
    "        # randomly select k individuals from the population\n",
    "        tournament = random.sample(population, TOURNAMENT_SIZE)\n",
    "        # sort the selected individuals according to their fitness\n",
    "        tournament.sort(key=lambda tour: fitness(tour, distance_matrix))\n",
    "        # select the best individual from the tournament\n",
    "        winner = tournament[0]\n",
    "        tournaments_winners.append(winner)\n",
    "    return tournaments_winners"
   ]
  },
  {
   "cell_type": "code",
   "execution_count": 38,
   "metadata": {},
   "outputs": [],
   "source": [
    "def reproduce(tournaments_winners):\n",
    "    new_population = []\n",
    "    for j in range(POPULATION_SIZE):\n",
    "        child = random.sample(tournaments_winners, 1)[0]\n",
    "\n",
    "        if random.random() < MUTATION_RATE:\n",
    "            # mutate by swapping two cities\n",
    "            swap_index1, swap_index2 = random.sample(range(NUMBER_CITIES), 2)\n",
    "            child[swap_index1], child[swap_index2] = (\n",
    "                child[swap_index2],\n",
    "                child[swap_index1],\n",
    "            )\n",
    "\n",
    "        new_population.append(child)\n",
    "\n",
    "    return new_population"
   ]
  },
  {
   "cell_type": "markdown",
   "metadata": {},
   "source": [
    "# Run\n"
   ]
  },
  {
   "cell_type": "code",
   "execution_count": 39,
   "metadata": {},
   "outputs": [
    {
     "name": "stdout",
     "output_type": "stream",
     "text": [
      "Number cities 1500\n",
      "Best [1301, 1034, 189, 945, 37, 1472, 501, 255, 736, 61, 1454, 52, 835, 19, 645, 167, 1499, 1480, 894, 907, 1047, 409, 1214, 196, 1483, 1026, 135, 533, 1297, 301, 312, 1465, 7, 982, 854, 64, 270, 776, 277, 857, 589, 1498, 417, 1345, 688, 1001, 1348, 665, 672, 224, 385, 1204, 105, 1451, 362, 770, 142, 1269, 180, 1253, 354, 1489, 401, 435, 1389, 1169, 1085, 1002, 1491, 602, 355, 969, 1159, 1051, 412, 571, 1019, 1271, 309, 1099, 30, 1014, 649, 1332, 1432, 732, 1285, 478, 1135, 1273, 1157, 276, 728, 575, 236, 1393, 744, 808, 1459, 113, 1116, 1446, 285, 1421, 112, 1134, 2, 774, 137, 1258, 1175, 165, 716, 248, 437, 369, 1466, 200, 456, 1236, 877, 1475, 438, 1420, 1106, 1265, 508, 1394, 726, 286, 1419, 1049, 1155, 1179, 1079, 249, 1381, 467, 778, 794, 799, 82, 632, 506, 483, 1191, 351, 493, 416, 1435, 526, 865, 203, 710, 543, 140, 1069, 280, 166, 869, 1149, 50, 1377, 968, 1490, 120, 1369, 845, 531, 55, 47, 1162, 668, 320, 1365, 973, 579, 1434, 306, 1059, 610, 988, 348, 1428, 757, 1109, 322, 315, 1401, 216, 949, 1463, 1101, 268, 759, 433, 104, 527, 763, 429, 1202, 1484, 1081, 978, 261, 903, 80, 125, 238, 1450, 1203, 1024, 1113, 1233, 773, 832, 898, 237, 475, 817, 1195, 768, 340, 484, 477, 1385, 591, 1125, 924, 150, 485, 1310, 625, 1356, 257, 940, 183, 1395, 791, 1284, 375, 931, 464, 254, 919, 1193, 1074, 1286, 782, 126, 1373, 786, 1037, 305, 677, 682, 563, 281, 1206, 749, 1138, 1279, 1452, 787, 525, 1055, 151, 524, 469, 1267, 1048, 288, 1094, 365, 63, 1245, 73, 629, 426, 1164, 296, 622, 743, 94, 797, 941, 1324, 1296, 304, 1061, 1328, 482, 1374, 271, 562, 356, 40, 650, 107, 1492, 377, 986, 303, 1252, 95, 1213, 1006, 1004, 1423, 993, 686, 1092, 235, 486, 79, 880, 174, 846, 967, 795, 181, 1339, 762, 84, 892, 1244, 618, 693, 124, 54, 657, 11, 1060, 260, 764, 1416, 825, 871, 914, 633, 1227, 1016, 595, 518, 959, 1132, 175, 1105, 217, 391, 951, 1183, 1218, 1470, 1281, 18, 198, 1427, 735, 923, 443, 1303, 9, 592, 5, 1398, 1485, 16, 472, 831, 41, 337, 694, 336, 1020, 447, 987, 221, 492, 134, 1274, 890, 920, 332, 1256, 1167, 163, 250, 1335, 1010, 457, 874, 1021, 1417, 966, 1238, 1111, 1355, 139, 8, 253, 308, 870, 680, 965, 1461, 1383, 149, 875, 521, 1359, 342, 707, 836, 1219, 1234, 905, 1347, 489, 687, 90, 35, 141, 1327, 1473, 528, 1391, 796, 1479, 1441, 594, 881, 1458, 860, 225, 1041, 552, 1187, 300, 741, 392, 512, 1396, 1103, 242, 556, 689, 62, 747, 1319, 1407, 612, 1370, 1344, 127, 434, 891, 634, 667, 1231, 824, 282, 553, 666, 810, 316, 1139, 961, 1137, 1003, 1333, 450, 1307, 1302, 1320, 410, 51, 1150, 148, 89, 1151, 631, 927, 1028, 424, 1415, 1197, 161, 597, 933, 1156, 33, 430, 1095, 109, 599, 77, 887, 103, 807, 1496, 1052, 537, 785, 1329, 1397, 27, 856, 441, 643, 779, 621, 87, 829, 962, 615, 323, 498, 1065, 1469, 479, 324, 1414, 154, 861, 1439, 1000, 753, 1025, 608, 948, 852, 1250, 1440, 609, 529, 981, 1177, 1264, 1290, 204, 1341, 422, 760, 569, 761, 481, 902, 402, 218, 1176, 956, 418, 1200, 36, 653, 195, 222, 647, 1172, 1170, 1340, 408, 333, 917, 372, 474, 590, 1390, 1322, 1376, 1343, 431, 415, 213, 361, 128, 818, 1007, 554, 420, 470, 43, 593, 307, 1119, 21, 376, 654, 1280, 692, 178, 1084, 147, 646, 368, 714, 600, 545, 1168, 916, 963, 755, 853, 243, 504, 619, 1045, 395, 585, 274, 996, 75, 558, 577, 929, 229, 708, 580, 1326, 59, 876, 3, 784, 6, 239, 850, 1165, 939, 685, 849, 173, 17, 1189, 1408, 752, 66, 695, 1207, 777, 1405, 1184, 164, 992, 1338, 985, 1482, 251, 972, 1082, 1437, 449, 343, 199, 1375, 691, 230, 65, 517, 932, 1471, 389, 400, 57, 1190, 702, 473, 358, 179, 256, 349, 156, 14, 582, 44, 1372, 1367, 970, 1263, 950, 737, 1298, 452, 146, 1123, 842, 630, 446, 247, 1456, 85, 1011, 397, 38, 234, 114, 739, 490, 1098, 1476, 977, 1042, 867, 843, 568, 88, 206, 1229, 122, 111, 267, 583, 803, 293, 722, 1313, 439, 1220, 804, 262, 1056, 335, 549, 1022, 68, 500, 162, 118, 1071, 652, 1430, 1160, 751, 678, 131, 1425, 712, 1027, 404, 709, 1100, 750, 957, 259, 1115, 1237, 284, 855, 423, 425, 10, 706, 419, 279, 754, 669, 209, 1128, 886, 727, 839, 1192, 432, 264, 1314, 636, 904, 613, 1043, 159, 911, 1009, 380, 233, 1392, 947, 338, 889, 1406, 983, 1118, 937, 705, 1309, 390, 46, 15, 1072, 1097, 1154, 1276, 507, 208, 1096, 74, 327, 729, 226, 190, 468, 1217, 219, 1305, 639, 697, 379, 809, 1031, 1426, 520, 823, 444, 1222, 1126, 1196, 360, 944, 394, 1316, 48, 979, 547, 1212, 756, 321, 656, 177, 555, 584, 765, 1136, 1293, 91, 1412, 895, 540, 1364, 715, 700, 841, 1336, 789, 805, 922, 980, 953, 624, 495, 574, 329, 106, 1130, 24, 899, 78, 386, 445, 1078, 436, 641, 299, 1295, 1288, 910, 138, 878, 289, 1008, 1093, 559, 775, 403, 534, 1247, 719, 588, 1353, 1153, 1194, 1311, 1032, 93, 532, 1362, 101, 1404, 1260, 772, 1017, 675, 387, 1443, 491, 991, 366, 1114, 413, 813, 1030, 1129, 837, 1044, 1292, 374, 1318, 346, 67, 567, 684, 119, 1083, 802, 1089, 851, 561, 674, 1409, 1163, 627, 1352, 617, 1090, 1038, 102, 921, 171, 530, 604, 184, 960, 357, 110, 1144, 319, 1029, 123, 1140, 909, 550, 39, 1306, 31, 455, 838, 1050, 152, 1205, 954, 790, 995, 866, 723, 451, 912, 1077, 587, 1088, 1349, 158, 1424, 1448, 1386, 99, 353, 223, 548, 186, 510, 1243, 651, 1410, 176, 71, 879, 383, 576, 581, 1400, 819, 28, 313, 1110, 334, 4, 12, 541, 1, 172, 1282, 382, 1291, 1035, 1360, 681, 620, 1015, 20, 1142, 536, 1380, 1241, 1121, 347, 1131, 1180, 662, 359, 232, 1371, 411, 266, 188, 92, 1487, 1403, 1436, 1057, 1141, 1275, 363, 318, 1462, 187, 703, 283, 971, 780, 834, 793, 826, 192, 1185, 679, 244, 1251, 60, 371, 367, 1201, 398, 330, 847, 1067, 145, 245, 733, 1080, 13, 644, 295, 833, 1262, 476, 676, 623, 143, 1442, 440, 811, 273, 882, 1005, 56, 516, 1321, 133, 725, 130, 302, 976, 1224, 117, 918, 45, 350, 132, 1399, 1221, 1166, 942, 108, 551, 952, 458, 1228, 1181, 214, 642, 974, 1039, 1422, 263, 505, 658, 275, 157, 731, 655, 480, 746, 758, 883, 1145, 745, 535, 616, 771, 1240, 1173, 1208, 393, 848, 115, 989, 42, 499, 1357, 25, 1467, 1215, 1223, 462, 502, 448, 459, 1270, 53, 560, 317, 1122, 503, 1289, 906, 1278, 663, 1494, 601, 1246, 1464, 272, 1453, 1387, 1379, 696, 298, 539, 828, 160, 191, 1388, 155, 815, 364, 1444, 1146, 606, 1147, 1036, 635, 388, 228, 32, 661, 345, 1331, 740, 896, 72, 718, 1254, 542, 1361, 1239, 1429, 1018, 640, 1257, 185, 1433, 626, 648, 466, 1102, 720, 683, 182, 1023, 352, 713, 821, 1351, 1120, 1143, 428, 1334, 1418, 938, 664, 97, 913, 566, 1325, 721, 1447, 734, 519, 935, 58, 844, 598, 202, 1261, 49, 370, 1161, 442, 1413, 884, 816, 76, 1277, 1174, 943, 901, 1402, 81, 806, 1268, 1188, 738, 488, 1308, 1493, 1178, 201, 1477, 220, 1232, 86, 783, 1062, 769, 1158, 1242, 1148, 999, 212, 544, 888, 1210, 453, 1013, 1317, 497, 994, 207, 26, 170, 730, 1346, 859, 1481, 1040, 515, 1312, 573, 1488, 116, 863, 885, 1012, 494, 1378, 1226, 1235, 915, 211, 1070, 460, 596, 997, 344, 1198, 872, 955, 1283, 231, 523, 781, 83, 557, 699, 1330, 314, 930, 1249, 1108, 603, 611, 897, 1382, 964, 1225, 1445, 210, 1073, 637, 1066, 240, 1304, 22, 670, 564, 291, 908, 421, 1384, 1199, 252, 822, 1337, 565, 1366, 144, 717, 509, 396, 1211, 800, 858, 1323, 326, 801, 496, 328, 1449, 294, 287, 840, 121, 136, 1216, 1255, 427, 638, 586, 514, 153, 0, 614, 278, 659, 958, 975, 862, 1068, 798, 607, 820, 100, 570, 414, 868, 1248, 1107, 311, 1486, 1266, 1457, 1300, 339, 205, 325, 766, 341, 1087, 471, 1104, 742, 1091, 96, 1075, 1086, 1152, 310, 1230, 1076, 724, 406, 34, 454, 290, 399, 1046, 814, 1460, 1033, 169, 1133, 893, 926, 628, 711, 1411, 605, 1127, 246, 227, 936, 465, 193, 258, 1112, 1363, 1315, 873, 748, 129, 1438, 1063, 701, 1478, 197, 1358, 934, 1124, 998, 698, 522, 381, 1431, 690, 1053, 1342, 572, 241, 900, 1117, 538, 1272, 928, 407, 925, 830, 1474, 1287, 384, 704, 990, 984, 1171, 23, 660, 812, 331, 487, 69, 1299, 1497, 29, 373, 405, 98, 1294, 788, 70, 1186, 297, 1354, 767, 864, 671, 269, 546, 1182, 1058, 1064, 1209, 1368, 946, 1455, 673, 792, 1495, 378, 513, 463, 511, 215, 1259, 578, 827, 1468, 194, 168, 1350, 461, 292, 265, 1054]\n",
      "Best tour length 75874\n"
     ]
    }
   ],
   "source": [
    "distance_matrix = generate_distance_matrix(NUMBER_CITIES, seed=42)\n",
    "\n",
    "population = [generate_random_tour(NUMBER_CITIES) for i in range(POPULATION_SIZE)]\n",
    "\n",
    "\n",
    "for generation in range(NUMBER_GENERATIONS):\n",
    "    # select the best parents by tournament selection\n",
    "    tournaments_winners = tournament_selection(population, distance_matrix)\n",
    "\n",
    "    # create new population by random mutation\n",
    "    new_population = reproduce(tournaments_winners)\n",
    "\n",
    "    population = new_population\n",
    "\n",
    "    best_fitness_current = min(\n",
    "        fitness(individual, distance_matrix) for individual in population\n",
    "    )\n",
    "\n",
    "\n",
    "# print the best tour\n",
    "best = sorted(population, key=lambda x: fitness(x, distance_matrix))[0]\n",
    "print(\"Number cities\", NUMBER_CITIES)\n",
    "print(\"Best\", best)\n",
    "print(\"Best tour length\", fitness(best, distance_matrix))"
   ]
  }
 ],
 "metadata": {
  "kernelspec": {
   "display_name": ".envCI",
   "language": "python",
   "name": "python3"
  },
  "language_info": {
   "codemirror_mode": {
    "name": "ipython",
    "version": 3
   },
   "file_extension": ".py",
   "mimetype": "text/x-python",
   "name": "python",
   "nbconvert_exporter": "python",
   "pygments_lexer": "ipython3",
   "version": "3.10.12"
  }
 },
 "nbformat": 4,
 "nbformat_minor": 2
}
