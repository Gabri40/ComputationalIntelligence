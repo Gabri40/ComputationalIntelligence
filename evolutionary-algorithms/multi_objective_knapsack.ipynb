{
 "cells": [
  {
   "cell_type": "markdown",
   "metadata": {},
   "source": [
    "# Multi-Objective Knapsack Problem\n",
    "\n",
    "Extends the classic Knapsack Problem by introducing multiple conflicting objectives to optimize simultaneously. This problem is of interest when you have several criteria to consider when selecting items for the knapsack, and these criteria may conflict with each other.\n",
    "\n",
    "In the Multi-Objective Knapsack Problem:\n",
    "\n",
    "- You are given a set of items, each with multiple attributes (e.g., weight, value, and one or more additional attributes).\n",
    "- You have a knapsack with limited capacity.\n",
    "- There are multiple objectives to optimize, such as maximizing the total value, minimizing the total weight, and optimizing other attributes simultaneously.\n",
    "\n",
    "The challenge in MOKP is to find a set of items to include in the knapsack that provides a trade-off between the conflicting objectives. It's common to use evolutionary algorithms, such as multi-objective genetic algorithms, to solve this problem.\n",
    "\n",
    "## MOKP - Robot Fleet\n",
    "\n",
    "You are in charge of selecting a team of robots for a space mission. You have a limited energy reserve on your spacecraft, and you need to decide which robots to take with you. Each robot has three attributes: energy consumption, repairability, and task completion time.\n",
    "\n",
    "- Energy Consumption (EC): The amount of energy a robot consumes during the mission. Lower values are preferred as they reduce the need for recharging or refueling.\n",
    "\n",
    "- Repairability (R): A measure of how easily a robot can be repaired if it malfunctions during the mission. Higher values indicate greater repairability.\n",
    "\n",
    "- Task Completion Time (TCT): The time it takes for a robot to complete its assigned tasks. Shorter task completion times are preferred for efficiency.\n",
    "\n",
    "You have a fixed energy reserve (C) for your spacecraft, and you want to maximize the following objectives:\n",
    "\n",
    "1. Maximize the total repairability (sum of repairability values) of the selected robots.\n",
    "2. Minimize the total energy consumption (sum of energy consumption values) of the selected robots.\n",
    "3. Minimize the total task completion time (sum of task completion time values) of the selected robots.\n",
    "\n",
    "Formally, the Multi-Objective Knapsack Problem can be described as follows:\n",
    "\n",
    "- Given a set of n robots, each with attributes (EC_i, R_i, TCT_i), where i = 1 to n.\n",
    "- Given a spacecraft with a energy reserve (C).\n",
    "- Find a subset of robots to include in the mission that maximizes repairability, minimizes energy consumption, and minimizes task completion time, while ensuring that the total energy consumption (sum of EC_i) of the selected robots does not exceed the energy reserve (C).\n"
   ]
  },
  {
   "cell_type": "code",
   "execution_count": 328,
   "metadata": {},
   "outputs": [],
   "source": [
    "import random\n",
    "from collections import namedtuple\n",
    "import numpy as np"
   ]
  },
  {
   "cell_type": "code",
   "execution_count": 329,
   "metadata": {},
   "outputs": [],
   "source": [
    "# evolution parameters\n",
    "POPULATION_SIZE = 50\n",
    "MUTATION_RATE = 0.05\n",
    "NUMBER_GENERATIONS = 200\n",
    "\n",
    "# problem parameters\n",
    "NUMBER_ROBOT = 20\n",
    "MAX_EC = 100  # energy req\n",
    "MAX_R = 100  # reliability\n",
    "MAX_TCT = 100  # time to task completion\n",
    "ENERGY_RESERVE = 1000  # max energy reserve of the ship"
   ]
  },
  {
   "cell_type": "code",
   "execution_count": 330,
   "metadata": {},
   "outputs": [],
   "source": [
    "# define named tuple for the robot\n",
    "Robot = namedtuple(\"Robot\", [\"ec\", \"r\", \"tct\"])\n",
    "\n",
    "# build robots inventory\n",
    "robots = [\n",
    "    Robot(\n",
    "        random.randint(1, MAX_EC),\n",
    "        random.randint(1, MAX_R),\n",
    "        random.randint(1, MAX_TCT),\n",
    "    )\n",
    "    for _ in range(NUMBER_ROBOT)\n",
    "]\n",
    "\n",
    "# initialize population -> genome is a list of 0 and 1 (genes) (0: robot not selected, 1: robot selected)\n",
    "population = [\n",
    "    [random.randint(0, 1) for _ in range(NUMBER_ROBOT)] for _ in range(POPULATION_SIZE)\n",
    "]"
   ]
  },
  {
   "cell_type": "markdown",
   "metadata": {},
   "source": [
    "# Fitness Functions\n"
   ]
  },
  {
   "cell_type": "code",
   "execution_count": 331,
   "metadata": {},
   "outputs": [],
   "source": [
    "# min(sum(ec)), max(sum(r)), min(sum(tct)) while sum(ec) <= ENERGY_RESERVE\n",
    "# maximize reliability and minimize time to task completion and total energy -> max(r/tct) while sum(ec) <= ENERGY_RESERVE\n",
    "def fitness1(genome):\n",
    "    count = genome.count(1)\n",
    "    ec = 0\n",
    "    r = 0\n",
    "    tct = 0\n",
    "    for i, gene in enumerate(genome):\n",
    "        if gene == 1:\n",
    "            ec += robots[i].ec\n",
    "            r += robots[i].r\n",
    "            tct += robots[i].tct\n",
    "    # penalize if energy reserve is exceeded or genome is all 0\n",
    "    if ec > ENERGY_RESERVE or count == 0:\n",
    "        return 0\n",
    "    return r / tct"
   ]
  },
  {
   "cell_type": "code",
   "execution_count": 332,
   "metadata": {},
   "outputs": [],
   "source": [
    "def fitness2(genome):\n",
    "    # linear combo of weights and vars\n",
    "    W_EC = -0.5\n",
    "    W_R = 0.3\n",
    "    W_TCT = -0.2\n",
    "\n",
    "    count = genome.count(1)\n",
    "    ec = 0\n",
    "    r = 0\n",
    "    tct = 0\n",
    "\n",
    "    for i, gene in enumerate(genome):\n",
    "        if gene == 1:\n",
    "            ec += robots[i].ec\n",
    "            r += robots[i].r\n",
    "            tct += robots[i].tct\n",
    "\n",
    "    fitness = W_EC * ec + W_R * r + W_TCT * tct\n",
    "    if ec > ENERGY_RESERVE or fitness <= 0:\n",
    "        return 0\n",
    "    return fitness"
   ]
  },
  {
   "cell_type": "markdown",
   "metadata": {},
   "source": [
    "# Parent Selection\n"
   ]
  },
  {
   "cell_type": "code",
   "execution_count": 333,
   "metadata": {},
   "outputs": [],
   "source": [
    "def wheel_roulette(population, fitness_function):\n",
    "    # fitness eval\n",
    "    fitness_scores = [fitness_function(genome) + 0.001 for genome in population]\n",
    "\n",
    "    # parents selection ! with fitness2 fitness can be negative\n",
    "    selected_parents = random.choices(\n",
    "        population,\n",
    "        weights=fitness_scores,\n",
    "        k=POPULATION_SIZE,  # select all as parents anyway\n",
    "    )\n",
    "\n",
    "    return selected_parents"
   ]
  },
  {
   "cell_type": "markdown",
   "metadata": {},
   "source": [
    "# Oh they are having sex\n"
   ]
  },
  {
   "cell_type": "code",
   "execution_count": 334,
   "metadata": {},
   "outputs": [],
   "source": [
    "def reproduce1(parent1, parent2):\n",
    "    # recombination\n",
    "    child1 = parent1[: NUMBER_ROBOT // 2] + parent2[NUMBER_ROBOT // 2 :]\n",
    "    child2 = parent2[: NUMBER_ROBOT // 2] + parent1[NUMBER_ROBOT // 2 :]\n",
    "\n",
    "    # mutation\n",
    "    child1 = [1 - gene if random.random() < MUTATION_RATE else gene for gene in child1]\n",
    "    child2 = [\n",
    "        1 - gene if random.random() < MUTATION_RATE else gene for gene in child2\n",
    "    ]  # chance of mutation ie invert gene\n",
    "\n",
    "    return child1, child2"
   ]
  },
  {
   "cell_type": "code",
   "execution_count": 335,
   "metadata": {},
   "outputs": [],
   "source": [
    "def reproduce2(parent1, parent2):\n",
    "    # mutation\n",
    "    child1 = [1 - gene if random.random() < MUTATION_RATE else gene for gene in parent1]\n",
    "    child2 = [\n",
    "        1 - gene if random.random() < MUTATION_RATE else gene for gene in parent2\n",
    "    ]  # chance of mutation ie invert gene\n",
    "\n",
    "    return child1, child2"
   ]
  },
  {
   "cell_type": "markdown",
   "metadata": {},
   "source": [
    "# Run\n"
   ]
  },
  {
   "cell_type": "code",
   "execution_count": 336,
   "metadata": {},
   "outputs": [],
   "source": [
    "def run(population, fitness_function, parent_selection, reproduction_function):\n",
    "    for generation in range(NUMBER_GENERATIONS):\n",
    "        # parent selection\n",
    "        selected_parents = parent_selection(population, fitness_function)\n",
    "\n",
    "        new_population = []\n",
    "        for _ in range(POPULATION_SIZE):\n",
    "            parent1, parent2 = random.choices(selected_parents, k=2)\n",
    "\n",
    "            child1, child2 = reproduction_function(parent1, parent2)\n",
    "\n",
    "            new_population.append(child1)\n",
    "            new_population.append(child2)\n",
    "\n",
    "        population = new_population\n",
    "\n",
    "    # best solution\n",
    "    best_chromosome = max(population, key=fitness1)\n",
    "    print()\n",
    "    print(\n",
    "        fitness_function.__name__\n",
    "        + \" - \"\n",
    "        + parent_selection.__name__\n",
    "        + \" - \"\n",
    "        + reproduction_function.__name__\n",
    "    )\n",
    "    print(\" Best solution:\", best_chromosome)\n",
    "    print(\n",
    "        \" Total EC     :\",\n",
    "        sum([robots[i].ec for i, gene in enumerate(best_chromosome) if gene == 1]),\n",
    "    )\n",
    "    print(\n",
    "        \" Mean R /100  :\",\n",
    "        np.mean([robots[i].r for i, gene in enumerate(best_chromosome) if gene == 1]),\n",
    "    )\n",
    "    print(\n",
    "        \" Mean TCT /100:\",\n",
    "        np.mean([robots[i].tct for i, gene in enumerate(best_chromosome) if gene == 1]),\n",
    "    )\n",
    "\n",
    "    return best_chromosome"
   ]
  },
  {
   "cell_type": "code",
   "execution_count": 337,
   "metadata": {},
   "outputs": [
    {
     "name": "stdout",
     "output_type": "stream",
     "text": [
      "\n",
      "fitness1 - wheel_roulette - reproduce1\n",
      " Best solution: [0, 0, 0, 0, 0, 1, 0, 0, 0, 0, 0, 0, 0, 0, 0, 0, 0, 0, 0, 0]\n",
      " Total EC     : 1\n",
      " Mean R /100  : 48.0\n",
      " Mean TCT /100: 1.0\n",
      "\n",
      "fitness2 - wheel_roulette - reproduce1\n",
      " Best solution: [0, 0, 0, 0, 0, 1, 0, 0, 0, 1, 0, 0, 0, 0, 0, 0, 1, 1, 0, 0]\n",
      " Total EC     : 51\n",
      " Mean R /100  : 69.75\n",
      " Mean TCT /100: 14.0\n",
      "\n",
      "fitness1 - wheel_roulette - reproduce2\n",
      " Best solution: [0, 0, 0, 0, 0, 1, 0, 0, 0, 0, 0, 0, 0, 0, 0, 0, 0, 0, 0, 0]\n",
      " Total EC     : 1\n",
      " Mean R /100  : 48.0\n",
      " Mean TCT /100: 1.0\n",
      "\n",
      "fitness2 - wheel_roulette - reproduce2\n",
      " Best solution: [0, 0, 0, 0, 0, 1, 0, 0, 0, 1, 0, 1, 0, 0, 0, 0, 1, 1, 0, 0]\n",
      " Total EC     : 55\n",
      " Mean R /100  : 70.0\n",
      " Mean TCT /100: 15.4\n"
     ]
    }
   ],
   "source": [
    "best1 = run(population, fitness1, wheel_roulette, reproduce1)\n",
    "best2 = run(population, fitness2, wheel_roulette, reproduce1)\n",
    "best3 = run(population, fitness1, wheel_roulette, reproduce2)\n",
    "best4 = run(population, fitness2, wheel_roulette, reproduce2)"
   ]
  },
  {
   "cell_type": "markdown",
   "metadata": {},
   "source": [
    "# Trying smt\n"
   ]
  },
  {
   "cell_type": "code",
   "execution_count": 338,
   "metadata": {},
   "outputs": [
    {
     "name": "stdout",
     "output_type": "stream",
     "text": [
      "[Robot(ec=1, r=48, tct=1)]\n"
     ]
    }
   ],
   "source": [
    "best = np.logical_and(best1, best2)\n",
    "best = np.logical_and(best, best3)\n",
    "best = np.logical_and(best, best4)\n",
    "print([robots[i] for i in range(NUMBER_ROBOT) if best[i] == 1])"
   ]
  }
 ],
 "metadata": {
  "kernelspec": {
   "display_name": ".envCI",
   "language": "python",
   "name": "python3"
  },
  "language_info": {
   "codemirror_mode": {
    "name": "ipython",
    "version": 3
   },
   "file_extension": ".py",
   "mimetype": "text/x-python",
   "name": "python",
   "nbconvert_exporter": "python",
   "pygments_lexer": "ipython3",
   "version": "3.10.12"
  }
 },
 "nbformat": 4,
 "nbformat_minor": 2
}
