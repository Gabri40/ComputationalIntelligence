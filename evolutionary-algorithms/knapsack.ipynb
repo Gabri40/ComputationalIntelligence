{
 "cells": [
  {
   "cell_type": "markdown",
   "metadata": {},
   "source": [
    "# Knapsack Problem\n",
    "\n",
    "Classic combinatorial optimization problem with practical applications in various fields, including resource allocation, logistics, and finance.\n",
    "\n",
    "In the Knapsack Problem, you are given a set of items, each with a weight and a value, and a knapsack with a limited capacity. The goal is to determine the combination of items to include in the knapsack to maximize the total value while ensuring that the total weight does not exceed the knapsack's capacity.\n",
    "\n",
    "Here's a formal description of the Knapsack Problem:\n",
    "\n",
    "- Given a set of n items, each with a weight $w_i$ and a value $v_i$, for i = 1 to n.\n",
    "- Given a knapsack with a maximum weight capacity $W$.\n",
    "- Find a subset of items to maximize the total value $Σv_i$ while ensuring that the total weight $Σw_i$ does not exceed the knapsack's capacity $W$.\n"
   ]
  },
  {
   "cell_type": "code",
   "execution_count": 92,
   "metadata": {},
   "outputs": [],
   "source": [
    "import random\n",
    "from tqdm import tqdm"
   ]
  },
  {
   "cell_type": "code",
   "execution_count": 116,
   "metadata": {},
   "outputs": [],
   "source": [
    "# evolution parameters\n",
    "POPULATION_SIZE = 60\n",
    "MUTATION_RATE = 0.05\n",
    "NUMBER_GENERATIONS = 500\n",
    "PARENTS_SIZE=POPULATION_SIZE//2\n",
    "\n",
    "\n",
    "# knapsack parameters\n",
    "MAX_WEIGHT = 100\n",
    "MAX_VALUE = 100\n",
    "BACKPACK_CAPACITY = 300\n",
    "TOTAL_ITEMS = 20\n",
    "\n",
    "all_items = [\n",
    "    (random.randint(1, MAX_WEIGHT), random.randint(1, MAX_VALUE))\n",
    "    for _ in range(TOTAL_ITEMS)\n",
    "]  # list of tuples (weight, value)"
   ]
  },
  {
   "cell_type": "code",
   "execution_count": 94,
   "metadata": {},
   "outputs": [],
   "source": [
    "population = [\n",
    "    [random.randint(0, 1) for _ in range(TOTAL_ITEMS)] for _ in range(POPULATION_SIZE)\n",
    "]  # list of lists of 0s and 1s\n",
    "# each list is a chromosome, each element is a gene. the gene is 1 if the item is in the backpack, 0 otherwise"
   ]
  },
  {
   "cell_type": "code",
   "execution_count": 95,
   "metadata": {},
   "outputs": [],
   "source": [
    "# this does set 0 for solution that overshoot the capacity but might work to give some partial credit -> fitness2\n",
    "def fitness1(chromosome):\n",
    "    weight = 0\n",
    "    value = 0\n",
    "    for i, gene in enumerate(chromosome):\n",
    "        if gene == 1:\n",
    "            weight += all_items[i][0]\n",
    "            value += all_items[i][1]\n",
    "    if weight > BACKPACK_CAPACITY:\n",
    "        return 0\n",
    "    return value"
   ]
  },
  {
   "cell_type": "code",
   "execution_count": 96,
   "metadata": {},
   "outputs": [],
   "source": [
    "def fitness2(chromosome):\n",
    "    weight = 0\n",
    "    value = 0\n",
    "    for i, gene in enumerate(chromosome):\n",
    "        if gene == 1 :\n",
    "            weight += all_items[i][0]\n",
    "            value += all_items[i][1]\n",
    "    if weight > BACKPACK_CAPACITY:\n",
    "        return value/(weight-BACKPACK_CAPACITY)\n",
    "    return value"
   ]
  },
  {
   "cell_type": "code",
   "execution_count": 122,
   "metadata": {},
   "outputs": [
    {
     "name": "stdout",
     "output_type": "stream",
     "text": [
      "Weights:\n",
      "[82, 94, 3, 27, 72, 76, 71, 85, 42, 8, 94, 72, 100, 84, 3, 58, 37, 28, 26, 51]\n",
      "Values:\n",
      "[24, 46, 41, 64, 78, 20, 67, 26, 20, 90, 90, 80, 100, 58, 76, 14, 59, 76, 88, 42]\n",
      "Total Value: 1159\n",
      "\n",
      "Fitness function: fitness1\n",
      "Best solution: [0, 0, 1, 1, 1, 0, 0, 0, 1, 1, 0, 0, 0, 0, 1, 0, 0, 1, 1, 1]\n",
      "Solution Weight: 260\n",
      "Solution Value: 575\n",
      "\n",
      "Fitness function: fitness2\n",
      "Best solution: [0, 0, 1, 1, 1, 0, 0, 0, 0, 1, 0, 0, 0, 1, 1, 0, 1, 1, 1, 0]\n",
      "Solution Weight: 288\n",
      "Solution Value: 630\n"
     ]
    }
   ],
   "source": [
    "def run(fitness_function,population):\n",
    "    for gen in range(NUMBER_GENERATIONS):\n",
    "        # fitness evaluation\n",
    "        fitness_scores = [fitness_function(chromosome) for chromosome in population]\n",
    "\n",
    "        # next gen parents -> select half to have two children from recombination + mutation\n",
    "        selected_parents = random.choices(\n",
    "            population, weights=fitness_scores, k=PARENTS_SIZE\n",
    "        )\n",
    "\n",
    "        new_population = []\n",
    "        for _ in range(PARENTS_SIZE):\n",
    "            parent1 = random.choice(selected_parents)\n",
    "            parent2 = random.choice(selected_parents)\n",
    "\n",
    "            # recombination\n",
    "            child1 = parent1[: TOTAL_ITEMS // 2] + parent2[TOTAL_ITEMS // 2 :]\n",
    "            child2 = parent2[: TOTAL_ITEMS // 2] + parent1[TOTAL_ITEMS // 2 :]\n",
    "\n",
    "            # mutation\n",
    "            child1 = [\n",
    "                1 - gene if random.random() < MUTATION_RATE else gene for gene in child1\n",
    "            ]\n",
    "            child2 = [\n",
    "                1 - gene if random.random() < MUTATION_RATE else gene for gene in child2\n",
    "            ]  # chance of mutation ie invert gene\n",
    "\n",
    "            new_population.append(child1)\n",
    "            new_population.append(child2)\n",
    "\n",
    "        population = new_population\n",
    "\n",
    "    # best solution\n",
    "    best_chromosome = max(population, key=fitness1)\n",
    "    print()\n",
    "    print(\"Fitness function:\",fitness_function.__name__)\n",
    "    print(\"Best solution:\", best_chromosome )\n",
    "    print(\n",
    "        \"Solution Weight:\",\n",
    "        sum([all_items[i][0] for i, gene in enumerate(best_chromosome) if gene == 1]),\n",
    "    )\n",
    "    print(\n",
    "        \"Solution Value:\",\n",
    "        sum([all_items[i][1] for i, gene in enumerate(best_chromosome) if gene == 1]),\n",
    "    )\n",
    "\n",
    "print(\"Weights:\")\n",
    "print([all_items[i][0] for i in range(TOTAL_ITEMS)])\n",
    "print(\"Values:\")\n",
    "print([all_items[i][1] for i in range(TOTAL_ITEMS)])\n",
    "print(\"Total Value:\",sum([all_items[i][1] for i in range(TOTAL_ITEMS)]))\n",
    "\n",
    "run(fitness1,population)\n",
    "run(fitness2,population)"
   ]
  }
 ],
 "metadata": {
  "kernelspec": {
   "display_name": ".envCI",
   "language": "python",
   "name": "python3"
  },
  "language_info": {
   "codemirror_mode": {
    "name": "ipython",
    "version": 3
   },
   "file_extension": ".py",
   "mimetype": "text/x-python",
   "name": "python",
   "nbconvert_exporter": "python",
   "pygments_lexer": "ipython3",
   "version": "3.10.12"
  }
 },
 "nbformat": 4,
 "nbformat_minor": 2
}
