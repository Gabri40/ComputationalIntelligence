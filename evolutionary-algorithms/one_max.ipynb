{
 "cells": [
  {
   "cell_type": "markdown",
   "metadata": {},
   "source": [
    "# One Max\n",
    "\n",
    "The goal of the One-Max problem is to find a binary string of a fixed length (usually represented as a sequence of 0s and 1s) that maximizes the count of 1s (ones) in the string. In other words, you aim to create a binary string with all 1s and no 0s.\n",
    "\n",
    "The One-Max problem is often used as a simple illustrative example in the field of evolutionary computation and genetic algorithms. It serves as a basic benchmark problem for testing and demonstrating the effectiveness of evolutionary algorithms in finding optimal or near-optimal solutions.\n"
   ]
  },
  {
   "cell_type": "code",
   "execution_count": 16,
   "metadata": {},
   "outputs": [],
   "source": [
    "import random\n",
    "from tqdm import tqdm"
   ]
  },
  {
   "cell_type": "code",
   "execution_count": 17,
   "metadata": {},
   "outputs": [],
   "source": [
    "# parameters\n",
    "population_size = 50\n",
    "string_length = 20\n",
    "mutation_rate = 0.01\n",
    "generations = 100"
   ]
  },
  {
   "cell_type": "code",
   "execution_count": 18,
   "metadata": {},
   "outputs": [],
   "source": [
    "# Define the fitness function\n",
    "def fitness(binary_string):\n",
    "    return sum(int(bit) for bit in binary_string)"
   ]
  },
  {
   "cell_type": "code",
   "execution_count": 19,
   "metadata": {},
   "outputs": [],
   "source": [
    "# Initialize the population with random binary strings\n",
    "population = [\n",
    "    \"\".join([str(random.randint(0, 1)) for _ in range(string_length)])\n",
    "    for _ in range(population_size)\n",
    "]"
   ]
  },
  {
   "cell_type": "code",
   "execution_count": 22,
   "metadata": {},
   "outputs": [
    {
     "name": "stderr",
     "output_type": "stream",
     "text": [
      " 35%|███▌      | 35/100 [00:00<00:00, 493.33it/s]"
     ]
    },
    {
     "name": "stdout",
     "output_type": "stream",
     "text": [
      "Solution found at generation 35\n"
     ]
    },
    {
     "name": "stderr",
     "output_type": "stream",
     "text": [
      "\n"
     ]
    }
   ],
   "source": [
    "def run(population):\n",
    "    # Main loop for evolving the population\n",
    "    progress = tqdm(range(generations))\n",
    "    for generation in range(generations):\n",
    "        # Evaluate fitness for each individual in the population\n",
    "        fitness_scores = []\n",
    "        for individual in population:\n",
    "            f = fitness(individual)\n",
    "            fitness_scores.append(f)\n",
    "            if f == string_length:\n",
    "                print(\"Solution found at generation\", generation)\n",
    "                return\n",
    "\n",
    "        # Select parents for the next generation using roulette wheel selection\n",
    "        selected_parents = random.choices(\n",
    "            population, weights=fitness_scores, k=population_size\n",
    "        )\n",
    "\n",
    "        # Create a new population through crossover and mutation\n",
    "        new_population = []\n",
    "        for _ in range(population_size):\n",
    "            # Parent selection\n",
    "            parent1 = random.choice(selected_parents)\n",
    "            parent2 = random.choice(selected_parents)\n",
    "\n",
    "            # Crossover\n",
    "            crossover_point = random.randint(1, string_length - 1)\n",
    "            child = parent1[:crossover_point] + parent2[crossover_point:]\n",
    "\n",
    "            # Apply mutation\n",
    "            mutated_child = \"\".join(\n",
    "                [\"1\" if random.random() < mutation_rate else bit for bit in child]\n",
    "            )\n",
    "            new_population.append(mutated_child)\n",
    "\n",
    "        population = new_population\n",
    "\n",
    "        progress.update(1)\n",
    "\n",
    "    # Find the best solution in the final population\n",
    "    best_solution = max(population, key=fitness)\n",
    "    # Print the best solution and its fitness\n",
    "    print(\"Best solution:\", best_solution)\n",
    "    print(\"Fitness:\", fitness(best_solution))\n",
    "\n",
    "\n",
    "run(population)"
   ]
  }
 ],
 "metadata": {
  "kernelspec": {
   "display_name": ".envCI",
   "language": "python",
   "name": "python3"
  },
  "language_info": {
   "codemirror_mode": {
    "name": "ipython",
    "version": 3
   },
   "file_extension": ".py",
   "mimetype": "text/x-python",
   "name": "python",
   "nbconvert_exporter": "python",
   "pygments_lexer": "ipython3",
   "version": "3.10.12"
  }
 },
 "nbformat": 4,
 "nbformat_minor": 2
}
