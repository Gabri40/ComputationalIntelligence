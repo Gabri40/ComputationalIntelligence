{
 "cells": [
  {
   "cell_type": "markdown",
   "id": "185f9931-b384-4fdc-a5b2-eea785428bb8",
   "metadata": {},
   "source": [
    "Copyright **`(c)`** 2023 Giovanni Squillero `<giovanni.squillero@polito.it>`  \n",
    "[`https://github.com/squillero/computational-intelligence`](https://github.com/squillero/computational-intelligence)  \n",
    "Free for personal or classroom use; see [`LICENSE.md`](https://github.com/squillero/computational-intelligence/blob/master/LICENSE.md) for details.  "
   ]
  },
  {
   "cell_type": "code",
   "execution_count": 69,
   "id": "3ffe7245-e849-41d0-9698-5f0e0b83fee9",
   "metadata": {},
   "outputs": [],
   "source": [
    "from itertools import product\n",
    "from random import random, randint, shuffle, seed\n",
    "import numpy as np\n",
    "from scipy import sparse\n",
    "\n",
    "import matplotlib.pyplot as plt\n",
    "from tqdm import tqdm"
   ]
  },
  {
   "cell_type": "code",
   "execution_count": 70,
   "id": "6f03bd67-78a0-4d72-95b7-77a918727b91",
   "metadata": {},
   "outputs": [],
   "source": [
    "def visualize_set_covering_problem(sets):\n",
    "    # Convert the lil_array to np array with integer data type\n",
    "    sets = np.array(sets.toarray(), dtype=int)\n",
    "\n",
    "    plt.imshow(sets, cmap=\"binary\", aspect=\"auto\")\n",
    "    plt.xlabel(\"Points\")\n",
    "    plt.ylabel(\"Sets\")\n",
    "    plt.title(\"Set Covering Problem\")\n",
    "    plt.show()\n",
    "\n",
    "\n",
    "def make_set_covering_problem(num_points, num_sets, density):\n",
    "    \"\"\"Returns a sparse array where rows are sets and columns are the covered items\"\"\"\n",
    "    seed(num_points * 2654435761 + num_sets + density)\n",
    "    sets = sparse.lil_array((num_sets, num_points), dtype=bool)\n",
    "    for s, p in product(range(num_sets), range(num_points)):\n",
    "        if random() < density:\n",
    "            sets[s, p] = True\n",
    "    for p in range(num_points):\n",
    "        sets[randint(0, num_sets - 1), p] = True\n",
    "\n",
    "    if num_points==100:\n",
    "        visualize_set_covering_problem(sets)\n",
    "\n",
    "    return sets\n"
   ]
  },
  {
   "cell_type": "markdown",
   "id": "82b0be37-21d9-492d-9a1d-cf0cdf0ddd76",
   "metadata": {},
   "source": [
    "# Halloween Challenge\n",
    "\n",
    "Find the best solution with the fewest calls to the fitness functions for:\n",
    "\n",
    "* `num_points = [100, 1_000, 5_000]`\n",
    "* `num_sets = num_points`\n",
    "* `density = [.3, .7]` "
   ]
  },
  {
   "cell_type": "code",
   "execution_count": 71,
   "id": "221ffdba-5d3d-48cc-bd08-45ccc9366ea6",
   "metadata": {},
   "outputs": [],
   "source": [
    "# x = make_set_covering_problem(1000, 1000, 0.3)\n",
    "# print(\"Element at row=42 and column=42:\", x[42, 42])\n"
   ]
  },
  {
   "cell_type": "markdown",
   "id": "505f8d56",
   "metadata": {},
   "source": [
    "# Problem Creation"
   ]
  },
  {
   "cell_type": "code",
   "execution_count": 72,
   "id": "a6ca60ce",
   "metadata": {},
   "outputs": [
    {
     "data": {
      "image/png": "[encoded data removed]",
      "text/plain": [
       "<Figure size 640x480 with 1 Axes>"
      ]
     },
     "metadata": {},
     "output_type": "display_data"
    }
   ],
   "source": [
    "NUM_POINTS = [100, 1_000, 5_000]\n",
    "NUM_SETS = NUM_POINTS\n",
    "DENSITY = [0.3, 0.7]\n",
    "\n",
    "DIM_INDEX=0\n",
    "PROBLEM_DIM=NUM_POINTS[DIM_INDEX]\n",
    "\n",
    "problem = make_set_covering_problem(PROBLEM_DIM, PROBLEM_DIM, DENSITY[0])\n"
   ]
  },
  {
   "cell_type": "code",
   "execution_count": 73,
   "id": "0da20cdd",
   "metadata": {},
   "outputs": [],
   "source": [
    "def check_solution(problem, sets):\n",
    "    solu = [False for i in range(PROBLEM_DIM)]\n",
    "\n",
    "    for s in sets:\n",
    "        for p in range(PROBLEM_DIM):\n",
    "            solu[p] = solu[p] or problem[s, p]\n",
    "\n",
    "    return np.all(solu)\n",
    "\n",
    "\n",
    "assert check_solution(problem, range(PROBLEM_DIM))\n"
   ]
  },
  {
   "cell_type": "markdown",
   "id": "f28c80f8",
   "metadata": {},
   "source": [
    "# A*"
   ]
  },
  {
   "cell_type": "code",
   "execution_count": 74,
   "id": "f05d20de",
   "metadata": {},
   "outputs": [],
   "source": [
    "from collections import namedtuple\n",
    "import heapq\n",
    "from tqdm import tqdm\n",
    "\n",
    "State = namedtuple(\"State\", [\"taken\", \"cost\", \"heuristic\"])\n",
    "\n",
    "\n",
    "def cost(state):\n",
    "    return len(state.taken)\n",
    "\n",
    "\n",
    "def heuristic(problem, state):\n",
    "    # Count the number of uncovered elements by summing the rows of uncovered sets\n",
    "    uncovered = problem[\n",
    "        :, [p for p in range(PROBLEM_DIM) if p not in state.taken]\n",
    "    ].sum()\n",
    "\n",
    "    # Calculate the density\n",
    "    density = uncovered.sum() / (PROBLEM_DIM - len(state.taken))\n",
    "\n",
    "    return -density * PROBLEM_DIM\n",
    "\n",
    "\n",
    "def astar(problem):\n",
    "    open_list = [\n",
    "        (0, State([], 0, heuristic(problem, State([], 0, 0))))\n",
    "    ]  # Priority queue (f, state)\n",
    "    closed_set = set()\n",
    "\n",
    "    pbar = tqdm(total=None)\n",
    "\n",
    "    while open_list:\n",
    "        _, current_state = heapq.heappop(open_list)\n",
    "\n",
    "        pbar.update(1)\n",
    "\n",
    "        if check_solution(problem, current_state.taken):\n",
    "            return current_state  # All points are covered\n",
    "\n",
    "        if tuple(current_state.taken) in closed_set:\n",
    "            continue\n",
    "\n",
    "        closed_set.add(tuple(current_state.taken))\n",
    "\n",
    "        for i in range(PROBLEM_DIM):\n",
    "            if i not in current_state.taken:\n",
    "                new_taken = current_state.taken + [i]\n",
    "                new_cost = cost(State(new_taken, 0, 0))\n",
    "                new_heuristic = heuristic(problem, State(new_taken, 0, 0))\n",
    "                total_cost = new_cost + new_heuristic\n",
    "\n",
    "                heapq.heappush(\n",
    "                    open_list, (total_cost, State(new_taken, new_cost, new_heuristic))\n",
    "                )\n",
    "\n",
    "    return None  # No solution found\n"
   ]
  },
  {
   "cell_type": "code",
   "execution_count": 77,
   "id": "21adefdd",
   "metadata": {},
   "outputs": [
    {
     "name": "stderr",
     "output_type": "stream",
     "text": [
      "0it [00:00, ?it/s]"
     ]
    },
    {
     "name": "stderr",
     "output_type": "stream",
     "text": [
      "13it [00:02,  5.29it/s]"
     ]
    },
    {
     "name": "stdout",
     "output_type": "stream",
     "text": [
      "State(taken=[39, 12, 8, 18, 41, 42, 75, 1, 35, 57, 73, 79], cost=12, heuristic=-3163.6363636363635)\n",
      "True\n"
     ]
    },
    {
     "name": "stderr",
     "output_type": "stream",
     "text": [
      "\n"
     ]
    }
   ],
   "source": [
    "sol= astar(problem)\n",
    "print(sol)\n",
    "print(check_solution(problem,sol.taken))"
   ]
  }
 ],
 "metadata": {
  "kernelspec": {
   "display_name": "Python 3 (ipykernel)",
   "language": "python",
   "name": "python3"
  },
  "language_info": {
   "codemirror_mode": {
    "name": "ipython",
    "version": 3
   },
   "file_extension": ".py",
   "mimetype": "text/x-python",
   "name": "python",
   "nbconvert_exporter": "python",
   "pygments_lexer": "ipython3",
   "version": "3.10.12"
  }
 },
 "nbformat": 4,
 "nbformat_minor": 5
}
