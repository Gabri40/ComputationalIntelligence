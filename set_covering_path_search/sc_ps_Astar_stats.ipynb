{
 "cells": [
  {
   "cell_type": "code",
   "execution_count": 1,
   "metadata": {},
   "outputs": [],
   "source": [
    "import numpy as np\n",
    "from random import random\n",
    "from functools import reduce\n",
    "from collections import namedtuple\n",
    "from queue import PriorityQueue, SimpleQueue\n",
    "\n",
    "# Define State as a named tuple\n",
    "State = namedtuple(\"State\", [\"taken\", \"cost\", \"heuristic\"])\n",
    "\n",
    "def goal_check(state, sets):\n",
    "    \"\"\"\n",
    "    check if the logical OR all the elements yeald a line of all true ie the\n",
    "    condition for a state to be covering the whole set U\n",
    "    \"\"\"\n",
    "    return np.all(\n",
    "        reduce(np.logical_or, [sets[i] for i in state.taken], np.zeros(PROBLEM_SIZE))\n",
    "    )\n",
    "\n"
   ]
  },
  {
   "cell_type": "code",
   "execution_count": 2,
   "metadata": {},
   "outputs": [],
   "source": [
    "\n",
    "def cost(state):\n",
    "    \"\"\"The cost function calculates the cost of reaching a particular state\"\"\"\n",
    "    return len(state.taken)\n",
    "\n",
    "\n",
    "def heuristic(state, sets):\n",
    "    \"\"\"Calculate the number of uncovered elements in U\"\"\"\n",
    "    uncovered = np.logical_not(\n",
    "        reduce(np.logical_or, [sets[i] for i in state.taken], np.zeros(PROBLEM_SIZE))\n",
    "    )\n",
    "    remaining_elements = np.sum(uncovered)\n",
    "    return remaining_elements\n",
    "\n",
    "\n",
    "def astar(sets,steps):\n",
    "    # Initialize the priority queue with the initial state\n",
    "    initial_state = State(\n",
    "        taken=[],\n",
    "        cost=0,\n",
    "        heuristic=heuristic(State(taken=[], cost=0, heuristic=0), sets),\n",
    "    )\n",
    "    open_set = PriorityQueue()\n",
    "    open_set.put((initial_state.cost + initial_state.heuristic, initial_state))\n",
    "\n",
    "    # Initialize the closed set as an empty set\n",
    "    closed_set = set()\n",
    "\n",
    "    checked_states = 0\n",
    "\n",
    "    while not open_set.empty():\n",
    "        # Get the state with the lowest f score from the priority queue\n",
    "        _, current_state = open_set.get()\n",
    "        checked_states += 1\n",
    "\n",
    "        # If the current state is a goal state, return the solution\n",
    "        if goal_check(current_state, sets):\n",
    "            steps.append(checked_states)\n",
    "            return current_state.taken\n",
    "        \n",
    "\n",
    "        # Add the current state to the closed set\n",
    "        closed_set.add(tuple(current_state.taken))\n",
    "\n",
    "        # Generate successor states by adding one more subset\n",
    "        for subset in range(NUMBER_SET):\n",
    "            if subset not in current_state.taken:\n",
    "                # Create a new state by adding the subset\n",
    "                new_taken = current_state.taken + [subset]\n",
    "                new_cost = cost(State(new_taken, 0, 0))\n",
    "                new_heuristic = heuristic(State(new_taken, 0, 0), sets)\n",
    "                new_state = State(new_taken, new_cost, new_heuristic)\n",
    "\n",
    "                # If the state is not in the closed set, add it to the open set\n",
    "                if tuple(new_taken) not in closed_set:\n",
    "                    open_set.put((new_state.cost + new_state.heuristic, new_state))\n",
    "\n",
    "    # If the open set is empty and no solution is found, return None\n",
    "    return None\n"
   ]
  },
  {
   "cell_type": "code",
   "execution_count": 3,
   "metadata": {},
   "outputs": [
    {
     "name": "stdout",
     "output_type": "stream",
     "text": [
      "Problem Size: 5\n",
      "Number of sets: 10\n",
      "Solvable runs: 85/100\n",
      "Average number of checked states:  3.5058823529411764\n"
     ]
    }
   ],
   "source": [
    "# constants\n",
    "PROBLEM_SIZE = 5  # dimension of the finite set U\n",
    "NUMBER_SET = 10  # number of subsets in the collection S\n",
    "N_RUNS=100\n",
    "\n",
    "steps = []\n",
    "for i in range(N_RUNS):\n",
    "\n",
    "    sets = tuple(\n",
    "        np.array([random() < 0.3 for i in range(PROBLEM_SIZE)]) for j in range(NUMBER_SET)\n",
    "    )  # generate sets in S\n",
    "\n",
    "    if goal_check(State(range(NUMBER_SET), 0, 0), sets):\n",
    "        astar(sets,steps)\n",
    "\n",
    "print(\"Problem Size:\", PROBLEM_SIZE)\n",
    "print(\"Number of sets:\", NUMBER_SET)\n",
    "print(f\"Solvable runs: {len(steps)}/{N_RUNS}\")\n",
    "print(\"Average number of checked states: \", np.mean(steps))"
   ]
  },
  {
   "cell_type": "code",
   "execution_count": 4,
   "metadata": {},
   "outputs": [
    {
     "name": "stdout",
     "output_type": "stream",
     "text": [
      "Problem Size: 20\n",
      "Number of sets: 80\n",
      "Solvable runs: 100/100\n",
      "Average number of checked states:  4.2\n"
     ]
    }
   ],
   "source": [
    "# constants\n",
    "PROBLEM_SIZE = 20  # dimension of the finite set U\n",
    "NUMBER_SET = 80  # number of subsets in the collection S\n",
    "N_RUNS=100\n",
    "\n",
    "steps = []\n",
    "for i in range(N_RUNS):\n",
    "\n",
    "    sets = tuple(\n",
    "        np.array([random() < 0.3 for i in range(PROBLEM_SIZE)]) for j in range(NUMBER_SET)\n",
    "    )  # generate sets in S\n",
    "\n",
    "    if goal_check(State(range(NUMBER_SET), 0, 0), sets):\n",
    "        astar(sets,steps)\n",
    "\n",
    "print(\"Problem Size:\", PROBLEM_SIZE)\n",
    "print(\"Number of sets:\", NUMBER_SET)\n",
    "print(f\"Solvable runs: {len(steps)}/{N_RUNS}\")\n",
    "print(\"Average number of checked states: \", np.mean(steps))"
   ]
  },
  {
   "cell_type": "code",
   "execution_count": 59,
   "metadata": {},
   "outputs": [
    {
     "name": "stdout",
     "output_type": "stream",
     "text": [
      "Problem Size: 100\n",
      "Number of sets: 1000\n",
      "Solvable runs: 100/100\n",
      "Average number of checked states:  6.0\n"
     ]
    }
   ],
   "source": [
    "# constants\n",
    "PROBLEM_SIZE = 100  # dimension of the finite set U\n",
    "NUMBER_SET = 1000  # number of subsets in the collection S\n",
    "N_RUNS=100\n",
    "\n",
    "steps = []\n",
    "for i in range(N_RUNS):\n",
    "\n",
    "    sets = tuple(\n",
    "        np.array([random() < 0.3 for i in range(PROBLEM_SIZE)]) for j in range(NUMBER_SET)\n",
    "    )  # generate sets in S\n",
    "\n",
    "    if goal_check(State(range(NUMBER_SET), 0, 0), sets):\n",
    "        astar(sets,steps)\n",
    "\n",
    "print(\"Problem Size:\", PROBLEM_SIZE)\n",
    "print(\"Number of sets:\", NUMBER_SET)\n",
    "print(f\"Solvable runs: {len(steps)}/{N_RUNS}\")\n",
    "print(\"Average number of checked states: \", np.mean(steps))"
   ]
  }
 ],
 "metadata": {
  "kernelspec": {
   "display_name": ".envCI",
   "language": "python",
   "name": "python3"
  },
  "language_info": {
   "codemirror_mode": {
    "name": "ipython",
    "version": 3
   },
   "file_extension": ".py",
   "mimetype": "text/x-python",
   "name": "python",
   "nbconvert_exporter": "python",
   "pygments_lexer": "ipython3",
   "version": "3.10.12"
  }
 },
 "nbformat": 4,
 "nbformat_minor": 2
}
