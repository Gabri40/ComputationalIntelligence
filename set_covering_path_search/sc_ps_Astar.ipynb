{
 "cells": [
  {
   "cell_type": "code",
   "execution_count": 501,
   "metadata": {},
   "outputs": [],
   "source": [
    "import numpy as np\n",
    "from random import random\n",
    "from functools import reduce\n",
    "from collections import namedtuple\n",
    "from queue import PriorityQueue, SimpleQueue"
   ]
  },
  {
   "cell_type": "markdown",
   "metadata": {},
   "source": [
    "# Problem Definition\n",
    "\n",
    "PROBLEM_SIZE: This constant represents the dimension of the finite set U. It specifies the size of the universal set that needs to be covered.\n",
    "\n",
    "NUMBER_SET: This constant represents the number of subsets in the collection S. It indicates how many sets are available to choose from for covering the universal set.\n",
    "\n",
    "SETS: This is a tuple containing arrays of binary values, where each array represents a subset. The binary values indicate whether an element is present in the respective subset. The subsets are generated randomly, with a 30% probability of an element being included in a subset."
   ]
  },
  {
   "cell_type": "code",
   "execution_count": 502,
   "metadata": {},
   "outputs": [],
   "source": [
    "# constants\n",
    "PROBLEM_SIZE = 5  # dimension of the finite set U\n",
    "NUMBER_SET = 10  # number of subsets in the collection S\n",
    "SETS = tuple(\n",
    "    np.array([random() < 0.3 for i in range(PROBLEM_SIZE)]) for j in range(NUMBER_SET)\n",
    ")  # generate sets in S\n",
    "\n",
    "# Define State as a named tuple\n",
    "State = namedtuple(\"State\", [\"taken\", \"cost\", \"heuristic\"])\n"
   ]
  },
  {
   "cell_type": "markdown",
   "metadata": {},
   "source": [
    "\n",
    "# Solution Check\n",
    "This function is used to check whether a given state is a valid solution to the set covering problem. In this context, a \"state\" is typically a set of selected subsets, and the goal is to check if the logical OR operation (union) of all the selected subsets covers the entire universal set U.\n",
    "\n",
    "The function takes two arguments:\n",
    "\n",
    "- state: A named tuple that presumably contains information about which subsets have been selected.\n",
    "- sets: The collection of subsets (S).\n",
    "\n",
    "The function returns True if the union of the selected subsets covers the entire universal set U, which is represented by a line of all True values (i.e., all elements are covered). It uses NumPy's logical OR and reduce functions to perform this operation efficiently."
   ]
  },
  {
   "cell_type": "code",
   "execution_count": 503,
   "metadata": {},
   "outputs": [],
   "source": [
    "def goal_check(state, sets):\n",
    "    \"\"\"\n",
    "    check if the logical OR all the elements yeald a line of all true ie the\n",
    "    condition for a state to be covering the whole set U\n",
    "    \"\"\"\n",
    "    return np.all(\n",
    "        reduce(np.logical_or, [sets[i] for i in state.taken], np.zeros(PROBLEM_SIZE))\n",
    "    )\n",
    "\n",
    "\n",
    "# assert generated problem is solvable, ie the goal check of a stete with all\n",
    "# sets taken is true\n",
    "assert goal_check(State(range(NUMBER_SET), 0, 0), SETS)\n"
   ]
  },
  {
   "cell_type": "markdown",
   "metadata": {},
   "source": [
    "# Cost and Heuristic Functions\n",
    "\n",
    "#### Cost Function:\n",
    "The cost function calculates the actual cost incurred to reach a given state.\n",
    "In the context of the Set Covering problem, you can define the cost as the number of selected subsets in the current state. The goal is to minimize this cost.\n",
    "The cost can be calculated as follows:\n",
    "\n",
    "#### Heuristic Function:\n",
    "The heuristic function estimates the cost from the current state to the goal state. It should be admissible, meaning it should never overestimate the true cost.\n",
    "A common heuristic for the Set Covering problem is to estimate the remaining number of elements in the universal set U that are not yet covered. This can be done using the following heuristic function:"
   ]
  },
  {
   "cell_type": "code",
   "execution_count": 504,
   "metadata": {},
   "outputs": [],
   "source": [
    "def cost(state):\n",
    "    \"\"\"The cost function calculates the cost of reaching a particular state\"\"\"\n",
    "    return len(state.taken)\n",
    "\n",
    "\n",
    "def heuristic(state, sets):\n",
    "    \"\"\"Calculate the number of uncovered elements in U\"\"\"\n",
    "    uncovered = np.logical_not(\n",
    "        reduce(np.logical_or, [sets[i] for i in state.taken], np.zeros(PROBLEM_SIZE))\n",
    "    )\n",
    "    remaining_elements = np.sum(uncovered)\n",
    "    return remaining_elements\n",
    "\n"
   ]
  },
  {
   "cell_type": "markdown",
   "metadata": {},
   "source": [
    "# A* Search\n",
    "\n",
    "A* is a popular graph search algorithm used to find the shortest path from a start state to a goal state in a graph. \n",
    "\n",
    "The A* algorithm is guided by the combination of the actual cost and the heuristic. It explores states in a way that minimizes the cost while using the heuristic to prioritize promising paths. When used correctly with an admissible heuristic, A* guarantees that it finds the optimal solution in terms of the cost.\n",
    "\n",
    "In this case, the graph represents different possible states of subset selections, and the goal state is to find a set of subsets that collectively cover the universal set U.\n",
    "\n",
    "**Initialization:**\n",
    "\n",
    "Start with an initial state. In the Set Covering problem, this state is typically an empty set of selected subsets.\n",
    "Initialize two sets: the open set and the closed set.\n",
    "The open set is a priority queue that stores states to be explored, sorted by their estimated cost from the start state.\n",
    "The closed set stores states that have already been explored.\n",
    "\n",
    "**Cost Function:**\n",
    "\n",
    "Define a cost function that calculates the actual cost (in your case, the number of selected subsets) to reach a state.\n",
    "\n",
    "**Heuristic Function:**\n",
    "\n",
    "Define a heuristic function that estimates the cost from the current state to the goal state. The heuristic should be admissible, meaning it never overestimates the true cost.\n",
    "In the Set Covering problem, a common heuristic estimates the remaining number of elements in the universal set U that are not yet covered by the selected subsets.\n",
    "\n",
    "**Main Loop:**\n",
    "\n",
    "While the open set is not empty, do the following:\n",
    "Pop the state with the lowest estimated cost (a combination of the actual cost and the heuristic) from the open set.\n",
    "If this state is the goal state (i.e., it covers all elements in U), you have found a solution, and you can extract the selected subsets.\n",
    "If not, mark this state as explored by adding it to the closed set.\n",
    "Generate successor states by considering additional subsets. For each subset that hasn't been added to the current state, create a new state by adding it. Calculate the cost and heuristic for each successor state.\n",
    "Add the successor states to the open set if they are not already in the closed set.\n",
    "\n",
    "**Termination:**\n",
    "\n",
    "If the open set becomes empty and no goal state has been found, the algorithm terminates without a solution.\n",
    "\n",
    "**Output:**\n",
    "\n",
    "If a solution is found, it consists of the selected subsets that cover the universal set U.\n",
    "\n"
   ]
  },
  {
   "cell_type": "code",
   "execution_count": 505,
   "metadata": {},
   "outputs": [],
   "source": [
    "def astar(sets):\n",
    "    # Initialize the priority queue with the initial state\n",
    "    initial_state = State(\n",
    "        taken=[],\n",
    "        cost=0,\n",
    "        heuristic=heuristic(State(taken=[], cost=0, heuristic=0), sets),\n",
    "    )\n",
    "    open_set = PriorityQueue()\n",
    "    open_set.put((initial_state.cost + initial_state.heuristic, initial_state))\n",
    "\n",
    "    # Initialize the closed set as an empty set\n",
    "    closed_set = set()\n",
    "\n",
    "    while not open_set.empty():\n",
    "        # Get the state with the lowest f score from the priority queue\n",
    "        _, current_state = open_set.get()\n",
    "\n",
    "        print(current_state)\n",
    "\n",
    "        # If the current state is a goal state, return the solution\n",
    "        if goal_check(current_state, sets):\n",
    "            return current_state.taken\n",
    "\n",
    "        # Add the current state to the closed set\n",
    "        closed_set.add(tuple(current_state.taken))\n",
    "\n",
    "        # Generate successor states by adding one more subset\n",
    "        for subset in range(NUMBER_SET):\n",
    "            if subset not in current_state.taken:\n",
    "                # Create a new state by adding the subset\n",
    "                new_taken = current_state.taken + [subset]\n",
    "                new_cost = cost(State(new_taken, 0, 0))\n",
    "                new_heuristic = heuristic(State(new_taken, 0, 0), sets)\n",
    "                new_state = State(new_taken, new_cost, new_heuristic)\n",
    "\n",
    "                # If the state is not in the closed set, add it to the open set\n",
    "                if tuple(new_taken) not in closed_set:\n",
    "                    open_set.put((new_state.cost + new_state.heuristic, new_state))\n",
    "\n",
    "    # If the open set is empty and no solution is found, return None\n",
    "    return None\n"
   ]
  },
  {
   "cell_type": "code",
   "execution_count": 506,
   "metadata": {},
   "outputs": [
    {
     "data": {
      "text/plain": [
       "(array([False,  True, False, False, False]),\n",
       " array([False, False,  True,  True,  True]),\n",
       " array([ True, False, False, False,  True]),\n",
       " array([False, False, False,  True, False]),\n",
       " array([False, False, False, False,  True]),\n",
       " array([False,  True, False, False, False]),\n",
       " array([False, False, False, False, False]),\n",
       " array([ True,  True, False, False, False]),\n",
       " array([False, False, False, False,  True]),\n",
       " array([False,  True,  True, False, False]))"
      ]
     },
     "execution_count": 506,
     "metadata": {},
     "output_type": "execute_result"
    }
   ],
   "source": [
    "SETS"
   ]
  },
  {
   "cell_type": "code",
   "execution_count": 507,
   "metadata": {},
   "outputs": [
    {
     "name": "stdout",
     "output_type": "stream",
     "text": [
      "State(taken=[], cost=0, heuristic=5)\n",
      "State(taken=[1], cost=1, heuristic=2)\n",
      "State(taken=[1, 7], cost=2, heuristic=0)\n",
      "\n",
      "Solution: [1, 7]\n",
      "[False False  True  True  True]\n",
      "[ True  True False False False]\n"
     ]
    }
   ],
   "source": [
    "# Call the A* function and print the result\n",
    "result = astar(SETS)\n",
    "if result:\n",
    "    print(\"\\nSolution:\", result)\n",
    "    for i in result:\n",
    "        print(SETS[i])\n",
    "else:\n",
    "    print(\"\\nNo solution found.\")"
   ]
  }
 ],
 "metadata": {
  "kernelspec": {
   "display_name": ".envCI",
   "language": "python",
   "name": "python3"
  },
  "language_info": {
   "codemirror_mode": {
    "name": "ipython",
    "version": 3
   },
   "file_extension": ".py",
   "mimetype": "text/x-python",
   "name": "python",
   "nbconvert_exporter": "python",
   "pygments_lexer": "ipython3",
   "version": "3.10.12"
  }
 },
 "nbformat": 4,
 "nbformat_minor": 2
}
