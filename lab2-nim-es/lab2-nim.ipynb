{
 "cells": [
  {
   "cell_type": "markdown",
   "metadata": {
    "pycharm": {
     "name": "#%% md\n"
    }
   },
   "source": [
    "Copyright **`(c)`** 2022 Giovanni Squillero `<squillero@polito.it>`  \n",
    "[`https://github.com/squillero/computational-intelligence`](https://github.com/squillero/computational-intelligence)  \n",
    "Free for personal or classroom use; see [`LICENSE.md`](https://github.com/squillero/computational-intelligence/blob/master/LICENSE.md) for details.\n"
   ]
  },
  {
   "cell_type": "markdown",
   "metadata": {
    "pycharm": {
     "name": "#%%\n"
    }
   },
   "source": [
    "# Lab 3: ES\n",
    "\n",
    "## Task\n",
    "\n",
    "Write agents able to play [_Nim_](https://en.wikipedia.org/wiki/Nim), with an arbitrary number of rows and an upper bound $k$ on the number of objects that can be removed in a turn (a.k.a., _subtraction game_).\n",
    "\n",
    "The goal of the game is to **avoid** taking the last object.\n",
    "\n",
    "- Task2.1: An agent using fixed rules based on _nim-sum_ (i.e., an _expert system_)\n",
    "- Task2.2: An agent using evolved rules using ES\n",
    "\n",
    "## Instructions\n",
    "\n",
    "- Create the directory `lab2` inside the course repo\n",
    "- Put a `README.md` and your solution (all the files, code and auxiliary data if needed)\n",
    "\n",
    "## Notes\n",
    "\n",
    "- Working in group is not only allowed, but recommended (see: [Ubuntu](https://en.wikipedia.org/wiki/Ubuntu_philosophy) and [Cooperative Learning](https://files.eric.ed.gov/fulltext/EJ1096789.pdf)). Collaborations must be explicitly declared in the `README.md`.\n",
    "- [Yanking](https://www.emacswiki.org/emacs/KillingAndYanking) from the internet is allowed, but sources must be explicitly declared in the `README.md`.\n"
   ]
  },
  {
   "cell_type": "code",
   "execution_count": 1,
   "metadata": {},
   "outputs": [],
   "source": [
    "import logging\n",
    "from pprint import pprint, pformat\n",
    "from collections import namedtuple\n",
    "import random\n",
    "from copy import deepcopy\n"
   ]
  },
  {
   "cell_type": "markdown",
   "metadata": {},
   "source": [
    "## The _Nim_ and _Nimply_ classes\n"
   ]
  },
  {
   "cell_type": "code",
   "execution_count": 2,
   "metadata": {},
   "outputs": [],
   "source": [
    "Nimply = namedtuple(\"Nimply\", \"row, num_objects\")\n"
   ]
  },
  {
   "cell_type": "code",
   "execution_count": 3,
   "metadata": {},
   "outputs": [],
   "source": [
    "class Nim:\n",
    "    def __init__(self, num_rows: int, k: int = None) -> None:\n",
    "        self._rows = [i * 2 + 1 for i in range(num_rows)]\n",
    "        self._k = k\n",
    "\n",
    "    def __bool__(self):\n",
    "        return sum(self._rows) > 0\n",
    "\n",
    "    def __str__(self):\n",
    "        return \"<\" + \" \".join(str(_) for _ in self._rows) + \">\"\n",
    "\n",
    "    @property\n",
    "    def rows(self) -> tuple:\n",
    "        return tuple(self._rows)\n",
    "\n",
    "    def nimming(self, ply: Nimply) -> None:\n",
    "        row, num_objects = ply\n",
    "        assert self._rows[row] >= num_objects\n",
    "        assert self._k is None or num_objects <= self._k\n",
    "        self._rows[row] -= num_objects\n"
   ]
  },
  {
   "cell_type": "markdown",
   "metadata": {},
   "source": [
    "- Class `Nim` is defined, with an initializer method `__init__`, three methods `__bool__`, `__str__`, and `nimming`, and a property `rows`.\n",
    "- The `__init__` method takes two arguments: `num_rows` and `k` (with a default value of `None`), and initializes `self._rows` with a list of odd numbers and stores `k` in `self._k`.\n",
    "- The `__bool__` method returns a boolean value indicating whether the sum of the numbers in `self._rows` is greater than 0.\n",
    "- The `__str__` method returns a string representation of the `Nim` instance by joining the numbers in `self._rows` into a string enclosed in angle brackets.\n",
    "- The `rows` property returns a tuple containing the numbers in `self._rows`.\n",
    "- The `nimming` method takes a `Nimply` instance (or a tuple), unpacks it into `row` and `num_objects`, and performs two assertions. It subtracts `num_objects` from the number of objects in the specified row if both assertions pass.\n"
   ]
  },
  {
   "cell_type": "markdown",
   "metadata": {},
   "source": [
    "## Sample (and silly) startegies\n"
   ]
  },
  {
   "cell_type": "code",
   "execution_count": 4,
   "metadata": {},
   "outputs": [],
   "source": [
    "def pure_random(state: Nim) -> Nimply:\n",
    "    \"\"\"A completely random move\"\"\"\n",
    "    row = random.choice([r for r, c in enumerate(state.rows) if c > 0]) # select random non empty row\n",
    "    num_objects = random.randint(1, state.rows[row]) # select random number of objects to be removed from row\n",
    "    return Nimply(row, num_objects) #return new Nimply object for that row with updated number of objects\n"
   ]
  },
  {
   "cell_type": "code",
   "execution_count": 5,
   "metadata": {},
   "outputs": [],
   "source": [
    "def gabriele(state: Nim) -> Nimply:\n",
    "    \"\"\"Pick always the maximum possible number of the lowest row\"\"\"\n",
    "    possible_moves = [(r, o) for r, c in enumerate(state.rows) for o in range(1, c + 1)] #create list of all possible moves\n",
    "    return Nimply(*max(possible_moves, key=lambda m: (-m[0], m[1]))) #return Nimply object with maximum number of objects from lowest row\n"
   ]
  },
  {
   "cell_type": "code",
   "execution_count": 7,
   "metadata": {},
   "outputs": [],
   "source": [
    "def adaptive1(state: Nim) -> Nimply:\n",
    "    \"\"\"A strategy that can adapt its parameters\"\"\"\n",
    "    genome = {\"love_small\": 0.5}  # set initial value for love_small\n",
    "\n",
    "    if state.rows[0] <= 3:  # if lowest row has 3 or less objects\n",
    "        genome[\"love_small\"] = 0.9  # increase love_small\n",
    "    elif state.rows[0] >= 7:  # if lowest row has 7 or more objects\n",
    "        genome[\"love_small\"] = 0.1  # decrease love_small\n",
    "\n",
    "    row = min(\n",
    "        range(len(state.rows)), key=lambda r: state.rows[r]\n",
    "    )  # select row with lowest number of objects\n",
    "\n",
    "    num_objects = int(\n",
    "        genome[\"love_small\"] * state.rows[row]\n",
    "    )  # select number of objects to be removed from row\n",
    "    \n",
    "    return Nimply(\n",
    "        row, num_objects\n",
    "    )  # return Nimply object for that row with updated number of objects"
   ]
  },
  {
   "cell_type": "code",
   "execution_count": 8,
   "metadata": {},
   "outputs": [],
   "source": [
    "import numpy as np\n",
    "\n",
    "\n",
    "def nim_sum(state: Nim) -> int:\n",
    "    \"\"\"\n",
    "    takes a `Nim` object and calculates the Nim-sum of the current game\n",
    "    state by converting the counts of objects in the rows to binary, summing\n",
    "    them, and taking the modulo 2 to obtain an integer Nim-sum\n",
    "    \"\"\"\n",
    "    tmp = np.array([tuple(int(x) for x in f\"{c:032b}\") for c in state.rows])\n",
    "    xor = tmp.sum(axis=0) % 2\n",
    "    return int(\"\".join(str(_) for _ in xor), base=2)\n",
    "\n",
    "\n",
    "def analize(raw: Nim) -> dict:\n",
    "    \"\"\"\n",
    "    takes a `Nim` object and returns a dictionary with a single key,\n",
    "    \"possible_moves,\" which maps each possible move to its resulting Nim-sum. To\n",
    "    calculate this, it iterates over all possible moves, makes a deep copy of\n",
    "    the game state, applies the move to the copy, and calculates the Nim-sum of\n",
    "    the resulting state\n",
    "    \"\"\"\n",
    "    cooked = dict()\n",
    "    cooked[\"possible_moves\"] = dict()\n",
    "    for ply in (Nimply(r, o) for r, c in enumerate(raw.rows) for o in range(1, c + 1)):\n",
    "        tmp = deepcopy(raw)\n",
    "        tmp.nimming(ply)\n",
    "        cooked[\"possible_moves\"][ply] = nim_sum(tmp)\n",
    "    return cooked\n",
    "\n",
    "\n",
    "def optimal(state: Nim) -> Nimply:\n",
    "    \"\"\"\n",
    "    takes a `Nim` object and returns an optimal move by analyzing the\n",
    "    current game state to get the Nim-sums of all possible moves. It selects\n",
    "    moves that result in a non-zero Nim-sum, representing \"winning\" moves.\n",
    "    If no such moves exist, it selects all moves and chooses one at random\n",
    "    to return as the optimal move\n",
    "    \"\"\"\n",
    "    analysis = analize(state)\n",
    "    logging.debug(f\"analysis:\\n{pformat(analysis)}\")\n",
    "    spicy_moves = [ply for ply, ns in analysis[\"possible_moves\"].items() if ns != 0]\n",
    "    if not spicy_moves:\n",
    "        spicy_moves = list(analysis[\"possible_moves\"].keys())\n",
    "    ply = random.choice(spicy_moves)\n",
    "    return ply"
   ]
  },
  {
   "cell_type": "markdown",
   "metadata": {},
   "source": [
    "## Oversimplified match\n",
    "\n",
    "- The line `logging.getLogger().setLevel(logging.INFO)` sets the logging level to `INFO`, indicating that all logging messages with level `INFO` or higher will be displayed.\n",
    "\n",
    "- The `strategy` tuple contains two functions, `optimal` and `pure_random`, which are used to determine the moves of the two players.\n",
    "\n",
    "- The `while nim:` loop continues as long as the game is not over, meaning there are objects remaining in the game. Inside the loop, the current player's strategy function is invoked with the current game state to determine the next move (`ply = strategy[player](nim)`). This move is then applied to the game (`nim.nimming(ply)`), and both the game state and the move are logged. Finally, the current player is switched using `player = 1 - player`.\n",
    "\n",
    "- After the loop, the final game state is logged, along with the player who won the game.\n"
   ]
  },
  {
   "cell_type": "code",
   "execution_count": 9,
   "metadata": {},
   "outputs": [
    {
     "name": "stderr",
     "output_type": "stream",
     "text": [
      "INFO:root:init : <1 3 5 7 9>\n",
      "\n",
      "INFO:root:ply: player 0 plays Nimply(row=3, num_objects=6)\n",
      "INFO:root:status: <1 3 5 1 9>\n",
      "\n",
      "INFO:root:ply: player 1 plays Nimply(row=0, num_objects=0)\n",
      "INFO:root:status: <1 3 5 1 9>\n",
      "\n",
      "INFO:root:ply: player 0 plays Nimply(row=4, num_objects=5)\n",
      "INFO:root:status: <1 3 5 1 4>\n",
      "\n",
      "INFO:root:ply: player 1 plays Nimply(row=0, num_objects=0)\n",
      "INFO:root:status: <1 3 5 1 4>\n",
      "\n",
      "INFO:root:ply: player 0 plays Nimply(row=2, num_objects=3)\n",
      "INFO:root:status: <1 3 2 1 4>\n",
      "\n",
      "INFO:root:ply: player 1 plays Nimply(row=0, num_objects=0)\n",
      "INFO:root:status: <1 3 2 1 4>\n",
      "\n",
      "INFO:root:ply: player 0 plays Nimply(row=4, num_objects=1)\n",
      "INFO:root:status: <1 3 2 1 3>\n",
      "\n",
      "INFO:root:ply: player 1 plays Nimply(row=0, num_objects=0)\n",
      "INFO:root:status: <1 3 2 1 3>\n",
      "\n",
      "INFO:root:ply: player 0 plays Nimply(row=4, num_objects=1)\n",
      "INFO:root:status: <1 3 2 1 2>\n",
      "\n",
      "INFO:root:ply: player 1 plays Nimply(row=0, num_objects=0)\n",
      "INFO:root:status: <1 3 2 1 2>\n",
      "\n",
      "INFO:root:ply: player 0 plays Nimply(row=4, num_objects=2)\n",
      "INFO:root:status: <1 3 2 1 0>\n",
      "\n",
      "INFO:root:ply: player 1 plays Nimply(row=4, num_objects=0)\n",
      "INFO:root:status: <1 3 2 1 0>\n",
      "\n",
      "INFO:root:ply: player 0 plays Nimply(row=2, num_objects=1)\n",
      "INFO:root:status: <1 3 1 1 0>\n",
      "\n",
      "INFO:root:ply: player 1 plays Nimply(row=4, num_objects=0)\n",
      "INFO:root:status: <1 3 1 1 0>\n",
      "\n",
      "INFO:root:ply: player 0 plays Nimply(row=0, num_objects=1)\n",
      "INFO:root:status: <0 3 1 1 0>\n",
      "\n",
      "INFO:root:ply: player 1 plays Nimply(row=0, num_objects=0)\n",
      "INFO:root:status: <0 3 1 1 0>\n",
      "\n",
      "INFO:root:ply: player 0 plays Nimply(row=2, num_objects=1)\n",
      "INFO:root:status: <0 3 0 1 0>\n",
      "\n",
      "INFO:root:ply: player 1 plays Nimply(row=0, num_objects=0)\n",
      "INFO:root:status: <0 3 0 1 0>\n",
      "\n",
      "INFO:root:ply: player 0 plays Nimply(row=1, num_objects=3)\n",
      "INFO:root:status: <0 0 0 1 0>\n",
      "\n",
      "INFO:root:ply: player 1 plays Nimply(row=0, num_objects=0)\n",
      "INFO:root:status: <0 0 0 1 0>\n",
      "\n",
      "INFO:root:ply: player 0 plays Nimply(row=3, num_objects=1)\n",
      "INFO:root:status: <0 0 0 0 0>\n",
      "\n",
      "INFO:root:status: Player 1 won using adaptive1 startegy!\n"
     ]
    }
   ],
   "source": [
    "logging.getLogger().setLevel(logging.INFO)\n",
    "\n",
    "# strategy = (optimal, pure_random)\n",
    "# strategy = (gabriele, adaptive1)\n",
    "strategy = (optimal, adaptive1)\n",
    "\n",
    "nim = Nim(5)\n",
    "logging.info(f\"init : {nim}\\n\")\n",
    "player = 0\n",
    "while nim:\n",
    "    ply = strategy[player](nim)\n",
    "    logging.info(f\"ply: player {player} plays {ply}\")\n",
    "    nim.nimming(ply)\n",
    "    logging.info(f\"status: {nim}\\n\")\n",
    "    player = 1 - player\n",
    "logging.info(f\"status: Player {player} won using {strategy[player].__name__} startegy!\")"
   ]
  },
  {
   "cell_type": "code",
   "execution_count": null,
   "metadata": {},
   "outputs": [],
   "source": []
  },
  {
   "cell_type": "code",
   "execution_count": null,
   "metadata": {},
   "outputs": [],
   "source": []
  },
  {
   "cell_type": "code",
   "execution_count": null,
   "metadata": {},
   "outputs": [],
   "source": []
  }
 ],
 "metadata": {
  "kernelspec": {
   "display_name": "Python 3.10.7 ('ci22-dPIXJ0_o-py3.10')",
   "language": "python",
   "name": "python3"
  },
  "language_info": {
   "codemirror_mode": {
    "name": "ipython",
    "version": 3
   },
   "file_extension": ".py",
   "mimetype": "text/x-python",
   "name": "python",
   "nbconvert_exporter": "python",
   "pygments_lexer": "ipython3",
   "version": "3.10.12"
  },
  "vscode": {
   "interpreter": {
    "hash": "10197e8e2f2aa67e2c349105091c77f4cd384fce4877865f002d9ec653f96bc0"
   }
  }
 },
 "nbformat": 4,
 "nbformat_minor": 2
}
