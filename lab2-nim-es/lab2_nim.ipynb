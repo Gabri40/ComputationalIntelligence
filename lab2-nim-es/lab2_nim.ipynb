{
 "cells": [
  {
   "cell_type": "markdown",
   "metadata": {
    "pycharm": {
     "name": "#%% md\n"
    }
   },
   "source": [
    "Copyright **`(c)`** 2022 Giovanni Squillero `<squillero@polito.it>`  \n",
    "[`https://github.com/squillero/computational-intelligence`](https://github.com/squillero/computational-intelligence)  \n",
    "Free for personal or classroom use; see [`LICENSE.md`](https://github.com/squillero/computational-intelligence/blob/master/LICENSE.md) for details.\n"
   ]
  },
  {
   "cell_type": "markdown",
   "metadata": {
    "pycharm": {
     "name": "#%%\n"
    }
   },
   "source": [
    "# Lab 3: ES\n",
    "\n",
    "## Task\n",
    "\n",
    "Write agents able to play [_Nim_](https://en.wikipedia.org/wiki/Nim), with an arbitrary number of rows and an upper bound $k$ on the number of objects that can be removed in a turn (a.k.a., _subtraction game_).\n",
    "\n",
    "The goal of the game is to **avoid** taking the last object.\n",
    "\n",
    "- Task2.1: An agent using fixed rules based on _nim-sum_ (i.e., an _expert system_)\n",
    "- Task2.2: An agent using evolved rules using ES\n",
    "\n",
    "## Instructions\n",
    "\n",
    "- Create the directory `lab2` inside the course repo\n",
    "- Put a `README.md` and your solution (all the files, code and auxiliary data if needed)\n",
    "\n",
    "## Notes\n",
    "\n",
    "- Working in group is not only allowed, but recommended (see: [Ubuntu](https://en.wikipedia.org/wiki/Ubuntu_philosophy) and [Cooperative Learning](https://files.eric.ed.gov/fulltext/EJ1096789.pdf)). Collaborations must be explicitly declared in the `README.md`.\n",
    "- [Yanking](https://www.emacswiki.org/emacs/KillingAndYanking) from the internet is allowed, but sources must be explicitly declared in the `README.md`.\n"
   ]
  },
  {
   "cell_type": "code",
   "execution_count": null,
   "metadata": {},
   "outputs": [],
   "source": [
    "import logging\n",
    "from pprint import pprint, pformat\n",
    "from collections import namedtuple\n",
    "import random\n",
    "from copy import deepcopy"
   ]
  },
  {
   "cell_type": "markdown",
   "metadata": {},
   "source": [
    "## The _Nim_ and _Nimply_ classes\n"
   ]
  },
  {
   "cell_type": "code",
   "execution_count": null,
   "metadata": {},
   "outputs": [],
   "source": [
    "Nimply = namedtuple(\"Nimply\", \"row, num_objects\")"
   ]
  },
  {
   "cell_type": "code",
   "execution_count": null,
   "metadata": {},
   "outputs": [],
   "source": [
    "class Nim:\n",
    "    def __init__(self, num_rows: int, k: int = None) -> None:\n",
    "        self._rows = [i * 2 + 1 for i in range(num_rows)]\n",
    "        self._k = k\n",
    "\n",
    "    def __bool__(self):\n",
    "        return sum(self._rows) > 0\n",
    "\n",
    "    def __str__(self):\n",
    "        return \"<\" + \" \".join(str(_) for _ in self._rows) + \">\"\n",
    "\n",
    "    @property\n",
    "    def rows(self) -> tuple:\n",
    "        return tuple(self._rows)\n",
    "\n",
    "    def nimming(self, ply: Nimply) -> None:\n",
    "        row, num_objects = ply\n",
    "        assert self._rows[row] >= num_objects\n",
    "        assert self._k is None or num_objects <= self._k\n",
    "        self._rows[row] -= num_objects"
   ]
  },
  {
   "cell_type": "markdown",
   "metadata": {},
   "source": [
    "- Class `Nim` is defined, with an initializer method `__init__`, three methods `__bool__`, `__str__`, and `nimming`, and a property `rows`.\n",
    "- The `__init__` method takes two arguments: `num_rows` and `k` (with a default value of `None`), and initializes `self._rows` with a list of odd numbers and stores `k` in `self._k`.\n",
    "- The `__bool__` method returns a boolean value indicating whether the sum of the numbers in `self._rows` is greater than 0.\n",
    "- The `__str__` method returns a string representation of the `Nim` instance by joining the numbers in `self._rows` into a string enclosed in angle brackets.\n",
    "- The `rows` property returns a tuple containing the numbers in `self._rows`.\n",
    "- The `nimming` method takes a `Nimply` instance (or a tuple), unpacks it into `row` and `num_objects`, and performs two assertions. It subtracts `num_objects` from the number of objects in the specified row if both assertions pass.\n"
   ]
  },
  {
   "cell_type": "markdown",
   "metadata": {},
   "source": [
    "## Sample (and silly) startegies\n"
   ]
  },
  {
   "cell_type": "code",
   "execution_count": null,
   "metadata": {},
   "outputs": [],
   "source": [
    "def pure_random(state: Nim) -> Nimply:\n",
    "    \"\"\"A completely random move\"\"\"\n",
    "    row = random.choice(\n",
    "        [r for r, c in enumerate(state.rows) if c > 0]\n",
    "    )  # select random non empty row\n",
    "    num_objects = random.randint(\n",
    "        1, state.rows[row]\n",
    "    )  # select random number of objects to be removed from row\n",
    "    return Nimply(\n",
    "        row, num_objects\n",
    "    )  # return new Nimply object for that row with updated number of objects"
   ]
  },
  {
   "cell_type": "code",
   "execution_count": null,
   "metadata": {},
   "outputs": [],
   "source": [
    "def gabriele(state: Nim) -> Nimply:\n",
    "    \"\"\"Pick always the maximum possible number of the lowest row\"\"\"\n",
    "    possible_moves = [\n",
    "        (r, o) for r, c in enumerate(state.rows) for o in range(1, c + 1)\n",
    "    ]  # create list of all possible moves\n",
    "    return Nimply(\n",
    "        *max(possible_moves, key=lambda m: (-m[0], m[1]))\n",
    "    )  # return Nimply object with maximum number of objects from lowest row"
   ]
  },
  {
   "cell_type": "code",
   "execution_count": null,
   "metadata": {},
   "outputs": [],
   "source": [
    "def adaptive1(state: Nim) -> Nimply:\n",
    "    \"\"\"A strategy that can adapt its parameters\"\"\"\n",
    "    genome = {\"love_small\": 0.5}  # set initial value for love_small\n",
    "\n",
    "    if state.rows[0] <= 3:  # if lowest row has 3 or less objects\n",
    "        genome[\"love_small\"] = 0.9  # increase love_small\n",
    "    elif state.rows[0] >= 7:  # if lowest row has 7 or more objects\n",
    "        genome[\"love_small\"] = 0.1  # decrease love_small\n",
    "\n",
    "    row = min(\n",
    "        range(len(state.rows)), key=lambda r: state.rows[r]\n",
    "    )  # select row with lowest number of objects\n",
    "\n",
    "    num_objects = int(\n",
    "        genome[\"love_small\"] * state.rows[row]\n",
    "    )  # select number of objects to be removed from row\n",
    "\n",
    "    return Nimply(\n",
    "        row, num_objects\n",
    "    )  # return Nimply object for that row with updated number of objects"
   ]
  },
  {
   "cell_type": "code",
   "execution_count": null,
   "metadata": {},
   "outputs": [],
   "source": [
    "import numpy as np\n",
    "\n",
    "\n",
    "def nim_sum(state: Nim) -> int:\n",
    "    \"\"\"\n",
    "    takes a `Nim` object and calculates the Nim-sum of the current game\n",
    "    state by converting the counts of objects in the rows to binary, summing\n",
    "    them, and taking the modulo 2 to obtain an integer Nim-sum\n",
    "    \"\"\"\n",
    "    tmp = np.array([tuple(int(x) for x in f\"{c:032b}\") for c in state.rows])\n",
    "    xor = tmp.sum(axis=0) % 2\n",
    "    return int(\"\".join(str(_) for _ in xor), base=2)\n",
    "\n",
    "\n",
    "def analize(raw: Nim) -> dict:\n",
    "    \"\"\"\n",
    "    takes a `Nim` object and returns a dictionary with a single key,\n",
    "    \"possible_moves,\" which maps each possible move to its resulting Nim-sum. To\n",
    "    calculate this, it iterates over all possible moves, makes a deep copy of\n",
    "    the game state, applies the move to the copy, and calculates the Nim-sum of\n",
    "    the resulting state\n",
    "    \"\"\"\n",
    "    cooked = dict()\n",
    "    cooked[\"possible_moves\"] = dict()\n",
    "    for ply in (Nimply(r, o) for r, c in enumerate(raw.rows) for o in range(1, c + 1)):\n",
    "        tmp = deepcopy(raw)\n",
    "        tmp.nimming(ply)\n",
    "        cooked[\"possible_moves\"][ply] = nim_sum(tmp)\n",
    "    return cooked\n",
    "\n",
    "\n",
    "def optimal(state: Nim) -> Nimply:\n",
    "    \"\"\"\n",
    "    takes a `Nim` object and returns an optimal move by analyzing the\n",
    "    current game state to get the Nim-sums of all possible moves. It selects\n",
    "    moves that result in a non-zero Nim-sum, representing \"winning\" moves.\n",
    "    If no such moves exist, it selects all moves and chooses one at random\n",
    "    to return as the optimal move\n",
    "    \"\"\"\n",
    "\n",
    "    # from archimedes-lab.org:\n",
    "\n",
    "    # To win at Nim-game, always make a move, whenever possible, that leaves a\n",
    "    # configuration with a ZERO “Nim sum”, that is with ZERO unpaired multiple(s)\n",
    "    # of 4, 2 or 1. Otherwise, your opponent has the advantage, and you have to\n",
    "    # depend on his/her committing an error in order to win.\n",
    "\n",
    "    analysis = analize(state)\n",
    "    logging.debug(f\"analysis:\\n{pformat(analysis)}\")\n",
    "    spicy_moves = [ply for ply, ns in analysis[\"possible_moves\"].items() if ns == 0]\n",
    "    if not spicy_moves:\n",
    "        spicy_moves = list(analysis[\"possible_moves\"].keys())\n",
    "    ply = random.choice(spicy_moves)\n",
    "    return ply"
   ]
  },
  {
   "cell_type": "markdown",
   "metadata": {},
   "source": [
    "## Oversimplified match\n",
    "\n",
    "- The line `logging.getLogger().setLevel(logging.INFO)` sets the logging level to `INFO`, indicating that all logging messages with level `INFO` or higher will be displayed.\n",
    "\n",
    "- The `strategy` tuple contains two functions, `optimal` and `pure_random`, which are used to determine the moves of the two players.\n",
    "\n",
    "- The `while nim:` loop continues as long as the game is not over, meaning there are objects remaining in the game. Inside the loop, the current player's strategy function is invoked with the current game state to determine the next move (`ply = strategy[player](nim)`). This move is then applied to the game (`nim.nimming(ply)`), and both the game state and the move are logged. Finally, the current player is switched using `player = 1 - player`.\n",
    "\n",
    "- After the loop, the final game state is logged, along with the player who won the game.\n"
   ]
  },
  {
   "cell_type": "code",
   "execution_count": null,
   "metadata": {},
   "outputs": [],
   "source": [
    "# logging.getLogger().setLevel(logging.INFO)\n",
    "\n",
    "# # strategy = (optimal, pure_random)\n",
    "# # strategy = (gabriele, adaptive1)\n",
    "# strategy = (optimal, adaptive1)\n",
    "\n",
    "# nim = Nim(5)\n",
    "# logging.info(f\"init : {nim}\\n\")\n",
    "# player = 0\n",
    "# while nim:\n",
    "#     ply = strategy[player](nim)\n",
    "#     logging.info(f\"ply: player {player} plays {ply}\")\n",
    "#     nim.nimming(ply)\n",
    "#     logging.info(f\"status: {nim}\\n\")\n",
    "#     player = 1 - player\n",
    "# logging.info(f\"status: Player {player} won using {strategy[player].__name__} startegy!\")"
   ]
  },
  {
   "cell_type": "markdown",
   "metadata": {},
   "source": [
    "# NIM ES\n"
   ]
  },
  {
   "cell_type": "code",
   "execution_count": null,
   "metadata": {},
   "outputs": [],
   "source": [
    "# evolutionary params\n",
    "POPULATION_SIZE = 20\n",
    "MUTATION_RATE = 0.01\n",
    "NUMBER_GENERATIONS = 100\n",
    "\n",
    "# game params\n",
    "NIM_DIM = 5\n",
    "# Longest Nim Match is if every player takes away only one stick per turn -> numbersticks-1\n",
    "MAX_NUMBER_MOVES = sum([i * 2 + 1 for i in range(NIM_DIM)])\n",
    "STRATEGIES = [pure_random, gabriele, adaptive1, optimal]\n",
    "NUMBER_STRATEGIES = len(STRATEGIES)\n",
    "\n",
    "# number on matches in fitness\n",
    "FITNESS_MATCHES = 10\n",
    "\n",
    "# expert agent -> each move is optimal move\n",
    "EXPERT_AGENT = [optimal] * MAX_NUMBER_MOVES"
   ]
  },
  {
   "cell_type": "code",
   "execution_count": null,
   "metadata": {},
   "outputs": [],
   "source": [
    "# some rnadomly generated agents already beat optimal??\n",
    "\n",
    "\n",
    "def generate_random_agent_1():\n",
    "    # no optimal\n",
    "    return [random.choice(STRATEGIES[:-1]) for _ in range(MAX_NUMBER_MOVES)]\n",
    "\n",
    "\n",
    "def generate_random_agent_2():\n",
    "    # with small change to perform an optimal move\n",
    "    return [\n",
    "        random.choices(STRATEGIES, weights=[4, 4, 4, 1])[0]\n",
    "        for _ in range(MAX_NUMBER_MOVES)\n",
    "    ]\n",
    "\n",
    "\n",
    "print(generate_random_agent_1())\n",
    "print(generate_random_agent_2())"
   ]
  },
  {
   "cell_type": "code",
   "execution_count": null,
   "metadata": {},
   "outputs": [],
   "source": [
    "def nim_match(agent1):\n",
    "    strategy = (agent1, EXPERT_AGENT)\n",
    "\n",
    "    nim = Nim(5)\n",
    "    player = random.randint(0, 1)\n",
    "    number_moves = 0\n",
    "    while nim:\n",
    "        ply = strategy[player][number_moves](nim)\n",
    "        nim.nimming(ply)\n",
    "        player = 1 - player\n",
    "        number_moves += 1\n",
    "\n",
    "    # maybe can return 1, number of moves and it could evolve to win in less moves??\n",
    "    return player, number_moves"
   ]
  },
  {
   "cell_type": "code",
   "execution_count": null,
   "metadata": {},
   "outputs": [],
   "source": [
    "from multiprocessing import Pool\n",
    "\n",
    "\n",
    "def fitness1(agent):\n",
    "    # plays against expert by exectuing in order the moves of the agent and the expert agent\n",
    "    # fitness is sum of (won match / number moves)\n",
    "    with Pool() as pool:\n",
    "        results = pool.map(\n",
    "            nim_match, [agent] * FITNESS_MATCHES\n",
    "        )  # [(victory,moves),...]\n",
    "    return sum(\n",
    "        [res[0] / res[1] for res in results]\n",
    "    )  # optimizes for more aggressive moves ie less turns to win -> doesnt perform as well on final boss as fitness2\n",
    "\n",
    "\n",
    "def fitness2(agent):\n",
    "    # plays against expert by exectuing in order the moves of the agent and the expert agent\n",
    "    # fitness is number of matches won by agent with max 10 matches\n",
    "    with Pool() as pool:\n",
    "        results = pool.map(\n",
    "            nim_match, [agent] * FITNESS_MATCHES\n",
    "        )  # [(victory,moves),...]\n",
    "    return sum(\n",
    "        [res[0] for res in results]\n",
    "    )  # optimizes for more aggressive moves ie less turns to win\n",
    "\n",
    "\n",
    "fitness = fitness2\n",
    "\n",
    "\n",
    "# test\n",
    "print(fitness(EXPERT_AGENT))\n",
    "print(fitness([STRATEGIES[0]] * MAX_NUMBER_MOVES))  # rand\n",
    "print(fitness([STRATEGIES[1]] * MAX_NUMBER_MOVES))  # gab\n",
    "print(fitness([STRATEGIES[2]] * MAX_NUMBER_MOVES))  # adap"
   ]
  },
  {
   "cell_type": "code",
   "execution_count": null,
   "metadata": {},
   "outputs": [],
   "source": [
    "def mutate(agent):\n",
    "    # swap two move strategies\n",
    "    if random.randint(0, 1):\n",
    "        swap_index1, swap_index2 = random.sample(range(MAX_NUMBER_MOVES), 2)\n",
    "        agent[swap_index1], agent[swap_index2] = (\n",
    "            agent[swap_index2],\n",
    "            agent[swap_index1],\n",
    "        )\n",
    "    # change one move strategy to another strategy\n",
    "    else:\n",
    "        agent[random.randint(0, MAX_NUMBER_MOVES - 1)] = random.choice(STRATEGIES)\n",
    "\n",
    "    return agent"
   ]
  },
  {
   "cell_type": "code",
   "execution_count": null,
   "metadata": {},
   "outputs": [],
   "source": [
    "def reproduce(agent1, agent2):\n",
    "    # crossover\n",
    "    # random split of the two agents and then concatenate them\n",
    "    agent1_index = random.randint(0, MAX_NUMBER_MOVES - 1)\n",
    "    return agent1[:agent1_index] + agent2[agent1_index:]"
   ]
  },
  {
   "cell_type": "code",
   "execution_count": null,
   "metadata": {},
   "outputs": [],
   "source": [
    "# population = [generate_random_agent_1() for _ in range(POPULATION_SIZE)]  # no optimal -> dont work if all loses first gen (common) cause weights in random choices\n",
    "\n",
    "population = [\n",
    "    generate_random_agent_2() for _ in range(POPULATION_SIZE)\n",
    "]  # with small change to perform an optimal move"
   ]
  },
  {
   "cell_type": "code",
   "execution_count": null,
   "metadata": {},
   "outputs": [],
   "source": [
    "for generation in range(NUMBER_GENERATIONS):\n",
    "    # evaluate current generation\n",
    "    fitness_scores = [fitness(agent) for agent in population]\n",
    "\n",
    "    if generation % 5 == 0:\n",
    "        max_fitness = max(fitness_scores)\n",
    "        print(\n",
    "            \"Generation\",\n",
    "            generation,\n",
    "            \"- Best Fitness:\",\n",
    "            max_fitness,\n",
    "            \"- Avg Fitness:\",\n",
    "            np.mean(fitness_scores),\n",
    "        )\n",
    "\n",
    "    # next gen parents\n",
    "    selected_parents = random.choices(\n",
    "        population, weights=fitness_scores, k=POPULATION_SIZE // 3\n",
    "    )\n",
    "\n",
    "    # create next gen\n",
    "    new_population = []\n",
    "    for i in range(POPULATION_SIZE):\n",
    "        if random.random() < MUTATION_RATE:\n",
    "            new_population.append(mutate(random.choice(selected_parents)))\n",
    "        else:\n",
    "            agent1 = random.choice(selected_parents)\n",
    "            agent2 = random.choice(selected_parents)\n",
    "            new_population.append(reproduce(agent1, agent2))\n",
    "\n",
    "    population = new_population\n",
    "\n",
    "# print best agent\n",
    "best_agent = max(population, key=fitness)\n",
    "print()\n",
    "print(\"Best Agent ->\", [strat.__name__ for strat in best_agent])\n",
    "\n",
    "# 5ish mins on i5"
   ]
  },
  {
   "cell_type": "code",
   "execution_count": null,
   "metadata": {},
   "outputs": [],
   "source": [
    "print(\"!FINAL BOSS!\\n1000 matches VS EXPERT AGENT\") # 30ish secs on i5\n",
    "# if around 500 its basically as good as EXPERT AGENT\n",
    "print(\n",
    "    \"Evolved Agent ->\",\n",
    "    sum([nim_match(best_agent)[0] for _ in range(1000)]),\n",
    "    \"won!\",\n",
    ")\n",
    "\n",
    "\n",
    "print(\n",
    "    \"Random Agent  ->\",\n",
    "    sum([nim_match(generate_random_agent_2())[0] for _ in range(1000)]),\n",
    "    \"won!\",\n",
    ")"
   ]
  },
  {
   "cell_type": "markdown",
   "metadata": {},
   "source": [
    "### LATEST RUN\n",
    "```\n",
    "Generation 0 - Best Fitness: 6 - Avg Fitness: 1.6\n",
    "Generation 5 - Best Fitness: 8 - Avg Fitness: 4.35\n",
    "Generation 10 - Best Fitness: 9 - Avg Fitness: 5.2\n",
    "Generation 15 - Best Fitness: 9 - Avg Fitness: 5.65\n",
    "Generation 20 - Best Fitness: 9 - Avg Fitness: 5.85\n",
    "Generation 25 - Best Fitness: 8 - Avg Fitness: 4.95\n",
    "Generation 30 - Best Fitness: 8 - Avg Fitness: 4.95\n",
    "Generation 35 - Best Fitness: 8 - Avg Fitness: 5.35\n",
    "Generation 40 - Best Fitness: 9 - Avg Fitness: 5.35\n",
    "Generation 45 - Best Fitness: 7 - Avg Fitness: 4.35\n",
    "Generation 50 - Best Fitness: 10 - Avg Fitness: 5.9\n",
    "Generation 55 - Best Fitness: 7 - Avg Fitness: 5.05\n",
    "Generation 60 - Best Fitness: 8 - Avg Fitness: 5.8\n",
    "Generation 65 - Best Fitness: 8 - Avg Fitness: 5.15\n",
    "Generation 70 - Best Fitness: 7 - Avg Fitness: 4.5\n",
    "Generation 75 - Best Fitness: 8 - Avg Fitness: 5.4\n",
    "Generation 80 - Best Fitness: 8 - Avg Fitness: 5.25\n",
    "Generation 85 - Best Fitness: 8 - Avg Fitness: 4.7\n",
    "Generation 90 - Best Fitness: 9 - Avg Fitness: 5.6\n",
    "Generation 95 - Best Fitness: 8 - Avg Fitness: 5.55\n",
    "\n",
    "Best Agent -> ['adaptive1', 'adaptive1', 'adaptive1', 'pure_random', 'pure_random', 'pure_random', 'pure_random', 'adaptive1', 'adaptive1', 'pure_random', 'gabriele', 'pure_random', 'gabriele', 'adaptive1', 'pure_random', 'gabriele', 'gabriele', 'pure_random', 'pure_random', 'gabriele', 'gabriele', 'gabriele', 'pure_random', 'pure_random', 'gabriele']\n",
    "\n",
    "!FINAL BOSS!\n",
    "1000 matches VS EXPERT AGENT\n",
    "Evolved Agent -> 519 won!\n",
    "Random Agent  -> 151 won!\n",
    "```"
   ]
  }
 ],
 "metadata": {
  "kernelspec": {
   "display_name": "Python 3.10.7 ('ci22-dPIXJ0_o-py3.10')",
   "language": "python",
   "name": "python3"
  },
  "language_info": {
   "codemirror_mode": {
    "name": "ipython",
    "version": 3
   },
   "file_extension": ".py",
   "mimetype": "text/x-python",
   "name": "python",
   "nbconvert_exporter": "python",
   "pygments_lexer": "ipython3",
   "version": "3.10.12"
  },
  "vscode": {
   "interpreter": {
    "hash": "10197e8e2f2aa67e2c349105091c77f4cd384fce4877865f002d9ec653f96bc0"
   }
  }
 },
 "nbformat": 4,
 "nbformat_minor": 2
}
