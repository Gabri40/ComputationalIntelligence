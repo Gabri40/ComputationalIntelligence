{
 "cells": [
  {
   "cell_type": "markdown",
   "metadata": {},
   "source": [
    "Copyright **`(c)`** 2023 Giovanni Squillero `<giovanni.squillero@polito.it>`  \n",
    "[`https://github.com/squillero/computational-intelligence`](https://github.com/squillero/computational-intelligence)  \n",
    "Free for personal or classroom use; see [`LICENSE.md`](https://github.com/squillero/computational-intelligence/blob/master/LICENSE.md) for details.\n"
   ]
  },
  {
   "cell_type": "markdown",
   "metadata": {},
   "source": [
    "# LAB9\n",
    "\n",
    "Write a local-search algorithm (eg. an EA) able to solve the _Problem_ instances 1, 2, 5, and 10 on a 1000-loci genomes, using a minimum number of fitness calls. That's all.\n",
    "\n",
    "### Deadlines:\n",
    "\n",
    "- Submission: Sunday, December 3 ([CET](https://www.timeanddate.com/time/zones/cet))\n",
    "- Reviews: Sunday, December 10 ([CET](https://www.timeanddate.com/time/zones/cet))\n",
    "\n",
    "Notes:\n",
    "\n",
    "- Reviews will be assigned on Monday, December 4\n",
    "- You need to commit in order to be selected as a reviewer (ie. better to commit an empty work than not to commit)\n"
   ]
  },
  {
   "cell_type": "code",
   "execution_count": null,
   "metadata": {},
   "outputs": [],
   "source": [
    "# import random\n",
    "# from tqdm import tqdm\n",
    "# import lab9_lib"
   ]
  },
  {
   "cell_type": "code",
   "execution_count": null,
   "metadata": {},
   "outputs": [],
   "source": [
    "# fitness = lab9_lib.make_problem(1)\n",
    "# for n in range(10):\n",
    "#     ind = random.choices([0, 1], k=10)\n",
    "#     print(f\"{''.join(str(g) for g in ind)}: {fitness(ind):.2%}\")\n",
    "\n",
    "# print(fitness.calls)"
   ]
  },
  {
   "cell_type": "code",
   "execution_count": 2,
   "metadata": {},
   "outputs": [
    {
     "name": "stdout",
     "output_type": "stream",
     "text": [
      "Problem instance: 1\n"
     ]
    },
    {
     "name": "stderr",
     "output_type": "stream",
     "text": [
      "100%|██████████| 1000/1000 [00:00<00:00, 168771.29it/s]\n"
     ]
    },
    {
     "name": "stdout",
     "output_type": "stream",
     "text": [
      "Calls, isSol:  (1497, True)\n",
      "\n",
      "Problem instance: 2\n"
     ]
    },
    {
     "name": "stderr",
     "output_type": "stream",
     "text": [
      "100%|██████████| 500/500 [00:00<00:00, 69580.36it/s]\n"
     ]
    },
    {
     "name": "stdout",
     "output_type": "stream",
     "text": [
      "Calls, isSol:  (1864, True)\n",
      "\n",
      "Problem instance: 5\n"
     ]
    },
    {
     "name": "stderr",
     "output_type": "stream",
     "text": [
      "100%|██████████| 200/200 [00:00<00:00, 11229.58it/s]\n"
     ]
    },
    {
     "name": "stdout",
     "output_type": "stream",
     "text": [
      "Calls, isSol:  (3095, True)\n",
      "\n",
      "Problem instance: 10\n"
     ]
    },
    {
     "name": "stderr",
     "output_type": "stream",
     "text": [
      "100%|██████████| 100/100 [00:00<00:00, 3087.66it/s]"
     ]
    },
    {
     "name": "stdout",
     "output_type": "stream",
     "text": [
      "Calls, isSol:  (4690, True)\n",
      "\n"
     ]
    },
    {
     "name": "stderr",
     "output_type": "stream",
     "text": [
      "\n"
     ]
    }
   ],
   "source": [
    "import random\n",
    "import lab9_lib\n",
    "from tqdm import tqdm\n",
    "\n",
    "\n",
    "def mutate(ind, fitness):\n",
    "    \"\"\"mutate one random gene and return mutated part if fitness is better. Full GA could be used here\"\"\"\n",
    "    f1 = fitness(ind)\n",
    "    if f1 == 1.0:\n",
    "        return ind, f1\n",
    "\n",
    "    mutated = ind.copy()\n",
    "    i = random.randrange(len(ind))\n",
    "    mutated[i] = 1 - mutated[i]\n",
    "    f2 = fitness(mutated)\n",
    "\n",
    "    if f2 > f1:\n",
    "        return mutated, f2\n",
    "\n",
    "    return ind, f1\n",
    "\n",
    "\n",
    "def split_progenitor(progenitor, genome_length, problem_instance):\n",
    "    \"\"\"split progenitors in parts of length problem_instance\"\"\"\n",
    "    divisible = genome_length % problem_instance == 0\n",
    "\n",
    "    end = (\n",
    "        genome_length if divisible else genome_length - (genome_length % problem_instance)\n",
    "    )  # for non-divisible genome_length by problem_instance\n",
    "\n",
    "    parts = []\n",
    "    for i in range(0, end, problem_instance):\n",
    "        parts.append(progenitor[i : i + problem_instance])\n",
    "\n",
    "    if not divisible:\n",
    "        parts.append(progenitor[end:])\n",
    "\n",
    "    return parts\n",
    "\n",
    "\n",
    "def run(problem_instance, genome_length):\n",
    "    \"\"\"run the algorithm:\n",
    "    1. create progenitor\n",
    "    2. split progenitor in parts\n",
    "    3. mutate parts until fitness is 1.0\n",
    "    4. join parts in individual\n",
    "    5. return number of fitness calls and if individual is correct\n",
    "    \"\"\"\n",
    "\n",
    "    fitness = lab9_lib.make_problem(problem_instance)\n",
    "\n",
    "    progenitor = random.choices([0, 1], k=genome_length)\n",
    "    parts = split_progenitor(progenitor, genome_length, problem_instance)\n",
    "\n",
    "    evolved_parts = []\n",
    "    pbar = tqdm(total=len(parts))\n",
    "    for part in parts:\n",
    "        fit = 0\n",
    "        while fit < 1.0:\n",
    "            part, fit = mutate(part, fitness)\n",
    "        evolved_parts.append(g for g in part)\n",
    "        pbar.update(1)\n",
    "\n",
    "    individual = [gene for part in evolved_parts for gene in part]\n",
    "    return fitness.calls, sum(individual) == genome_length\n",
    "\n",
    "\n",
    "# ---------------------------------------------------\n",
    "\n",
    "GENOME_LENGTH = 1000\n",
    "instances = [1, 2, 5, 10]\n",
    "# instances = [1, 2, 3, 5, 7, 10, 20, 50, 100, 200, 500] # for testing perf and splitting diff numbers\n",
    "\n",
    "for instance in instances:\n",
    "    print(f\"Problem instance: {instance}\")\n",
    "    print(\"Calls, isSol: \", run(instance, GENOME_LENGTH))\n",
    "    print()"
   ]
  }
 ],
 "metadata": {
  "kernelspec": {
   "display_name": "ci-fLJ3OwGs-py3.12",
   "language": "python",
   "name": "python3"
  },
  "language_info": {
   "codemirror_mode": {
    "name": "ipython",
    "version": 3
   },
   "file_extension": ".py",
   "mimetype": "text/x-python",
   "name": "python",
   "nbconvert_exporter": "python",
   "pygments_lexer": "ipython3",
   "version": "3.9.6"
  }
 },
 "nbformat": 4,
 "nbformat_minor": 2
}
