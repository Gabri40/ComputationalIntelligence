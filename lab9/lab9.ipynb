{
 "cells": [
  {
   "cell_type": "markdown",
   "metadata": {},
   "source": [
    "Copyright **`(c)`** 2023 Giovanni Squillero `<giovanni.squillero@polito.it>`  \n",
    "[`https://github.com/squillero/computational-intelligence`](https://github.com/squillero/computational-intelligence)  \n",
    "Free for personal or classroom use; see [`LICENSE.md`](https://github.com/squillero/computational-intelligence/blob/master/LICENSE.md) for details.\n"
   ]
  },
  {
   "cell_type": "markdown",
   "metadata": {},
   "source": [
    "# LAB9\n",
    "\n",
    "Write a local-search algorithm (eg. an EA) able to solve the _Problem_ instances 1, 2, 5, and 10 on a 1000-loci genomes, using a minimum number of fitness calls. That's all.\n",
    "\n",
    "### Deadlines:\n",
    "\n",
    "- Submission: Sunday, December 3 ([CET](https://www.timeanddate.com/time/zones/cet))\n",
    "- Reviews: Sunday, December 10 ([CET](https://www.timeanddate.com/time/zones/cet))\n",
    "\n",
    "Notes:\n",
    "\n",
    "- Reviews will be assigned on Monday, December 4\n",
    "- You need to commit in order to be selected as a reviewer (ie. better to commit an empty work than not to commit)\n"
   ]
  },
  {
   "cell_type": "code",
   "execution_count": 2,
   "metadata": {},
   "outputs": [],
   "source": [
    "import random\n",
    "from tqdm import tqdm\n",
    "import lab9_lib"
   ]
  },
  {
   "cell_type": "code",
   "execution_count": 3,
   "metadata": {},
   "outputs": [],
   "source": [
    "# fitness = lab9_lib.make_problem(1)\n",
    "# for n in range(10):\n",
    "#     ind = random.choices([0, 1], k=10)\n",
    "#     print(f\"{''.join(str(g) for g in ind)}: {fitness(ind):.2%}\")\n",
    "\n",
    "# print(fitness.calls)"
   ]
  },
  {
   "cell_type": "code",
   "execution_count": 13,
   "metadata": {},
   "outputs": [
    {
     "name": "stdout",
     "output_type": "stream",
     "text": [
      "Problem 1: 0.2\n",
      "Problem 2: 0.51\n",
      "Problem 3: 0.53\n",
      "Problem 4: 0.11\n"
     ]
    }
   ],
   "source": [
    "class LocalSearchAlgorithm:\n",
    "    def __init__(self, problem_instance, genome_length, population_size=50, generations=1000):\n",
    "        self.problem_instance = problem_instance\n",
    "        self.genome_length = genome_length\n",
    "        self.population_size = population_size\n",
    "        self.generations = generations\n",
    "\n",
    "    def initialize_population(self):\n",
    "        return [random.choices([0, 1], k=self.genome_length) for _ in range(self.population_size)]\n",
    "\n",
    "    def evaluate_population(self, population):\n",
    "        return [(individual, self.problem_instance(individual)) for individual in population]\n",
    "\n",
    "    def select_parents(self, evaluated_population, num_parents=2):\n",
    "        return [individual for individual, _ in sorted(evaluated_population, key=lambda x: x[1], reverse=True)[:num_parents]]\n",
    "\n",
    "    def crossover(self, parent1, parent2):\n",
    "        crossover_point = random.randint(1, self.genome_length - 1)\n",
    "        child = parent1[:crossover_point] + parent2[crossover_point:]\n",
    "        return child\n",
    "\n",
    "    def mutate(self, individual, mutation_rate=0.01):\n",
    "        return [bit if random.random() > mutation_rate else 1 - bit for bit in individual]\n",
    "\n",
    "    def run(self):\n",
    "        population = self.initialize_population()\n",
    "\n",
    "        for generation in range(self.generations):\n",
    "            evaluated_population = self.evaluate_population(population)\n",
    "\n",
    "            for _ in range(self.population_size // 2):\n",
    "                parents = self.select_parents(evaluated_population)\n",
    "                child = self.crossover(*parents)\n",
    "                child = self.mutate(child)\n",
    "                population.append(child)\n",
    "\n",
    "            population = population[:self.population_size]\n",
    "\n",
    "        best_individual, best_fitness = max(evaluated_population, key=lambda x: x[1])\n",
    "        return best_individual, best_fitness\n",
    "\n",
    "\n",
    "genome_length = 1000\n",
    "\n",
    "problem_1 = lab9_lib.make_problem(1)\n",
    "problem_2 = lab9_lib.make_problem(2)\n",
    "problem_5 = lab9_lib.make_problem(5)\n",
    "problem_10 = lab9_lib.make_problem(10)\n",
    "\n",
    "algorithm_1 = LocalSearchAlgorithm(problem_1, genome_length)\n",
    "algorithm_2 = LocalSearchAlgorithm(problem_2, genome_length)\n",
    "algorithm_5 = LocalSearchAlgorithm(problem_5, genome_length)\n",
    "algorithm_10 = LocalSearchAlgorithm(problem_10, genome_length)\n",
    "\n",
    "\n",
    "# Parallel thanks chatGPT\n",
    "import concurrent.futures\n",
    "\n",
    "# Create a list of algorithms\n",
    "algorithms = [algorithm_1, algorithm_2, algorithm_5, algorithm_10]\n",
    "\n",
    "# Create a function to run an algorithm and return the result\n",
    "def run_algorithm(algorithm):\n",
    "    return algorithm.run()\n",
    "\n",
    "# Create a ThreadPoolExecutor with the desired number of threads\n",
    "with concurrent.futures.ThreadPoolExecutor() as executor:\n",
    "    # Submit the tasks to the executor and store the futures\n",
    "    futures = [executor.submit(run_algorithm, algorithm) for algorithm in algorithms]\n",
    "\n",
    "    # Wait for all the tasks to complete and get the results\n",
    "    results = [future.result() for future in concurrent.futures.as_completed(futures)]\n",
    "\n",
    "for i, result in enumerate(results):\n",
    "    print(f\"Problem {i+1}: {result[1]:.2}\")\n",
    "\n",
    "\n"
   ]
  }
 ],
 "metadata": {
  "kernelspec": {
   "display_name": "ci-fLJ3OwGs-py3.12",
   "language": "python",
   "name": "python3"
  },
  "language_info": {
   "codemirror_mode": {
    "name": "ipython",
    "version": 3
   },
   "file_extension": ".py",
   "mimetype": "text/x-python",
   "name": "python",
   "nbconvert_exporter": "python",
   "pygments_lexer": "ipython3",
   "version": "3.9.6"
  }
 },
 "nbformat": 4,
 "nbformat_minor": 2
}
