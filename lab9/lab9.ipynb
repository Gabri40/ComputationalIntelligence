{
 "cells": [
  {
   "cell_type": "markdown",
   "metadata": {},
   "source": [
    "Copyright **`(c)`** 2023 Giovanni Squillero `<giovanni.squillero@polito.it>`  \n",
    "[`https://github.com/squillero/computational-intelligence`](https://github.com/squillero/computational-intelligence)  \n",
    "Free for personal or classroom use; see [`LICENSE.md`](https://github.com/squillero/computational-intelligence/blob/master/LICENSE.md) for details.\n"
   ]
  },
  {
   "cell_type": "markdown",
   "metadata": {},
   "source": [
    "# LAB9\n",
    "\n",
    "Write a local-search algorithm (eg. an EA) able to solve the _Problem_ instances 1, 2, 5, and 10 on a 1000-loci genomes, using a minimum number of fitness calls. That's all.\n",
    "\n",
    "### Deadlines:\n",
    "\n",
    "- Submission: Sunday, December 3 ([CET](https://www.timeanddate.com/time/zones/cet))\n",
    "- Reviews: Sunday, December 10 ([CET](https://www.timeanddate.com/time/zones/cet))\n",
    "\n",
    "Notes:\n",
    "\n",
    "- Reviews will be assigned on Monday, December 4\n",
    "- You need to commit in order to be selected as a reviewer (ie. better to commit an empty work than not to commit)\n"
   ]
  },
  {
   "cell_type": "code",
   "execution_count": 20,
   "metadata": {},
   "outputs": [],
   "source": [
    "import random\n",
    "from tqdm import tqdm\n",
    "import lab9_lib"
   ]
  },
  {
   "cell_type": "code",
   "execution_count": 21,
   "metadata": {},
   "outputs": [],
   "source": [
    "# fitness = lab9_lib.make_problem(1)\n",
    "# for n in range(10):\n",
    "#     ind = random.choices([0, 1], k=10)\n",
    "#     print(f\"{''.join(str(g) for g in ind)}: {fitness(ind):.2%}\")\n",
    "\n",
    "# print(fitness.calls)"
   ]
  },
  {
   "cell_type": "markdown",
   "metadata": {},
   "source": [
    "The Python code in the lib defines an abstract class `AbstractProblem` and a function `make_problem(a)`.\n",
    "\n",
    "The `AbstractProblem` class has the following methods and properties:\n",
    "\n",
    "- `__init__`: Initializes the instance variable `_calls` to 0.\n",
    "- `x`: An abstract property. Subclasses of `AbstractProblem` are expected to implement this.\n",
    "- `calls`: A property that returns the number of times the instance has been called.\n",
    "- `onemax`: A static method that takes a genome (a sequence of genes) and returns the sum of its genes, treating each gene as a boolean value.\n",
    "- `__call__`: A special method that allows instances of the class to be called like functions. It increments `_calls`, computes fitnesses of the genome by slicing it into segments of length `x` and applying `onemax` to each segment, and then computes a value based on these fitnesses.\n",
    "\n",
    "The `make_problem(a)` function defines a subclass of `AbstractProblem` with `x` implemented as a property that always returns `a`, and returns this subclass. This allows you to create problems with different values of `x` easily.\n",
    "\n",
    "In summary, this code provides a framework for defining and working with optimization problems where the goal is to maximize the sum of genes in a genome, with some penalty for non-maximal segments. The `x` property determines the segment length for this computation. The `calls` property allows you to track how many times a problem instance has been called. The `make_problem(a)` function makes it easy to create problem instances with different segment lengths."
   ]
  },
  {
   "cell_type": "code",
   "execution_count": 37,
   "metadata": {},
   "outputs": [
    {
     "name": "stderr",
     "output_type": "stream",
     "text": [
      "100%|██████████| 10000/10000 [00:25<00:00, 396.10it/s]"
     ]
    },
    {
     "name": "stdout",
     "output_type": "stream",
     "text": [
      "0.54\n"
     ]
    },
    {
     "name": "stderr",
     "output_type": "stream",
     "text": [
      "\n"
     ]
    }
   ],
   "source": [
    "# solving with GA\n",
    "\n",
    "\n",
    "class GA:\n",
    "    def __init__(\n",
    "        self,\n",
    "        fitness_function,\n",
    "        genome_length,\n",
    "        population_size,\n",
    "        tournament_size,\n",
    "        mutation_probability,\n",
    "        crossover_probability,\n",
    "        max_iterations,\n",
    "    ):\n",
    "        self.fitness_function = fitness_function\n",
    "        self.genome_length = genome_length\n",
    "        self.population_size = population_size\n",
    "        self.tournament_size = tournament_size\n",
    "        self.mutation_probability = mutation_probability\n",
    "        self.crossover_probability = crossover_probability\n",
    "        self.max_iterations = max_iterations\n",
    "\n",
    "    def initialize_population(self):\n",
    "        return [\n",
    "            random.choices([0, 1], k=self.genome_length)\n",
    "            for _ in range(self.population_size)\n",
    "        ]\n",
    "\n",
    "\n",
    "\n",
    "    def crossover(self, parent1, parent2):\n",
    "        if random.random() < self.crossover_probability:\n",
    "            crossover_point = random.randint(1, self.genome_length - 1)\n",
    "            child1 = parent1[:crossover_point] + parent2[crossover_point:]\n",
    "            child2 = parent2[:crossover_point] + parent1[crossover_point:]\n",
    "            return child1, child2\n",
    "        else:\n",
    "            return parent1, parent2\n",
    "\n",
    "    def mutate(self, individual):\n",
    "        mutated_child =   [1-bit if random.random() < self.mutation_probability else bit for bit in individual]\n",
    "        return mutated_child\n",
    "\n",
    "    def run(self):\n",
    "        population = self.initialize_population()\n",
    "        for gen in tqdm(range(self.max_iterations)):\n",
    "\n",
    "            new_population = []\n",
    "            fitness_values = [self.fitness_function(ind) for ind in population]\n",
    "            parent1, parent2 = random.choices(\n",
    "                population, weights=fitness_values, k=2\n",
    "            )\n",
    "\n",
    "            for _ in range(self.population_size // 2):\n",
    "                child1, child2 = self.crossover(parent1, parent2)\n",
    "                child1 = self.mutate(child1)\n",
    "                child2 = self.mutate(child2)\n",
    "                new_population.append(child1)\n",
    "                new_population.append(child2)\n",
    "\n",
    "            population = new_population\n",
    "        return max(fitness_values)\n",
    "\n",
    "GENOME_LENGTH = 100\n",
    "POPULATION_SIZE = 100\n",
    "TOURNAMENT_SIZE = 10\n",
    "MUTATION_PROBABILITY = 0.01\n",
    "CROSSOVER_PROBABILITY = 0.8\n",
    "MAX_ITERATIONS = 10000\n",
    "\n",
    "fitness_function = lab9_lib.make_problem(1)\n",
    "genetic_algorithm = GA(fitness_function, GENOME_LENGTH, POPULATION_SIZE, TOURNAMENT_SIZE, MUTATION_PROBABILITY, CROSSOVER_PROBABILITY, MAX_ITERATIONS)\n",
    "\n",
    "print(genetic_algorithm.run())"
   ]
  }
 ],
 "metadata": {
  "kernelspec": {
   "display_name": "ci-fLJ3OwGs-py3.12",
   "language": "python",
   "name": "python3"
  },
  "language_info": {
   "codemirror_mode": {
    "name": "ipython",
    "version": 3
   },
   "file_extension": ".py",
   "mimetype": "text/x-python",
   "name": "python",
   "nbconvert_exporter": "python",
   "pygments_lexer": "ipython3",
   "version": "3.9.6"
  }
 },
 "nbformat": 4,
 "nbformat_minor": 2
}
