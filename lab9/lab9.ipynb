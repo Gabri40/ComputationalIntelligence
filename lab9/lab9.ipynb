{
 "cells": [
  {
   "cell_type": "markdown",
   "metadata": {},
   "source": [
    "Copyright **`(c)`** 2023 Giovanni Squillero `<giovanni.squillero@polito.it>`  \n",
    "[`https://github.com/squillero/computational-intelligence`](https://github.com/squillero/computational-intelligence)  \n",
    "Free for personal or classroom use; see [`LICENSE.md`](https://github.com/squillero/computational-intelligence/blob/master/LICENSE.md) for details.  "
   ]
  },
  {
   "cell_type": "markdown",
   "metadata": {},
   "source": [
    "# LAB9\n",
    "\n",
    "Write a local-search algorithm (eg. an EA) able to solve the *Problem* instances 1, 2, 5, and 10 on a 1000-loci genomes, using a minimum number of fitness calls. That's all.\n",
    "\n",
    "### Deadlines:\n",
    "\n",
    "* Submission: Sunday, December 3 ([CET](https://www.timeanddate.com/time/zones/cet))\n",
    "* Reviews: Sunday, December 10 ([CET](https://www.timeanddate.com/time/zones/cet))\n",
    "\n",
    "Notes:\n",
    "\n",
    "* Reviews will be assigned  on Monday, December 4\n",
    "* You need to commit in order to be selected as a reviewer (ie. better to commit an empty work than not to commit)"
   ]
  },
  {
   "cell_type": "code",
   "execution_count": 10,
   "metadata": {},
   "outputs": [],
   "source": [
    "from random import random, choices, choice,randint\n",
    "\n",
    "from tqdm import tqdm\n",
    "\n",
    "import lab9_lib"
   ]
  },
  {
   "cell_type": "code",
   "execution_count": 2,
   "metadata": {},
   "outputs": [],
   "source": [
    "# fitness = lab9_lib.make_problem(2)\n",
    "# for n in range(10):\n",
    "#     ind = choices([0, 1], k=10)\n",
    "#     print(f\"{''.join(str(g) for g in ind)}: {fitness(ind):.2%}\")\n",
    "\n",
    "# print(fitness.calls)"
   ]
  },
  {
   "cell_type": "markdown",
   "metadata": {},
   "source": [
    "1) what"
   ]
  },
  {
   "cell_type": "markdown",
   "metadata": {},
   "source": [
    "# GA"
   ]
  },
  {
   "cell_type": "code",
   "execution_count": 26,
   "metadata": {},
   "outputs": [],
   "source": [
    "class GA:\n",
    "    def __init__(\n",
    "        self,\n",
    "        fitness,\n",
    "        population_size=50,\n",
    "        number_generations=100,\n",
    "        mutation_rate=0.1,\n",
    "        genome_size=1000,\n",
    "        parent_selection_size=10,\n",
    "    ):\n",
    "        self.fitness = fitness\n",
    "        self.population_size = population_size\n",
    "        self.generations = number_generations\n",
    "        self.population = [choices([0, 1], k=genome_size) * population_size]\n",
    "        self.mutation_rate = mutation_rate\n",
    "        self.genome_size = genome_size\n",
    "        self.parent_selection_size = parent_selection_size\n",
    "\n",
    "    def mutate(self, individual):\n",
    "        return [\n",
    "            1 - gene if random() < self.mutation_rate else gene for gene in individual\n",
    "        ]\n",
    "\n",
    "    def crossover(self, parent1, parent2):\n",
    "        point = int(random() * self.genome_size)\n",
    "        # point=self.genome_size//2\n",
    "        return parent1[:point] + parent2[point:]\n",
    "    \n",
    "    def run_evolution(self):\n",
    "\n",
    "        # for generation in tqdm(range(self.generations)):\n",
    "        for generation in range(self.generations):\n",
    "            # Evaluate fitness for each individual in the population\n",
    "            fitness_scores = []\n",
    "            for individual in self.population:\n",
    "                f = self.fitness(individual)\n",
    "                fitness_scores.append(f)\n",
    "                if int(f) == 100:\n",
    "                    print(\"Solution found at generation\", generation)\n",
    "                    print(\"Fitness calls:\", self.fitness.calls)\n",
    "                    return\n",
    "                \n",
    "            print(f\"gen {generation} best fitness: {max(fitness_scores)}\")\n",
    "\n",
    "            # Select parents for the next generation using roulette wheel selection\n",
    "            selected_parents = choices(\n",
    "                self.population, weights=fitness_scores, k=self.population_size\n",
    "            )\n",
    "            \n",
    "            # Create a new population through crossover and mutation\n",
    "            new_population = []\n",
    "            for _ in range(self.population_size):\n",
    "                # Parent selection\n",
    "                parent1 = choice(selected_parents)\n",
    "                parent2 = choice(selected_parents)\n",
    "\n",
    "                # Crossover and mutation\n",
    "                child = self.mutate(self.crossover(parent1, parent2))\n",
    "\n",
    "                new_population.append(child)\n",
    "\n",
    "            self.population = new_population\n",
    "\n",
    "        print(\"No solution found\")\n",
    "        print(\"Fitness calls:\", self.fitness.calls)\n",
    "        print(\"best fitness:\", max(fitness_scores))\n",
    "\n",
    "\n"
   ]
  },
  {
   "cell_type": "markdown",
   "metadata": {},
   "source": [
    "# Istance 1"
   ]
  },
  {
   "cell_type": "code",
   "execution_count": 28,
   "metadata": {},
   "outputs": [
    {
     "name": "stdout",
     "output_type": "stream",
     "text": [
      "gen 0 best fitness: 0.2333\n",
      "gen 1 best fitness: 0.23402\n",
      "gen 2 best fitness: 0.233648\n",
      "gen 3 best fitness: 0.232316\n",
      "gen 4 best fitness: 0.23223400000000002\n",
      "gen 5 best fitness: 0.23108599999999999\n",
      "gen 6 best fitness: 0.50016\n",
      "gen 7 best fitness: 0.5022\n",
      "gen 8 best fitness: 0.23026400000000002\n",
      "gen 9 best fitness: 0.22994\n",
      "gen 10 best fitness: 0.50348\n",
      "gen 11 best fitness: 0.229008\n",
      "gen 12 best fitness: 0.230328\n",
      "gen 13 best fitness: 0.229116\n",
      "gen 14 best fitness: 0.22946\n",
      "gen 15 best fitness: 0.22913799999999998\n",
      "gen 16 best fitness: 0.228896\n",
      "gen 17 best fitness: 0.49824\n",
      "gen 18 best fitness: 0.23040400000000003\n",
      "gen 19 best fitness: 0.23024799999999998\n",
      "gen 20 best fitness: 0.23009\n",
      "gen 21 best fitness: 0.230472\n",
      "gen 22 best fitness: 0.230464\n",
      "gen 23 best fitness: 0.49996\n",
      "gen 24 best fitness: 0.22958\n",
      "gen 25 best fitness: 0.229042\n",
      "gen 26 best fitness: 0.229358\n",
      "gen 27 best fitness: 0.229964\n",
      "gen 28 best fitness: 0.22942400000000002\n",
      "gen 29 best fitness: 0.22937200000000002\n",
      "gen 30 best fitness: 0.22909200000000002\n",
      "gen 31 best fitness: 0.22893400000000003\n",
      "gen 32 best fitness: 0.228208\n",
      "gen 33 best fitness: 0.22869799999999998\n",
      "gen 34 best fitness: 0.22851200000000002\n",
      "gen 35 best fitness: 0.228128\n",
      "gen 36 best fitness: 0.49936\n",
      "gen 37 best fitness: 0.22795400000000002\n",
      "gen 38 best fitness: 0.22814\n",
      "gen 39 best fitness: 0.5018\n",
      "gen 40 best fitness: 0.229474\n",
      "gen 41 best fitness: 0.230584\n",
      "gen 42 best fitness: 0.22874\n",
      "gen 43 best fitness: 0.2283\n",
      "gen 44 best fitness: 0.228804\n"
     ]
    },
    {
     "ename": "KeyboardInterrupt",
     "evalue": "",
     "output_type": "error",
     "traceback": [
      "\u001b[0;31m---------------------------------------------------------------------------\u001b[0m",
      "\u001b[0;31mKeyboardInterrupt\u001b[0m                         Traceback (most recent call last)",
      "\u001b[1;32m/Users/gabriquaranta/repos/computational-intelligence/lab9/lab9.ipynb Cell 9\u001b[0m line \u001b[0;36m4\n\u001b[1;32m      <a href='vscode-notebook-cell:/Users/gabriquaranta/repos/computational-intelligence/lab9/lab9.ipynb#X20sZmlsZQ%3D%3D?line=0'>1</a>\u001b[0m fitness \u001b[39m=\u001b[39m lab9_lib\u001b[39m.\u001b[39mmake_problem(\u001b[39m2\u001b[39m)\n\u001b[1;32m      <a href='vscode-notebook-cell:/Users/gabriquaranta/repos/computational-intelligence/lab9/lab9.ipynb#X20sZmlsZQ%3D%3D?line=2'>3</a>\u001b[0m ga\u001b[39m=\u001b[39mGA(fitness, population_size\u001b[39m=\u001b[39m\u001b[39m50\u001b[39m, number_generations\u001b[39m=\u001b[39m\u001b[39m100\u001b[39m, mutation_rate\u001b[39m=\u001b[39m\u001b[39m0.1\u001b[39m, genome_size\u001b[39m=\u001b[39m\u001b[39m1000\u001b[39m, parent_selection_size\u001b[39m=\u001b[39m\u001b[39m20\u001b[39m)\n\u001b[0;32m----> <a href='vscode-notebook-cell:/Users/gabriquaranta/repos/computational-intelligence/lab9/lab9.ipynb#X20sZmlsZQ%3D%3D?line=3'>4</a>\u001b[0m ga\u001b[39m.\u001b[39;49mrun_evolution()\n",
      "\u001b[1;32m/Users/gabriquaranta/repos/computational-intelligence/lab9/lab9.ipynb Cell 9\u001b[0m line \u001b[0;36m3\n\u001b[1;32m     <a href='vscode-notebook-cell:/Users/gabriquaranta/repos/computational-intelligence/lab9/lab9.ipynb#X20sZmlsZQ%3D%3D?line=33'>34</a>\u001b[0m fitness_scores \u001b[39m=\u001b[39m []\n\u001b[1;32m     <a href='vscode-notebook-cell:/Users/gabriquaranta/repos/computational-intelligence/lab9/lab9.ipynb#X20sZmlsZQ%3D%3D?line=34'>35</a>\u001b[0m \u001b[39mfor\u001b[39;00m individual \u001b[39min\u001b[39;00m \u001b[39mself\u001b[39m\u001b[39m.\u001b[39mpopulation:\n\u001b[0;32m---> <a href='vscode-notebook-cell:/Users/gabriquaranta/repos/computational-intelligence/lab9/lab9.ipynb#X20sZmlsZQ%3D%3D?line=35'>36</a>\u001b[0m     f \u001b[39m=\u001b[39m \u001b[39mself\u001b[39;49m\u001b[39m.\u001b[39;49mfitness(individual)\n\u001b[1;32m     <a href='vscode-notebook-cell:/Users/gabriquaranta/repos/computational-intelligence/lab9/lab9.ipynb#X20sZmlsZQ%3D%3D?line=36'>37</a>\u001b[0m     fitness_scores\u001b[39m.\u001b[39mappend(f)\n\u001b[1;32m     <a href='vscode-notebook-cell:/Users/gabriquaranta/repos/computational-intelligence/lab9/lab9.ipynb#X20sZmlsZQ%3D%3D?line=37'>38</a>\u001b[0m     \u001b[39mif\u001b[39;00m \u001b[39mint\u001b[39m(f) \u001b[39m==\u001b[39m \u001b[39m100\u001b[39m:\n",
      "File \u001b[0;32m~/repos/computational-intelligence/lab9/lab9_lib.py:27\u001b[0m, in \u001b[0;36mAbstractProblem.__call__\u001b[0;34m(self, genome)\u001b[0m\n\u001b[1;32m     25\u001b[0m \u001b[39mdef\u001b[39;00m \u001b[39m__call__\u001b[39m(\u001b[39mself\u001b[39m, genome):\n\u001b[1;32m     26\u001b[0m     \u001b[39mself\u001b[39m\u001b[39m.\u001b[39m_calls \u001b[39m+\u001b[39m\u001b[39m=\u001b[39m \u001b[39m1\u001b[39m\n\u001b[0;32m---> 27\u001b[0m     fitnesses \u001b[39m=\u001b[39m \u001b[39msorted\u001b[39;49m((AbstractProblem\u001b[39m.\u001b[39;49monemax(genome[s :: \u001b[39mself\u001b[39;49m\u001b[39m.\u001b[39;49mx]) \u001b[39mfor\u001b[39;49;00m s \u001b[39min\u001b[39;49;00m \u001b[39mrange\u001b[39;49m(\u001b[39mself\u001b[39;49m\u001b[39m.\u001b[39;49mx)), reverse\u001b[39m=\u001b[39;49m\u001b[39mTrue\u001b[39;49;00m)\n\u001b[1;32m     28\u001b[0m     val \u001b[39m=\u001b[39m \u001b[39msum\u001b[39m(f \u001b[39mfor\u001b[39;00m f \u001b[39min\u001b[39;00m fitnesses \u001b[39mif\u001b[39;00m f \u001b[39m==\u001b[39m fitnesses[\u001b[39m0\u001b[39m]) \u001b[39m-\u001b[39m \u001b[39msum\u001b[39m(\n\u001b[1;32m     29\u001b[0m         f \u001b[39m*\u001b[39m (\u001b[39m0.1\u001b[39m \u001b[39m*\u001b[39m\u001b[39m*\u001b[39m (k \u001b[39m+\u001b[39m \u001b[39m1\u001b[39m)) \u001b[39mfor\u001b[39;00m k, f \u001b[39min\u001b[39;00m \u001b[39menumerate\u001b[39m(f \u001b[39mfor\u001b[39;00m f \u001b[39min\u001b[39;00m fitnesses \u001b[39mif\u001b[39;00m f \u001b[39m<\u001b[39m fitnesses[\u001b[39m0\u001b[39m])\n\u001b[1;32m     30\u001b[0m     )\n\u001b[1;32m     31\u001b[0m     \u001b[39mreturn\u001b[39;00m val \u001b[39m/\u001b[39m \u001b[39mlen\u001b[39m(genome)\n",
      "File \u001b[0;32m~/repos/computational-intelligence/lab9/lab9_lib.py:27\u001b[0m, in \u001b[0;36m<genexpr>\u001b[0;34m(.0)\u001b[0m\n\u001b[1;32m     25\u001b[0m \u001b[39mdef\u001b[39;00m \u001b[39m__call__\u001b[39m(\u001b[39mself\u001b[39m, genome):\n\u001b[1;32m     26\u001b[0m     \u001b[39mself\u001b[39m\u001b[39m.\u001b[39m_calls \u001b[39m+\u001b[39m\u001b[39m=\u001b[39m \u001b[39m1\u001b[39m\n\u001b[0;32m---> 27\u001b[0m     fitnesses \u001b[39m=\u001b[39m \u001b[39msorted\u001b[39m((AbstractProblem\u001b[39m.\u001b[39;49monemax(genome[s :: \u001b[39mself\u001b[39;49m\u001b[39m.\u001b[39;49mx]) \u001b[39mfor\u001b[39;00m s \u001b[39min\u001b[39;00m \u001b[39mrange\u001b[39m(\u001b[39mself\u001b[39m\u001b[39m.\u001b[39mx)), reverse\u001b[39m=\u001b[39m\u001b[39mTrue\u001b[39;00m)\n\u001b[1;32m     28\u001b[0m     val \u001b[39m=\u001b[39m \u001b[39msum\u001b[39m(f \u001b[39mfor\u001b[39;00m f \u001b[39min\u001b[39;00m fitnesses \u001b[39mif\u001b[39;00m f \u001b[39m==\u001b[39m fitnesses[\u001b[39m0\u001b[39m]) \u001b[39m-\u001b[39m \u001b[39msum\u001b[39m(\n\u001b[1;32m     29\u001b[0m         f \u001b[39m*\u001b[39m (\u001b[39m0.1\u001b[39m \u001b[39m*\u001b[39m\u001b[39m*\u001b[39m (k \u001b[39m+\u001b[39m \u001b[39m1\u001b[39m)) \u001b[39mfor\u001b[39;00m k, f \u001b[39min\u001b[39;00m \u001b[39menumerate\u001b[39m(f \u001b[39mfor\u001b[39;00m f \u001b[39min\u001b[39;00m fitnesses \u001b[39mif\u001b[39;00m f \u001b[39m<\u001b[39m fitnesses[\u001b[39m0\u001b[39m])\n\u001b[1;32m     30\u001b[0m     )\n\u001b[1;32m     31\u001b[0m     \u001b[39mreturn\u001b[39;00m val \u001b[39m/\u001b[39m \u001b[39mlen\u001b[39m(genome)\n",
      "File \u001b[0;32m~/repos/computational-intelligence/lab9/lab9_lib.py:23\u001b[0m, in \u001b[0;36mAbstractProblem.onemax\u001b[0;34m(genome)\u001b[0m\n\u001b[1;32m     21\u001b[0m \u001b[39m@staticmethod\u001b[39m\n\u001b[1;32m     22\u001b[0m \u001b[39mdef\u001b[39;00m \u001b[39monemax\u001b[39m(genome):\n\u001b[0;32m---> 23\u001b[0m     \u001b[39mreturn\u001b[39;00m \u001b[39msum\u001b[39;49m(\u001b[39mbool\u001b[39;49m(g) \u001b[39mfor\u001b[39;49;00m g \u001b[39min\u001b[39;49;00m genome)\n",
      "File \u001b[0;32m~/repos/computational-intelligence/lab9/lab9_lib.py:23\u001b[0m, in \u001b[0;36m<genexpr>\u001b[0;34m(.0)\u001b[0m\n\u001b[1;32m     21\u001b[0m \u001b[39m@staticmethod\u001b[39m\n\u001b[1;32m     22\u001b[0m \u001b[39mdef\u001b[39;00m \u001b[39monemax\u001b[39m(genome):\n\u001b[0;32m---> 23\u001b[0m     \u001b[39mreturn\u001b[39;00m \u001b[39msum\u001b[39m(\u001b[39mbool\u001b[39m(g) \u001b[39mfor\u001b[39;00m g \u001b[39min\u001b[39;00m genome)\n",
      "\u001b[0;31mKeyboardInterrupt\u001b[0m: "
     ]
    }
   ],
   "source": [
    "fitness = lab9_lib.make_problem(2)\n",
    "\n",
    "ga=GA(fitness, population_size=50, number_generations=100, mutation_rate=0.1, genome_size=1000, parent_selection_size=20)\n",
    "ga.run_evolution()"
   ]
  }
 ],
 "metadata": {
  "kernelspec": {
   "display_name": "ci-fLJ3OwGs-py3.12",
   "language": "python",
   "name": "python3"
  },
  "language_info": {
   "codemirror_mode": {
    "name": "ipython",
    "version": 3
   },
   "file_extension": ".py",
   "mimetype": "text/x-python",
   "name": "python",
   "nbconvert_exporter": "python",
   "pygments_lexer": "ipython3",
   "version": "3.9.6"
  }
 },
 "nbformat": 4,
 "nbformat_minor": 2
}
