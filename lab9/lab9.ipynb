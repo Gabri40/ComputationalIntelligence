{
 "cells": [
  {
   "cell_type": "markdown",
   "metadata": {},
   "source": [
    "Copyright **`(c)`** 2023 Giovanni Squillero `<giovanni.squillero@polito.it>`  \n",
    "[`https://github.com/squillero/computational-intelligence`](https://github.com/squillero/computational-intelligence)  \n",
    "Free for personal or classroom use; see [`LICENSE.md`](https://github.com/squillero/computational-intelligence/blob/master/LICENSE.md) for details.\n"
   ]
  },
  {
   "cell_type": "markdown",
   "metadata": {},
   "source": [
    "# LAB9\n",
    "\n",
    "Write a local-search algorithm (eg. an EA) able to solve the _Problem_ instances 1, 2, 5, and 10 on a 1000-loci genomes, using a minimum number of fitness calls. That's all.\n",
    "\n",
    "### Deadlines:\n",
    "\n",
    "- Submission: Sunday, December 3 ([CET](https://www.timeanddate.com/time/zones/cet))\n",
    "- Reviews: Sunday, December 10 ([CET](https://www.timeanddate.com/time/zones/cet))\n",
    "\n",
    "Notes:\n",
    "\n",
    "- Reviews will be assigned on Monday, December 4\n",
    "- You need to commit in order to be selected as a reviewer (ie. better to commit an empty work than not to commit)\n"
   ]
  },
  {
   "cell_type": "code",
   "execution_count": 129,
   "metadata": {},
   "outputs": [],
   "source": [
    "# import random\n",
    "# from tqdm import tqdm\n",
    "# import lab9_lib"
   ]
  },
  {
   "cell_type": "code",
   "execution_count": 130,
   "metadata": {},
   "outputs": [],
   "source": [
    "# fitness = lab9_lib.make_problem(1)\n",
    "# for n in range(10):\n",
    "#     ind = random.choices([0, 1], k=10)\n",
    "#     print(f\"{''.join(str(g) for g in ind)}: {fitness(ind):.2%}\")\n",
    "\n",
    "# print(fitness.calls)"
   ]
  },
  {
   "cell_type": "markdown",
   "metadata": {},
   "source": [
    "The Python code in the lib defines an abstract class `AbstractProblem` and a function `make_problem(a)`.\n",
    "\n",
    "The `AbstractProblem` class has the following methods and properties:\n",
    "\n",
    "- `__init__`: Initializes the instance variable `_calls` to 0.\n",
    "- `x`: An abstract property. Subclasses of `AbstractProblem` are expected to implement this.\n",
    "- `calls`: A property that returns the number of times the instance has been called.\n",
    "- `onemax`: A static method that takes a genome (a sequence of genes) and returns the sum of its genes, treating each gene as a boolean value.\n",
    "- `__call__`: A special method that allows instances of the class to be called like functions. It increments `_calls`, computes fitnesses of the genome by slicing it into segments of length `x` and applying `onemax` to each segment, and then computes a value based on these fitnesses.\n",
    "\n",
    "The `make_problem(a)` function defines a subclass of `AbstractProblem` with `x` implemented as a property that always returns `a`, and returns this subclass. This allows you to create problems with different values of `x` easily.\n",
    "\n",
    "In summary, this code provides a framework for defining and working with optimization problems where the goal is to maximize the sum of genes in a genome, with some penalty for non-maximal segments. The `x` property determines the segment length for this computation. The `calls` property allows you to track how many times a problem instance has been called. The `make_problem(a)` function makes it easy to create problem instances with different segment lengths."
   ]
  },
  {
   "cell_type": "code",
   "execution_count": 177,
   "metadata": {},
   "outputs": [
    {
     "name": "stdout",
     "output_type": "stream",
     "text": [
      "Instance 1 - (1487, True)\n",
      "Instance 2 - (2024, True)\n",
      "Instance 5 - (3041, True)\n",
      "Instance 10 - (4598, True)\n"
     ]
    }
   ],
   "source": [
    "import random\n",
    "import lab9_lib\n",
    "\n",
    "\n",
    "def mutate(ind, problem_instance, fitness):\n",
    "    \"\"\"mutate one random gene and return mutated part if fitness is better. Full GA could be used here\"\"\"\n",
    "    f1 = fitness(ind)\n",
    "    if f1 == 1.0:\n",
    "        return ind, f1\n",
    "\n",
    "    mutated = ind.copy()\n",
    "    i = random.randrange(problem_instance)\n",
    "    mutated[i] = 1 - mutated[i]\n",
    "    f2 = fitness(mutated)\n",
    "\n",
    "    if f2 > f1:\n",
    "        return mutated, f2\n",
    "\n",
    "    return ind, f1\n",
    "\n",
    "\n",
    "def split_progenitor(progenitor, genome_length, problem_instance):\n",
    "    \"\"\"split progenitors in parts of length problem_instance\"\"\"\n",
    "    end = (\n",
    "        genome_length\n",
    "        if genome_length % problem_instance == 0\n",
    "        else genome_length - problem_instance\n",
    "    )  # for non-divisible genome_length by problem_instance\n",
    "    parts = []\n",
    "    for i in range(0, end, problem_instance):\n",
    "        parts.append(progenitor[i : i + problem_instance])\n",
    "\n",
    "    return parts\n",
    "\n",
    "\n",
    "def run(problem_instance, genome_length):\n",
    "    \"\"\"run the algorithm:\n",
    "    1. create progenitor\n",
    "    2. split progenitor in parts\n",
    "    3. mutate parts until fitness is 1.0\n",
    "    4. join parts in individual\n",
    "    5. return number of fitness calls and if individual is correct\n",
    "    \"\"\"\n",
    "\n",
    "    fitness = lab9_lib.make_problem(problem_instance)\n",
    "\n",
    "    progenitor = random.choices([0, 1], k=genome_length)\n",
    "    parts = split_progenitor(progenitor, genome_length, problem_instance)\n",
    "\n",
    "    evolved_parts = []\n",
    "    for part in parts:\n",
    "        fit = 0\n",
    "        while fit < 1.0:\n",
    "            part, fit = mutate(part, problem_instance, fitness)\n",
    "        evolved_parts.append(g for g in part)\n",
    "\n",
    "    individual = [gene for part in evolved_parts for gene in part]\n",
    "    return fitness.calls, sum(individual) == genome_length\n",
    "\n",
    "\n",
    "# ---------------------------------------------------\n",
    "\n",
    "GENOME_LENGTH = 1000\n",
    "instances = [1, 2, 5, 10]\n",
    "# instances = [1, 2, 3, 5, 7, 10, 20, 50, 100, 200, 500] # for testing\n",
    "\n",
    "for instance in instances:\n",
    "    print(f\"Instance {instance} - {run(instance, GENOME_LENGTH)}\")"
   ]
  }
 ],
 "metadata": {
  "kernelspec": {
   "display_name": "ci-fLJ3OwGs-py3.12",
   "language": "python",
   "name": "python3"
  },
  "language_info": {
   "codemirror_mode": {
    "name": "ipython",
    "version": 3
   },
   "file_extension": ".py",
   "mimetype": "text/x-python",
   "name": "python",
   "nbconvert_exporter": "python",
   "pygments_lexer": "ipython3",
   "version": "3.9.6"
  }
 },
 "nbformat": 4,
 "nbformat_minor": 2
}
