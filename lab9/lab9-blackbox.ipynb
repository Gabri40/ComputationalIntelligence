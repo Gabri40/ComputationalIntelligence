{
 "cells": [
  {
   "cell_type": "markdown",
   "metadata": {},
   "source": [
    "Copyright **`(c)`** 2023 Giovanni Squillero `<giovanni.squillero@polito.it>`  \n",
    "[`https://github.com/squillero/computational-intelligence`](https://github.com/squillero/computational-intelligence)  \n",
    "Free for personal or classroom use; see [`LICENSE.md`](https://github.com/squillero/computational-intelligence/blob/master/LICENSE.md) for details.\n"
   ]
  },
  {
   "cell_type": "markdown",
   "metadata": {},
   "source": [
    "# LAB9\n",
    "\n",
    "Write a local-search algorithm (eg. an EA) able to solve the _Problem_ instances 1, 2, 5, and 10 on a 1000-loci genomes, using a minimum number of fitness calls. That's all.\n",
    "\n",
    "### Deadlines:\n",
    "\n",
    "- Submission: Sunday, December 3 ([CET](https://www.timeanddate.com/time/zones/cet))\n",
    "- Reviews: Sunday, December 10 ([CET](https://www.timeanddate.com/time/zones/cet))\n",
    "\n",
    "Notes:\n",
    "\n",
    "- Reviews will be assigned on Monday, December 4\n",
    "- You need to commit in order to be selected as a reviewer (ie. better to commit an empty work than not to commit)\n"
   ]
  },
  {
   "cell_type": "code",
   "execution_count": null,
   "metadata": {},
   "outputs": [],
   "source": [
    "# import random\n",
    "# from tqdm import tqdm\n",
    "# import lab9_lib"
   ]
  },
  {
   "cell_type": "code",
   "execution_count": null,
   "metadata": {},
   "outputs": [],
   "source": [
    "# fitness = lab9_lib.make_problem(1)\n",
    "# for n in range(10):\n",
    "#     ind = random.choices([0, 1], k=10)\n",
    "#     print(f\"{''.join(str(g) for g in ind)}: {fitness(ind):.2%}\")\n",
    "\n",
    "# print(fitness.calls)"
   ]
  },
  {
   "cell_type": "markdown",
   "metadata": {},
   "source": [
    "# Blackbox fitness function 2\n",
    "\n",
    "1. we can evaluate the fitness compared to sum and see what it does"
   ]
  },
  {
   "cell_type": "code",
   "execution_count": 20,
   "metadata": {},
   "outputs": [],
   "source": [
    "\n",
    "import lab9_lib\n",
    "import numpy as np\n",
    "from tqdm import tqdm\n",
    "\n",
    "\n",
    "def tournament_selection(population, fitness, tournament_size):\n",
    "    ff = [f**2 for f in fitness]\n",
    "    selected_indices = np.random.choice(\n",
    "        len(population),\n",
    "        size=tournament_size,\n",
    "        replace=False,\n",
    "        p=ff / np.sum(ff),\n",
    "    )\n",
    "\n",
    "    tournament_fitness = fitness[selected_indices]\n",
    "    return selected_indices[np.argmax(tournament_fitness)]\n",
    "\n",
    "\n",
    "def one_point_crossover(parent1, parent2):\n",
    "    crossover_point = np.random.randint(1, len(parent1))\n",
    "    child1 = np.concatenate((parent1[:crossover_point], parent2[crossover_point:]))\n",
    "    child2 = np.concatenate((parent2[:crossover_point], parent1[crossover_point:]))\n",
    "    return child1, child2\n",
    "\n",
    "\n",
    "def mutation(child, mutation_rate):\n",
    "    mutation_mask = np.random.rand(len(child)) < mutation_rate\n",
    "    child[mutation_mask] = 1 - child[mutation_mask]\n",
    "    return child\n",
    "\n",
    "\n",
    "def genetic_algorithm(\n",
    "    pop_size,\n",
    "    chromosome_length,\n",
    "    tournament_size,\n",
    "    crossover_rate,\n",
    "    mutation_rate,\n",
    "    fitness_f=lab9_lib.make_problem(1),\n",
    "):\n",
    "    population = np.random.randint(2, size=(pop_size, chromosome_length))\n",
    "\n",
    "    generation = 0\n",
    "\n",
    "    while True:\n",
    "        fitness = np.array([fitness_f(individual)*np.sum(individual) for individual in population])\n",
    "\n",
    "        new_population = []\n",
    "\n",
    "        if np.max(fitness) >= chromosome_length:\n",
    "            print(\"Found solution in generation\", generation)\n",
    "            return\n",
    "\n",
    "        if generation % 250 == 0:\n",
    "            maxindex = np.argmax(fitness)\n",
    "            print(\n",
    "                \"Generation\",\n",
    "                generation,\n",
    "                \"Fitness:\",\n",
    "                fitness[maxindex],\n",
    "                \"Actual fitness:\",\n",
    "                np.sum(population[maxindex]),\n",
    "            )\n",
    "\n",
    "        while len(new_population) < pop_size:\n",
    "            parent1_idx = tournament_selection(population, fitness, tournament_size)\n",
    "            parent2_idx = tournament_selection(population, fitness, tournament_size)\n",
    "\n",
    "            parent1 = population[parent1_idx]\n",
    "            parent2 = population[parent2_idx]\n",
    "\n",
    "            new_population.extend([parent1, parent2])\n",
    "\n",
    "            if np.random.rand() < crossover_rate:\n",
    "                child1, child2 = one_point_crossover(parent1, parent2)\n",
    "            else:\n",
    "                child1, child2 = parent1.copy(), parent2.copy()\n",
    "\n",
    "            child1 = mutation(child1, mutation_rate)\n",
    "            child2 = mutation(child2, mutation_rate)\n",
    "\n",
    "            new_population.extend([child1, child2])\n",
    "\n",
    "        population = np.array(new_population[:pop_size])\n",
    "        generation += 1\n",
    "        "
   ]
  },
  {
   "cell_type": "markdown",
   "metadata": {},
   "source": [
    "# Instance 1"
   ]
  },
  {
   "cell_type": "code",
   "execution_count": 24,
   "metadata": {},
   "outputs": [
    {
     "name": "stdout",
     "output_type": "stream",
     "text": [
      "Generation 0 Fitness: 276.676 Actual fitness: 526\n",
      "Generation 250 Fitness: 806.404 Actual fitness: 898\n",
      "Generation 500 Fitness: 898.704 Actual fitness: 948\n",
      "Generation 750 Fitness: 938.961 Actual fitness: 969\n",
      "Generation 1000 Fitness: 956.484 Actual fitness: 978\n",
      "Generation 1250 Fitness: 962.361 Actual fitness: 981\n",
      "Generation 1500 Fitness: 972.196 Actual fitness: 986\n",
      "Generation 1750 Fitness: 978.121 Actual fitness: 989\n",
      "Generation 2000 Fitness: 984.064 Actual fitness: 992\n",
      "Generation 2250 Fitness: 990.025 Actual fitness: 995\n",
      "Generation 2500 Fitness: 992.016 Actual fitness: 996\n",
      "Generation 2750 Fitness: 994.009 Actual fitness: 997\n",
      "Generation 3000 Fitness: 998.001 Actual fitness: 999\n",
      "Generation 3250 Fitness: 998.001 Actual fitness: 999\n",
      "Generation 3500 Fitness: 998.001 Actual fitness: 999\n",
      "Generation 3750 Fitness: 998.001 Actual fitness: 999\n",
      "Generation 4000 Fitness: 998.001 Actual fitness: 999\n",
      "Found solution in generation 4158\n",
      "207950\n"
     ]
    }
   ],
   "source": [
    "pop_size = 50\n",
    "chromosome_length = 1000\n",
    "tournament_size = pop_size\n",
    "crossover_rate = 0.97\n",
    "mutation_rate = 0.005\n",
    "\n",
    "fitness_f = lab9_lib.make_problem(1)\n",
    "\n",
    "fitness = genetic_algorithm(\n",
    "    pop_size,\n",
    "    chromosome_length,\n",
    "    tournament_size,\n",
    "    crossover_rate,\n",
    "    mutation_rate,\n",
    "    fitness_f,\n",
    ")\n",
    "\n",
    "print(fitness_f.calls)"
   ]
  }
 ],
 "metadata": {
  "kernelspec": {
   "display_name": "ci-fLJ3OwGs-py3.12",
   "language": "python",
   "name": "python3"
  },
  "language_info": {
   "codemirror_mode": {
    "name": "ipython",
    "version": 3
   },
   "file_extension": ".py",
   "mimetype": "text/x-python",
   "name": "python",
   "nbconvert_exporter": "python",
   "pygments_lexer": "ipython3",
   "version": "3.9.6"
  }
 },
 "nbformat": 4,
 "nbformat_minor": 2
}
