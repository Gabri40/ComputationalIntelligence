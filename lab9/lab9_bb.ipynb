{
 "cells": [
  {
   "cell_type": "markdown",
   "metadata": {},
   "source": [
    "Copyright **`(c)`** 2023 Giovanni Squillero `<giovanni.squillero@polito.it>`  \n",
    "[`https://github.com/squillero/computational-intelligence`](https://github.com/squillero/computational-intelligence)  \n",
    "Free for personal or classroom use; see [`LICENSE.md`](https://github.com/squillero/computational-intelligence/blob/master/LICENSE.md) for details.\n"
   ]
  },
  {
   "cell_type": "markdown",
   "metadata": {},
   "source": [
    "# LAB9\n",
    "\n",
    "Write a local-search algorithm (eg. an EA) able to solve the _Problem_ instances 1, 2, 5, and 10 on a 1000-loci genomes, using a minimum number of fitness calls. That's all.\n",
    "\n",
    "### Deadlines:\n",
    "\n",
    "- Submission: Sunday, December 3 ([CET](https://www.timeanddate.com/time/zones/cet))\n",
    "- Reviews: Sunday, December 10 ([CET](https://www.timeanddate.com/time/zones/cet))\n",
    "\n",
    "Notes:\n",
    "\n",
    "- Reviews will be assigned on Monday, December 4\n",
    "- You need to commit in order to be selected as a reviewer (ie. better to commit an empty work than not to commit)\n"
   ]
  },
  {
   "cell_type": "code",
   "execution_count": 61,
   "metadata": {},
   "outputs": [],
   "source": [
    "# import random\n",
    "# from tqdm import tqdm\n",
    "# import lab9_lib"
   ]
  },
  {
   "cell_type": "code",
   "execution_count": 62,
   "metadata": {},
   "outputs": [],
   "source": [
    "# fitness = lab9_lib.make_problem(1)\n",
    "# for n in range(10):\n",
    "#     ind = random.choices([0, 1], k=10)\n",
    "#     print(f\"{''.join(str(g) for g in ind)}: {fitness(ind):.2%}\")\n",
    "\n",
    "# print(fitness.calls)"
   ]
  },
  {
   "cell_type": "code",
   "execution_count": 77,
   "metadata": {},
   "outputs": [],
   "source": [
    "import random\n",
    "import lab9_lib\n",
    "\n",
    "\n",
    "def generate_neighbor(solution):\n",
    "    neighbor = solution.copy()\n",
    "    index_to_flip = random.randint(0, len(neighbor) - 1)\n",
    "    neighbor[index_to_flip] = 1 - neighbor[index_to_flip]\n",
    "    return neighbor\n",
    "\n",
    "\n",
    "def hill_climbing(initial_solution, problem, fitness_func, max_iterations):\n",
    "    current_solution = initial_solution\n",
    "    current_fitness = fitness_func(current_solution)\n",
    "\n",
    "    if problem == 1:\n",
    "        acceptance_ratio = 1.0\n",
    "    else:\n",
    "        acceptance_ratio = 0.9\n",
    "\n",
    "    saturation = 0\n",
    "\n",
    "    for _ in range(max_iterations):\n",
    "        neighbor = generate_neighbor(current_solution)\n",
    "        neighbor_fitness = fitness_func(neighbor)\n",
    "\n",
    "        if neighbor_fitness >= acceptance_ratio * current_fitness:\n",
    "            current_solution = neighbor\n",
    "            current_fitness = neighbor_fitness\n",
    "            saturation = 0\n",
    "        else:\n",
    "            saturation += 1\n",
    "\n",
    "        if current_fitness >= 1.0:\n",
    "            break\n",
    "\n",
    "        if saturation > 100 and problem != 1:\n",
    "            print(\" Saturation at iteration\", _)\n",
    "            break\n",
    "\n",
    "    return current_solution, current_fitness"
   ]
  },
  {
   "cell_type": "code",
   "execution_count": 102,
   "metadata": {},
   "outputs": [
    {
     "name": "stdout",
     "output_type": "stream",
     "text": [
      "Problem Instance: 1\n",
      " Final Fitness: 1.0\n",
      " Fitness Calls: 5926\n",
      "\n",
      "Problem Instance: 2\n",
      " Saturation at iteration 175\n",
      " Final Fitness: 0.504\n",
      " Fitness Calls: 177\n",
      "\n",
      "Problem Instance: 5\n",
      " Saturation at iteration 1399\n",
      " Final Fitness: 0.545\n",
      " Fitness Calls: 1401\n",
      "\n",
      "Problem Instance: 10\n",
      " Saturation at iteration 4280\n",
      " Final Fitness: 0.53\n",
      " Fitness Calls: 4282\n",
      "\n"
     ]
    }
   ],
   "source": [
    "individual_size = 1000\n",
    "\n",
    "for i in [1, 2, 5, 10]:\n",
    "    problem = i\n",
    "    fitness = lab9_lib.make_problem(problem)\n",
    "\n",
    "    print(\"Problem Instance:\", problem)\n",
    "\n",
    "    starting = [random.choice([0, 1]) for _ in range(individual_size)]\n",
    "\n",
    "    final_solution, final_fitness = hill_climbing(\n",
    "        starting,\n",
    "        problem,\n",
    "        fitness,\n",
    "        max_iterations=50000,\n",
    "    )\n",
    "\n",
    "    print(\" Final Fitness:\", final_fitness)\n",
    "    # print(\" Final Solution:\", final_solution)\n",
    "    print(\" Fitness Calls:\", fitness.calls)\n",
    "\n",
    "    print()"
   ]
  }
 ],
 "metadata": {
  "kernelspec": {
   "display_name": "ci-fLJ3OwGs-py3.12",
   "language": "python",
   "name": "python3"
  },
  "language_info": {
   "codemirror_mode": {
    "name": "ipython",
    "version": 3
   },
   "file_extension": ".py",
   "mimetype": "text/x-python",
   "name": "python",
   "nbconvert_exporter": "python",
   "pygments_lexer": "ipython3",
   "version": "3.9.6"
  }
 },
 "nbformat": 4,
 "nbformat_minor": 2
}
