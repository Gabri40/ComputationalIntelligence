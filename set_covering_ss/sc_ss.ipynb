{
 "cells": [
  {
   "cell_type": "code",
   "execution_count": 1832,
   "metadata": {},
   "outputs": [],
   "source": [
    "import numpy as np\n",
    "from random import random\n",
    "from functools import reduce\n",
    "from collections import namedtuple\n",
    "\n",
    "# constants\n",
    "PROBLEM_SIZE = 1000  # dimension of the finite set U\n",
    "NUMBER_SET = 2000  # number of subsets in the collection S\n",
    "SETS = tuple(\n",
    "    np.array([random() < 0.3 for i in range(PROBLEM_SIZE)]) for j in range(NUMBER_SET)\n",
    ")  # generate sets in S\n",
    "# Define State as a named tuple\n",
    "State = namedtuple(\"State\", [\"taken\", \"cost\", \"heuristic\"])\n",
    "\n",
    "\n",
    "def goal_check(state):\n",
    "    return np.all(\n",
    "        reduce(np.logical_or, [SETS[i] for i in state.taken], np.zeros(PROBLEM_SIZE))\n",
    "    )\n",
    "\n",
    "\n",
    "assert goal_check(State(range(NUMBER_SET), 0, 0))\n"
   ]
  },
  {
   "cell_type": "markdown",
   "metadata": {},
   "source": [
    "# Single State\n",
    "\n",
    "```\n",
    "Hill-Climbing(problem)\n",
    "    current <- Make-Node(Initial-State[problem])\n",
    "    loop do\n",
    "        neighbor <- a highest-valued successor of current\n",
    "        if Value[neighbor] <= Value[current] then return State[current]\n",
    "        current <- neighbor\n",
    "```\n"
   ]
  },
  {
   "cell_type": "code",
   "execution_count": 1833,
   "metadata": {},
   "outputs": [],
   "source": [
    "def covered(taken):\n",
    "    return np.sum(\n",
    "        reduce(np.logical_or, [SETS[i] for i in taken], np.zeros(PROBLEM_SIZE))\n",
    "    )\n",
    "\n",
    "\n",
    "def overlap(taken):\n",
    "    # spots that are coveredby just one set in take list\n",
    "\n",
    "    matrix = np.stack([SETS[i] for i in taken], axis=-1)\n",
    "\n",
    "    return np.sum(np.sum(matrix, axis=1) > 1)\n",
    "\n",
    "\n",
    "# heuristic functions\n",
    "def h1(taken):\n",
    "    # number of spots covered by the union of the sets in state.taken\n",
    "    return covered(taken)\n",
    "\n",
    "\n",
    "def h2(taken):  # doesnmt work with current termination condition s\n",
    "    # number of spots covered / number of overlapping spots\n",
    "    c = covered(taken)\n",
    "    o = overlap(taken)\n",
    "    return c / o if o else c\n"
   ]
  },
  {
   "cell_type": "code",
   "execution_count": 1834,
   "metadata": {},
   "outputs": [],
   "source": [
    "# successor function\n",
    "def successor(state):\n",
    "    return [\n",
    "        State(state.taken + [i], state.cost + 1, h1(state.taken + [i]))\n",
    "        for i in range(NUMBER_SET)\n",
    "        if i not in state.taken\n",
    "    ]\n"
   ]
  },
  {
   "cell_type": "code",
   "execution_count": 1835,
   "metadata": {},
   "outputs": [],
   "source": [
    "def hill_climbing(init_state):\n",
    "    current = init_state\n",
    "    while True:\n",
    "        neighbors = successor(current)\n",
    "        next = max(neighbors, key=lambda state: state.heuristic)\n",
    "\n",
    "        if (\n",
    "            goal_check(current)\n",
    "            or next.heuristic < current.heuristic\n",
    "            or len(current.taken) == NUMBER_SET\n",
    "        ):\n",
    "            return current\n",
    "\n",
    "        current = next\n"
   ]
  },
  {
   "cell_type": "code",
   "execution_count": 1836,
   "metadata": {},
   "outputs": [
    {
     "name": "stdout",
     "output_type": "stream",
     "text": [
      "Found   : State(taken=[967, 1070, 579, 110, 132, 487, 408, 1836, 1008], cost=9, heuristic=1000)\n",
      "Is sol  : True\n",
      "Overlap : 862\n"
     ]
    }
   ],
   "source": [
    "# initial state\n",
    "INITIAL_STATE = State([], 0, 0)\n",
    "\n",
    "# run hill climbing\n",
    "res = hill_climbing(INITIAL_STATE)\n",
    "\n",
    "print(\"Found   :\", res)\n",
    "print(\"Is sol  :\", goal_check(res))\n",
    "\n",
    "print(\"Overlap :\", overlap(res.taken))\n"
   ]
  }
 ],
 "metadata": {
  "kernelspec": {
   "display_name": ".envCI",
   "language": "python",
   "name": "python3"
  },
  "language_info": {
   "codemirror_mode": {
    "name": "ipython",
    "version": 3
   },
   "file_extension": ".py",
   "mimetype": "text/x-python",
   "name": "python",
   "nbconvert_exporter": "python",
   "pygments_lexer": "ipython3",
   "version": "3.10.12"
  }
 },
 "nbformat": 4,
 "nbformat_minor": 2
}
