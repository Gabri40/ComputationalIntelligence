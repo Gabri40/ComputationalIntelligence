{
  "cells": [
    {
      "cell_type": "code",
      "execution_count": 1,
      "metadata": {
        "id": "sCCwbjuwvWZd"
      },
      "outputs": [],
      "source": [
        "import numpy as np\n",
        "from random import random\n",
        "from functools import reduce\n",
        "from collections import namedtuple\n",
        "from queue import PriorityQueue\n",
        "\n",
        "from tqdm import tqdm\n",
        "\n",
        "import heapq\n"
      ]
    },
    {
      "cell_type": "markdown",
      "metadata": {},
      "source": [
        "# Problem Definition:"
      ]
    },
    {
      "cell_type": "code",
      "execution_count": 2,
      "metadata": {
        "id": "HrD3qip0vWZg"
      },
      "outputs": [],
      "source": [
        "# constants\n",
        "PROBLEM_SIZE = 20  # dimension of the finite set U to cover\n",
        "NUMBER_SET = 40  # number of randomized subsets to chose from\n",
        "PROBABILITY_TRUE = 0.3  # probability of a subset to contain an element\n",
        "SETS = tuple(\n",
        "    np.array([random() < PROBABILITY_TRUE for i in range(PROBLEM_SIZE)]) for j in range(NUMBER_SET)\n",
        ")  # generate radnomized sets\n",
        "\n",
        "# Define State as a named tuple\n",
        "State = namedtuple(\"State\", [\"taken\", \"cost\", \"heuristic\"])\n"
      ]
    },
    {
      "cell_type": "code",
      "execution_count": 3,
      "metadata": {
        "id": "4MiWodfNvWZh"
      },
      "outputs": [],
      "source": [
        "def goal_check(state, sets):\n",
        "    \"\"\"\n",
        "    check if the logical OR all the elements yeald a line of all true ie the\n",
        "    condition for a state to be covering the whole set U\n",
        "    \"\"\"\n",
        "    return np.all(\n",
        "        reduce(np.logical_or, [sets[i] for i in state.taken], np.zeros(PROBLEM_SIZE))\n",
        "    )\n",
        "\n",
        "\n",
        "# assert generated problem is solvable, ie the goal check of a stete with all\n",
        "# sets taken is true\n",
        "assert goal_check(State(range(NUMBER_SET), 0, 0), SETS)\n"
      ]
    },
    {
      "cell_type": "markdown",
      "metadata": {},
      "source": [
        "# Cost and Heuristic Functions:"
      ]
    },
    {
      "cell_type": "code",
      "execution_count": 4,
      "metadata": {
        "id": "rkXFnwICvWZj"
      },
      "outputs": [],
      "source": [
        "def cost(state):\n",
        "    \"\"\"the cost is the number of sets taken by the solution\"\"\"\n",
        "    return len(state.taken)\n",
        "\n",
        "\n",
        "def cost_number_of_spots(state):\n",
        "    \"\"\"The cost is the sum of the number of spots taken by each set in the solution.\"\"\"\n",
        "    selected_sets = [SETS[i] for i in state.taken]\n",
        "    return np.sum([np.sum(s) for s in selected_sets])\n"
      ]
    },
    {
      "cell_type": "code",
      "execution_count": 5,
      "metadata": {
        "id": "GnsoumyPvWZm"
      },
      "outputs": [],
      "source": [
        "def TRIVIAL_heuristic(state, sets):\n",
        "    return 0\n",
        "\n",
        "\n",
        "def MRSC_heuristic(state, sets):\n",
        "    \"\"\"\n",
        "    Minimum Remaining Set Coverage\n",
        "\n",
        "    This heuristic estimates the cost based on how many elements in \"U\" are still\n",
        "    uncovered and divides it by the number of subsets not taken. This heuristic\n",
        "    assumes that the subsets have an equal chance of covering remaining uncovered\n",
        "    elements.\n",
        "\n",
        "    h(state) = (number of uncovered elements in U) / (number of subsets not taken)\n",
        "    \"\"\"\n",
        "\n",
        "    uncovered = reduce(\n",
        "        np.logical_or, [sets[i] for i in state.taken], np.zeros(len(sets[0]))\n",
        "    )\n",
        "\n",
        "    not_taken_subsets = NUMBER_SET - len(state.taken)\n",
        "\n",
        "    return -np.sum(uncovered) / not_taken_subsets\n",
        "\n",
        "\n",
        "def MSC_heuristic(state, sets):\n",
        "    \"\"\"\n",
        "    Maximum Subset Coverage\n",
        "\n",
        "    This heuristic estimates the cost by assuming that each additional subset chosen\n",
        "    will cover as many uncovered elements as possible. It divides the number of\n",
        "    uncovered elements in \"U\" by the number of subsets already taken.\n",
        "\n",
        "    h(state) = (number of uncovered elements in U) / (number of subsets already taken)\n",
        "    \"\"\"\n",
        "\n",
        "    uncovered = reduce(\n",
        "        np.logical_or, [sets[i] for i in state.taken], np.zeros(len(sets[0]))\n",
        "    )\n",
        "\n",
        "    return (-np.sum(uncovered) / len(state.taken)) if len(state.taken) > 0 else 0\n",
        "\n",
        "\n",
        "def MRSC_MSC_heuristic(state, sets):\n",
        "    return (MRSC_heuristic(state, sets) + MSC_heuristic(state, sets)) / 2\n",
        "\n",
        "\n",
        "def ASC_heuristic(state, sets):\n",
        "    \"\"\"\n",
        "    Average Subset Coverage\n",
        "\n",
        "    This heuristic estimates the cost based on the average size of the remaining\n",
        "    subsets and assumes that each chosen subset will, on average, cover this many\n",
        "    elements.\n",
        "\n",
        "    h(state) = (number of uncovered elements in U) / (average size of remaining subsets)\n",
        "    \"\"\"\n",
        "\n",
        "    uncovered = reduce(\n",
        "        np.logical_or, [sets[i] for i in state.taken], np.zeros(len(sets[0]))\n",
        "    )\n",
        "\n",
        "    remaining_sets = [sets[i] for i in range(NUMBER_SET) if i not in state.taken]\n",
        "\n",
        "    average_size = np.sum([np.sum(s) for s in remaining_sets]) / len(remaining_sets)\n",
        "\n",
        "    return -np.sum(uncovered) / average_size\n",
        "\n",
        "\n",
        "def RANDOM_heuristic(state, sets):\n",
        "    \"\"\"\n",
        "    !! not admissible but funny !!\n",
        "    \"\"\"\n",
        "    return random()\n",
        "\n",
        "\n",
        "def DENSITY_heuristic(state, sets):\n",
        "    \"\"\"\n",
        "    Density Heuristic\n",
        "\n",
        "    This heuristic estimates the cost based on the density of uncovered elements in\n",
        "    U. It assumes that the subsets have an equal chance of covering remaining\n",
        "    uncovered elements.\n",
        "\n",
        "    h(state) = (density of uncovered elements in U) * (number of subsets)\n",
        "    \"\"\"\n",
        "\n",
        "    uncovered = reduce(\n",
        "        np.logical_or, [sets[i] for i in state.taken], np.zeros(len(sets[0]))\n",
        "    )\n",
        "\n",
        "    # Calculate the density of uncovered elements in U\n",
        "    uncovered_density = np.sum(uncovered) / len(uncovered)\n",
        "\n",
        "    # Estimate the remaining cost based on the uncovered density\n",
        "    return -uncovered_density * NUMBER_SET\n"
      ]
    },
    {
      "cell_type": "markdown",
      "metadata": {},
      "source": [
        "# A*"
      ]
    },
    {
      "cell_type": "code",
      "execution_count": 6,
      "metadata": {
        "id": "_34iHwB3vWZo"
      },
      "outputs": [],
      "source": [
        "def astar(sets, heuristic,cost_f):\n",
        "    # Initialize the priority queue with the initial state\n",
        "    initial_state = State(\n",
        "        taken=[],\n",
        "        cost=0,\n",
        "        heuristic=0,\n",
        "    )\n",
        "\n",
        "    memoization = {}\n",
        "\n",
        "    open_set = []\n",
        "    heapq.heappush(\n",
        "        open_set, (initial_state.cost + initial_state.heuristic, initial_state)\n",
        "    )\n",
        "\n",
        "    # Initialize the closed set as an empty set\n",
        "    closed_set = set()\n",
        "\n",
        "    progress_bar = tqdm(total=None)\n",
        "\n",
        "    while not len(open_set) == 0:\n",
        "        # Get the state with the lowest f score from the priority queue\n",
        "        _, current_state = heapq.heappop(open_set)\n",
        "\n",
        "        progress_bar.update(1)\n",
        "\n",
        "        # If the current state is a goal state, return the solution\n",
        "        if goal_check(current_state, sets):\n",
        "            progress_bar.close()\n",
        "            return current_state\n",
        "\n",
        "        # Add the current state to the closed set\n",
        "        closed_set.add(tuple(current_state.taken))\n",
        "\n",
        "        # Generate successor states by adding one more subset\n",
        "        for subset in range(NUMBER_SET):\n",
        "            if subset not in current_state.taken:\n",
        "                # Create a new state by adding the subset\n",
        "                new_taken = current_state.taken + [subset]\n",
        "\n",
        "                # Check if the heuristic value is already in the memoization dictionary\n",
        "                if tuple(new_taken) in memoization:\n",
        "                    new_heuristic = memoization[tuple(new_taken)]\n",
        "                else:\n",
        "                    # Calculate the heuristic value\n",
        "                    new_heuristic = heuristic(State(new_taken, 0, 0), sets)\n",
        "                    # Store it in the memoization dictionary\n",
        "                    memoization[tuple(new_taken)] = new_heuristic\n",
        "\n",
        "                new_cost = cost_f(State(new_taken, 0, 0))\n",
        "                new_state = State(new_taken, new_cost, new_heuristic)\n",
        "\n",
        "                # If the state is not in the closed set, add it to the open set\n",
        "                if tuple(new_taken) not in closed_set:\n",
        "                    heapq.heappush(\n",
        "                        open_set, (new_state.cost + new_state.heuristic, new_state)\n",
        "                    )\n",
        "\n",
        "    # If the open set is empty and no solution is found, return None\n",
        "    progress_bar.close()\n",
        "    return None\n"
      ]
    },
    {
      "cell_type": "markdown",
      "metadata": {},
      "source": [
        "# Results:"
      ]
    },
    {
      "cell_type": "code",
      "execution_count": 7,
      "metadata": {
        "colab": {
          "base_uri": "https://localhost:8080/"
        },
        "id": "LwP1SGP3vWZo",
        "outputId": "eaa8822e-5f80-4212-da9a-3bf53bc3b9d0"
      },
      "outputs": [
        {
          "name": "stdout",
          "output_type": "stream",
          "text": [
            "Problem size: 20 Number of sets: 40 \n",
            "\n",
            "TRIVIAL_heuristic\n"
          ]
        },
        {
          "name": "stderr",
          "output_type": "stream",
          "text": [
            "476it [00:00, 2138.69it/s]"
          ]
        },
        {
          "name": "stderr",
          "output_type": "stream",
          "text": [
            "3613it [00:01, 2099.28it/s]\n"
          ]
        },
        {
          "name": "stdout",
          "output_type": "stream",
          "text": [
            " Solution: [1, 14, 37]\n",
            " Solution cost: 3\n",
            " Solution check: True\n",
            "\n",
            "MRSC_heuristic\n"
          ]
        },
        {
          "name": "stderr",
          "output_type": "stream",
          "text": [
            "1602it [00:01, 1069.61it/s]\n"
          ]
        },
        {
          "name": "stdout",
          "output_type": "stream",
          "text": [
            " Solution: [1, 14, 37]\n",
            " Solution cost: 3\n",
            " Solution check: True\n",
            "\n",
            "MSC_heuristic\n"
          ]
        },
        {
          "name": "stderr",
          "output_type": "stream",
          "text": [
            "328it [00:00, 1024.68it/s]\n"
          ]
        },
        {
          "name": "stdout",
          "output_type": "stream",
          "text": [
            " Solution: [1, 14, 37]\n",
            " Solution cost: 3\n",
            " Solution check: True\n",
            "\n",
            "MRSC_MSC_heuristic\n"
          ]
        },
        {
          "name": "stderr",
          "output_type": "stream",
          "text": [
            "902it [00:01, 797.65it/s]\n"
          ]
        },
        {
          "name": "stdout",
          "output_type": "stream",
          "text": [
            " Solution: [1, 14, 37]\n",
            " Solution cost: 3\n",
            " Solution check: True\n",
            "\n",
            "ASC_heuristic\n"
          ]
        },
        {
          "name": "stderr",
          "output_type": "stream",
          "text": [
            "18it [00:00, 117.11it/s]\n"
          ]
        },
        {
          "name": "stdout",
          "output_type": "stream",
          "text": [
            " Solution: [14, 1, 37]\n",
            " Solution cost: 3\n",
            " Solution check: True\n",
            "\n",
            "DENSITY_heuristic\n"
          ]
        },
        {
          "name": "stderr",
          "output_type": "stream",
          "text": [
            "5it [00:00, 706.61it/s]\n"
          ]
        },
        {
          "name": "stdout",
          "output_type": "stream",
          "text": [
            " Solution: [12, 14, 1, 0]\n",
            " Solution cost: 4\n",
            " Solution check: True\n",
            "\n",
            "RANDOM_heuristic\n"
          ]
        },
        {
          "name": "stderr",
          "output_type": "stream",
          "text": [
            "5169it [00:02, 2530.52it/s]"
          ]
        },
        {
          "name": "stdout",
          "output_type": "stream",
          "text": [
            " Solution: [14, 33, 37]\n",
            " Solution cost: 3\n",
            " Solution check: True\n",
            "\n"
          ]
        },
        {
          "name": "stderr",
          "output_type": "stream",
          "text": [
            "\n"
          ]
        }
      ],
      "source": [
        "heuristics = [\n",
        "    TRIVIAL_heuristic,\n",
        "    MRSC_heuristic,\n",
        "    MSC_heuristic,\n",
        "    MRSC_MSC_heuristic,\n",
        "    ASC_heuristic,\n",
        "    DENSITY_heuristic,\n",
        "    RANDOM_heuristic,\n",
        "]\n",
        "\n",
        "print(\"Problem size:\", PROBLEM_SIZE, \"Number of sets:\", NUMBER_SET, \"\\n\")\n",
        "\n",
        "for h in heuristics:\n",
        "    print(h.__name__)\n",
        "    solution = astar(SETS, h, cost)\n",
        "    # solution = astar(SETS,h,cost_number_of_spots) # slow af\n",
        "    print(\" Solution:\", solution.taken)\n",
        "    print(\" Solution cost:\", solution.cost)\n",
        "    print(\" Solution check:\", goal_check(solution, SETS))\n",
        "    print()\n"
      ]
    }
  ],
  "metadata": {
    "colab": {
      "provenance": []
    },
    "kernelspec": {
      "display_name": ".envCI",
      "language": "python",
      "name": "python3"
    },
    "language_info": {
      "codemirror_mode": {
        "name": "ipython",
        "version": 3
      },
      "file_extension": ".py",
      "mimetype": "text/x-python",
      "name": "python",
      "nbconvert_exporter": "python",
      "pygments_lexer": "ipython3",
      "version": "3.9.6"
    }
  },
  "nbformat": 4,
  "nbformat_minor": 0
}
