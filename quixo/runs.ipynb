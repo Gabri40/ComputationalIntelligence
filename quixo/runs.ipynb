{
 "cells": [
  {
   "cell_type": "code",
   "execution_count": 114,
   "metadata": {},
   "outputs": [],
   "source": [
    "import random\n",
    "from game import Game, Move, Player\n",
    "from player_heuristic import MyPlayer\n",
    "\n",
    "\n",
    "class RandomPlayer(Player):\n",
    "    def __init__(self) -> None:\n",
    "        super().__init__()\n",
    "\n",
    "    def make_move(self, game: \"Game\") -> tuple[tuple[int, int], Move]:\n",
    "        from_pos = (random.randint(0, 4), random.randint(0, 4))\n",
    "        move = random.choice([Move.TOP, Move.BOTTOM, Move.LEFT, Move.RIGHT])\n",
    "        return from_pos, move"
   ]
  },
  {
   "cell_type": "code",
   "execution_count": 115,
   "metadata": {},
   "outputs": [
    {
     "name": "stdout",
     "output_type": "stream",
     "text": [
      "Random vs MyPlayer\n",
      " MyPlayer wins: 1000\n",
      "\n",
      "MyPlayer vs Random\n",
      " MyPlayer wins: 1000\n",
      "\n",
      "MyPlayer vs MyPlayer\n",
      " MyPlayer as P1 wins: 1000\n",
      " MyPlayer as P2 wins: 0\n"
     ]
    }
   ],
   "source": [
    "print(\"Random vs MyPlayer\")\n",
    "s = 0\n",
    "for i in range(1000):\n",
    "    g = Game()\n",
    "    player1 = RandomPlayer()\n",
    "    player2 = MyPlayer(1)\n",
    "    winner = g.play(player1, player2)\n",
    "    s += winner\n",
    "print(\" MyPlayer wins:\", s)\n",
    "\n",
    "print(\"\\nMyPlayer vs Random\")\n",
    "s = 0\n",
    "for i in range(1000):\n",
    "    g = Game()\n",
    "    player1 = MyPlayer(0)\n",
    "    player2 = RandomPlayer()\n",
    "    winner = g.play(player1, player2)\n",
    "    s += 1 if winner == 0 else 0\n",
    "print(\" MyPlayer wins:\", s)\n",
    "\n",
    "print(\"\\nMyPlayer vs MyPlayer\")\n",
    "s = 0\n",
    "p1, p2 = 0, 0\n",
    "for i in range(1000):\n",
    "    g = Game()\n",
    "    player1 = MyPlayer(0)\n",
    "    player2 = MyPlayer(1)\n",
    "    winner = g.play(player1, player2)\n",
    "    p1 += 1 if winner == 0 else 0\n",
    "    p2 += 1 if winner == 1 else 0\n",
    "print(\" MyPlayer as P1 wins:\", p1)\n",
    "print(\" MyPlayer as P2 wins:\", p2)\n",
    "\n"
   ]
  }
 ],
 "metadata": {
  "kernelspec": {
   "display_name": ".envCI",
   "language": "python",
   "name": "python3"
  },
  "language_info": {
   "codemirror_mode": {
    "name": "ipython",
    "version": 3
   },
   "file_extension": ".py",
   "mimetype": "text/x-python",
   "name": "python",
   "nbconvert_exporter": "python",
   "pygments_lexer": "ipython3",
   "version": "3.9.6"
  }
 },
 "nbformat": 4,
 "nbformat_minor": 2
}
