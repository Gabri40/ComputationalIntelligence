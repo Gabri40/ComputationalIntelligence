{
 "cells": [
  {
   "cell_type": "markdown",
   "metadata": {},
   "source": [
    "# Set Covering\n",
    "\n",
    "Set covering problems are a class of combinatorial optimization problems in which the goal is to find a minimum-size collection of sets (subsets of a larger set) such that every element from the universal set is covered by at least one of the selected sets. These problems have applications in various fields, including operations research, computer science, logistics, and facility location.\n",
    "\n",
    "Here's a more formal definition:\n",
    "\n",
    "- Given a universal set U and a collection of subsets S = {S1, S2, ..., Sn}, where each Si is a subset of U, the set covering problem aims to find a minimum-size subset C of S such that the union of all sets in C covers every element in U. Mathematically, you want to minimize the cardinality of C, subject to the constraint that the union of sets in C equals U.\n",
    "\n",
    "Set covering problems can be described as an integer linear programming (ILP) problem. The decision version of the problem is typically referred to as the Set Covering Problem (SCP), and it can be formulated as follows:\n",
    "\n",
    "**Decision Set Covering Problem (SCP):**\n",
    "\n",
    "- Input: A finite set U, a collection of subsets S = {S1, S2, ..., Sn} of U, and a positive integer k.\n",
    "- Question: Is there a subset C of S with at most k sets such that the union of sets in C covers all elements of U?\n",
    "\n",
    "The optimization version of the problem is known as the Set Covering Optimization Problem (SCOP):\n",
    "\n",
    "**Set Covering Optimization Problem (SCOP):**\n",
    "\n",
    "- Input: A finite set U, a collection of subsets S = {S1, S2, ..., Sn} of U.\n",
    "- Output: Find a subset C of S with the minimum cardinality such that the union of sets in C covers all elements of U.\n"
   ]
  },
  {
   "cell_type": "markdown",
   "metadata": {},
   "source": [
    "## Problem Generation\n"
   ]
  },
  {
   "cell_type": "code",
   "execution_count": 17,
   "metadata": {},
   "outputs": [],
   "source": [
    "import numpy as np\n",
    "from random import random\n",
    "from functools import reduce\n",
    "from collections import namedtuple\n",
    "from queue import PriorityQueue, SimpleQueue"
   ]
  },
  {
   "cell_type": "code",
   "execution_count": 18,
   "metadata": {},
   "outputs": [],
   "source": [
    "# constants\n",
    "PROBLEM_SIZE = 5   # dimension of the finite set U\n",
    "NUMBER_SET = 10     # number of subsets in the collection S\n",
    "SETS = tuple(\n",
    "    np.array([random()<.3 for i in range(PROBLEM_SIZE)]) for j in range(NUMBER_SET)\n",
    "    ) # generate sets in S\n",
    "\n",
    "State = namedtuple('State', ['taken','not_taken'])"
   ]
  },
  {
   "cell_type": "code",
   "execution_count": 19,
   "metadata": {},
   "outputs": [
    {
     "data": {
      "text/plain": [
       "(array([ True, False, False, False, False]),\n",
       " array([False, False, False, False, False]),\n",
       " array([False, False, False,  True, False]),\n",
       " array([False, False, False, False,  True]),\n",
       " array([False, False, False,  True, False]),\n",
       " array([ True, False,  True, False, False]),\n",
       " array([False, False, False, False, False]),\n",
       " array([False, False, False, False,  True]),\n",
       " array([False, False, False, False,  True]),\n",
       " array([ True, False, False,  True,  True]))"
      ]
     },
     "execution_count": 19,
     "metadata": {},
     "output_type": "execute_result"
    }
   ],
   "source": [
    "SETS"
   ]
  },
  {
   "cell_type": "code",
   "execution_count": 20,
   "metadata": {},
   "outputs": [],
   "source": [
    "def goal_check(state):\n",
    "    \"\"\"\n",
    "    check if the logical OR all the elements yeald a line of all true ie the\n",
    "    condition for a state to be covering the whole set U\n",
    "    \"\"\"\n",
    "    # return np.all(reduce(np.logical_or, [SETS[i] for i in state.taken], np.zeros(PROBLEM_SIZE)))\n",
    "\n",
    "    # Create an array with all False values of the same size as the problem size\n",
    "    result = np.zeros(PROBLEM_SIZE, dtype=bool)\n",
    "\n",
    "    # Iterate through the selected sets and update the result array using logical OR. \n",
    "    for i in state.taken:\n",
    "        np.logical_or(result, SETS[i], out=result)\n",
    "    #  The **out** parameter of np.logical_or directly updates the\n",
    "    #  result array, which can be more efficient in terms of memory allocation\n",
    "    #  and manipulation, especially for larger problem sizes.\n",
    "\n",
    "    # Check if all elements in the result array are True\n",
    "    return result.all()"
   ]
  },
  {
   "cell_type": "markdown",
   "metadata": {},
   "source": [
    "## Solving with path search\n"
   ]
  },
  {
   "cell_type": "markdown",
   "metadata": {},
   "source": [
    "The approach being used is not strictly a breadth-first search (BFS) but rather a modified form of BFS. It's sometimes referred to as a \"best-first search\" or \"priority queue-based search.\" :\n",
    "\n",
    "- **PriorityQueue**: The code initializes frontier as a PriorityQueue. In this data structure, states are extracted based on their priority. This priority-driven extraction is different from a standard BFS, where states are processed in the order they were added to the queue.\n",
    "\n",
    "The code is exploring states by iteratively selecting subsets (actions) and generating new states based on those selections. This is somewhat similar to a BFS approach where all possible next states are considered. However, the key difference is that the priority queue allows you to explore states with lower estimated cost or other heuristics first. This is a characteristic of best-first search.\n",
    "\n",
    "Replacing the PriorityQueue with a **SimpleQueue**, the code would more closely resemble a proper breadth-first search (BFS). A SimpleQueue follows a first-in, first-out (FIFO) order, which is a fundamental characteristic of BFS.\n"
   ]
  },
  {
   "cell_type": "code",
   "execution_count": 21,
   "metadata": {},
   "outputs": [],
   "source": [
    "frontier = PriorityQueue()\n",
    "# frontier = SimpleQueue()"
   ]
  },
  {
   "cell_type": "code",
   "execution_count": 22,
   "metadata": {},
   "outputs": [
    {
     "name": "stdout",
     "output_type": "stream",
     "text": [
      "State(taken=set(), not_taken={0, 1, 2, 3, 4, 5, 6, 7, 8, 9})\n"
     ]
    }
   ],
   "source": [
    "# initialize the frontier with the inistial state, ie no sets have been taken yet\n",
    "initial_state= State(set(), set(range(NUMBER_SET)))\n",
    "frontier.put(initial_state)\n",
    "print(initial_state)"
   ]
  },
  {
   "cell_type": "markdown",
   "metadata": {},
   "source": [
    "Generating the sets at random we might end up in a case where for one of the elements all the columns are false, thus making it impossible to find a solution.\n",
    "\n",
    "To ignore this we can simply break the loop after it has checked all the possible combinations of sets.\n",
    "\n",
    "To calculate the maximum number of combinations possible given your problem size, we can consider that each of the 10 subsets can either be included (True) or excluded (False) from the solution. This means that there are 2 possibilities for each of the 10 subsets. So, the total number of combinations is 2^10.\n",
    "\n",
    "Therefore, there are a maximum of 2^10 = 1024 combinations that need to be considered in the worst case for your problem size.\n",
    "\n",
    "Would be better to check at SETS generation or generate them in different way but ehhh\n"
   ]
  },
  {
   "cell_type": "code",
   "execution_count": 23,
   "metadata": {},
   "outputs": [
    {
     "name": "stdout",
     "output_type": "stream",
     "text": [
      "not solvable with the generated sets\n",
      "Solved in 1025 steps\n"
     ]
    }
   ],
   "source": [
    "# extract from beginning of frontier\n",
    "current_state= frontier.get()\n",
    "\n",
    "# check if current state is solution\n",
    "counter=0\n",
    "while not goal_check(current_state):\n",
    "    # increment counter of iterations\n",
    "    counter+=1\n",
    "\n",
    "    # check if the problem is not solvable with the generated sets\n",
    "    if counter> 1024:\n",
    "        print(\"not solvable with the generated sets\") # check SETS print for a col of all False\n",
    "        break\n",
    "\n",
    "    # for each not taken action in the current state\n",
    "    for action in current_state.not_taken:\n",
    "        # create a new state by taking that action from the not_taken subset and moving it to the taken subset\n",
    "        newstate = State(current_state.taken ^ {action}, current_state.not_taken ^ {action} )\n",
    "        # add each new state to the frontier\n",
    "        frontier.put(newstate)\n",
    "\n",
    "    # extract from beginning of frontier\n",
    "    current_state = frontier.get()\n",
    "\n",
    "print(\"Solved in\",counter,\"steps\")"
   ]
  },
  {
   "cell_type": "code",
   "execution_count": 24,
   "metadata": {},
   "outputs": [
    {
     "name": "stdout",
     "output_type": "stream",
     "text": [
      "State(taken={1, 2, 3, 4, 5, 6, 7, 8, 9}, not_taken={0})\n"
     ]
    },
    {
     "data": {
      "text/plain": [
       "False"
      ]
     },
     "execution_count": 24,
     "metadata": {},
     "output_type": "execute_result"
    }
   ],
   "source": [
    "# solution\n",
    "print(current_state)\n",
    "goal_check(current_state)"
   ]
  }
 ],
 "metadata": {
  "kernelspec": {
   "display_name": ".envCI",
   "language": "python",
   "name": "python3"
  },
  "language_info": {
   "codemirror_mode": {
    "name": "ipython",
    "version": 3
   },
   "file_extension": ".py",
   "mimetype": "text/x-python",
   "name": "python",
   "nbconvert_exporter": "python",
   "pygments_lexer": "ipython3",
   "version": "3.10.12"
  },
  "orig_nbformat": 4
 },
 "nbformat": 4,
 "nbformat_minor": 2
}
