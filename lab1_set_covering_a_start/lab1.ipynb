{
  "cells": [
    {
      "cell_type": "code",
      "execution_count": 1,
      "metadata": {
        "id": "sCCwbjuwvWZd"
      },
      "outputs": [],
      "source": [
        "import numpy as np\n",
        "from random import random\n",
        "from functools import reduce\n",
        "from collections import namedtuple\n",
        "from queue import PriorityQueue\n"
      ]
    },
    {
      "cell_type": "code",
      "execution_count": 2,
      "metadata": {
        "id": "HrD3qip0vWZg"
      },
      "outputs": [],
      "source": [
        "# constants\n",
        "PROBLEM_SIZE = 5  # dimension of the finite set U\n",
        "NUMBER_SET = 10  # number of subsets in the collection S\n",
        "SETS = tuple(\n",
        "    np.array([random() < 0.3 for i in range(PROBLEM_SIZE)]) for j in range(NUMBER_SET)\n",
        ")  # generate sets in S\n",
        "\n",
        "# Define State as a named tuple\n",
        "State = namedtuple(\"State\", [\"taken\", \"cost\", \"heuristic\"])\n"
      ]
    },
    {
      "cell_type": "code",
      "execution_count": 3,
      "metadata": {
        "id": "4MiWodfNvWZh"
      },
      "outputs": [],
      "source": [
        "def goal_check(state, sets):\n",
        "    \"\"\"\n",
        "    check if the logical OR all the elements yeald a line of all true ie the\n",
        "    condition for a state to be covering the whole set U\n",
        "    \"\"\"\n",
        "    return np.all(\n",
        "        reduce(np.logical_or, [sets[i] for i in state.taken], np.zeros(PROBLEM_SIZE))\n",
        "    )\n",
        "\n",
        "\n",
        "# assert generated problem is solvable, ie the goal check of a stete with all\n",
        "# sets taken is true\n",
        "assert goal_check(State(range(NUMBER_SET), 0, 0), SETS)\n"
      ]
    },
    {
      "cell_type": "code",
      "execution_count": 4,
      "metadata": {
        "id": "rkXFnwICvWZj"
      },
      "outputs": [],
      "source": [
        "def cost(state):\n",
        "    \"\"\"The cost function calculates the cost of reaching a particular state\"\"\"\n",
        "    return len(state.taken)"
      ]
    },
    {
      "cell_type": "markdown",
      "metadata": {
        "id": "gt8hk1qBvWZk"
      },
      "source": [
        "Commonly used Heuristic for set covering:\n",
        "\n",
        "- Minimum Remaining Elements (MRE): Prioritizes subsets with the fewest uncovered elements.\n",
        "\n",
        "- Maximum Coverage (MC): Favors subsets that cover the maximum number of uncovered elements.\n",
        "\n",
        "- Combination of MRE and MC: Balances between subsets with few remaining elements and high coverage.\n",
        "\n",
        "- Randomized Heuristics: Selects subsets randomly or based on probabilistic considerations to explore different paths.\n"
      ]
    },
    {
      "cell_type": "code",
      "execution_count": 5,
      "metadata": {
        "id": "GnsoumyPvWZm"
      },
      "outputs": [],
      "source": [
        "#\n",
        "# state = namedtuple(\"State\", [\"taken\", \"cost\", \"heuristic\"])\n",
        "#\n",
        "# SETS example =\n",
        "#   Set 0 [False  True  True  True False] Coverage: 3\n",
        "#   Set 1 [False  True False False False] Coverage: 1\n",
        "#   Set 2 [ True  True False False False] Coverage: 2\n",
        "#   Set 3 [ True False False False  True] Coverage: 2\n",
        "#   Set 4 [False  True  True  True False] Coverage: 3\n",
        "#   Set 5 [ True False False False False] Coverage: 1\n",
        "#   Set 6 [False False False False False] Coverage: 0\n",
        "#   Set 7 [False False False False  True] Coverage: 1\n",
        "#   Set 8 [False False False False False] Coverage: 0\n",
        "#   Set 9 [False  True False False False] Coverage: 1\n",
        "#\n",
        "\n",
        "\n",
        "def MRE_heuristic(state, sets):\n",
        "    \"\"\"\n",
        "    - Objective: The MRE heuristic prioritizes selecting subsets that have the\n",
        "      fewest remaining uncovered elements.\n",
        "    - Selection Criterion: It selects subsets that cover elements that are closest\n",
        "    to being fully covered. In other words, it aims to quickly cover the remaining\n",
        "    elements.\n",
        "    - Impact: The primary goal is to minimize the number of remaining uncovered\n",
        "    elements\n",
        "    \"\"\"\n",
        "    uncovered = reduce(\n",
        "        np.logical_or, [sets[i] for i in state.taken], np.zeros(PROBLEM_SIZE)\n",
        "    )\n",
        "\n",
        "    heuristic = -np.sum(np.logical_not(uncovered))\n",
        "    return heuristic\n",
        "\n",
        "\n",
        "def MC_heuristic(state, sets):\n",
        "    \"\"\"\n",
        "    - Objective: The MC heuristic prioritizes selecting subsets that cover the\n",
        "    maximum number of currently uncovered elements.\n",
        "    - Selection Criterion: It\n",
        "    selects subsets that contribute to covering the largest number of currently\n",
        "    uncovered elements.\n",
        "    - Impact: The primary goal is to maximize the coverage\n",
        "    with each selection\n",
        "    \"\"\"\n",
        "    uncovered = reduce(\n",
        "        np.logical_or, [sets[i] for i in state.taken], np.zeros(PROBLEM_SIZE)\n",
        "    )\n",
        "\n",
        "    heuristic = -np.sum(uncovered)\n",
        "    return heuristic\n",
        "\n",
        "\n",
        "def MRE_MC_heuristic(state, sets):\n",
        "    \"\"\"\n",
        "    Prioritize with a balanced approach between MRE and MC\n",
        "    \"\"\"\n",
        "    return (MRE_heuristic(state, sets) + MC_heuristic(state, sets)) / 2\n",
        "\n",
        "\n",
        "def RANDOM_heuristic(state, sets):\n",
        "    \"\"\"\n",
        "    Prioritize with a random heuristic\n",
        "    \"\"\"\n",
        "    return random()\n",
        "\n",
        "\n",
        "def COSTONLY_heuristic(state, sets):\n",
        "    \"\"\"\n",
        "    Prioritize only with cost\n",
        "    \"\"\"\n",
        "    return cost(state)\n"
      ]
    },
    {
      "cell_type": "code",
      "execution_count": 6,
      "metadata": {
        "id": "_34iHwB3vWZo"
      },
      "outputs": [],
      "source": [
        "def astar(sets, heuristic):\n",
        "    # Initialize the priority queue with the initial state\n",
        "    initial_state = State(\n",
        "        taken=[],\n",
        "        cost=0,\n",
        "        heuristic=heuristic(State(taken=[], cost=0, heuristic=0), sets),\n",
        "    )\n",
        "    open_set = PriorityQueue()\n",
        "    open_set.put((initial_state.cost + initial_state.heuristic, initial_state))\n",
        "\n",
        "    # Initialize the closed set as an empty set\n",
        "    closed_set = set()\n",
        "\n",
        "    checked_states = 0\n",
        "\n",
        "    while not open_set.empty():\n",
        "        # Get the state with the lowest f score from the priority queue\n",
        "        _, current_state = open_set.get()\n",
        "\n",
        "        checked_states += 1\n",
        "\n",
        "        # If the current state is a goal state, return the solution\n",
        "        if goal_check(current_state, sets):\n",
        "            return current_state.taken, checked_states\n",
        "\n",
        "        # Add the current state to the closed set\n",
        "        closed_set.add(tuple(current_state.taken))\n",
        "\n",
        "        # Generate successor states by adding one more subset\n",
        "        for subset in range(NUMBER_SET):\n",
        "            if subset not in current_state.taken:\n",
        "                # Create a new state by adding the subset\n",
        "                new_taken = current_state.taken + [subset]\n",
        "                new_cost = cost(State(new_taken, 0, 0))\n",
        "                new_heuristic = heuristic(State(new_taken, 0, 0), sets)\n",
        "                new_state = State(new_taken, new_cost, new_heuristic)\n",
        "\n",
        "                # If the state is not in the closed set, add it to the open set\n",
        "                if tuple(new_taken) not in closed_set:\n",
        "                    open_set.put((new_state.cost + new_state.heuristic, new_state))\n",
        "\n",
        "    # If the open set is empty and no solution is found, return None\n",
        "    return None\n"
      ]
    },
    {
      "cell_type": "code",
      "execution_count": 8,
      "metadata": {
        "colab": {
          "base_uri": "https://localhost:8080/"
        },
        "id": "LwP1SGP3vWZo",
        "outputId": "eaa8822e-5f80-4212-da9a-3bf53bc3b9d0"
      },
      "outputs": [
        {
          "name": "stdout",
          "output_type": "stream",
          "text": [
            "Set 0 [False False False  True  True] Coverage: 2\n",
            "Set 1 [False  True False False False] Coverage: 1\n",
            "Set 2 [False False  True False False] Coverage: 1\n",
            "Set 3 [False False False False False] Coverage: 0\n",
            "Set 4 [False  True False False False] Coverage: 1\n",
            "Set 5 [False False  True  True False] Coverage: 2\n",
            "Set 6 [False False False False False] Coverage: 0\n",
            "Set 7 [False False False  True  True] Coverage: 2\n",
            "Set 8 [False False False False False] Coverage: 0\n",
            "Set 9 [ True  True False  True  True] Coverage: 4\n",
            "\n",
            "MRE: ([2, 9], 2048)\n",
            "MC: ([9, 2], 3)\n",
            "MRE+MC: ([2, 9], 38)\n",
            "RANDOM: ([2, 9], 16)\n",
            "COSTONLY: ([2, 9], 38)\n"
          ]
        }
      ],
      "source": [
        "for i in range(NUMBER_SET):\n",
        "    print(\"Set\", i, SETS[i], \"Coverage:\", np.sum(SETS[i]))\n",
        "\n",
        "print()\n",
        "print(\"MRE:\", astar(SETS, MRE_heuristic))\n",
        "print(\"MC:\", astar(SETS, MC_heuristic))\n",
        "print(\"MRE+MC:\", astar(SETS, MRE_MC_heuristic))\n",
        "print(\"RANDOM:\", astar(SETS, RANDOM_heuristic))\n",
        "print(\n",
        "    \"COSTONLY:\", astar(SETS, COSTONLY_heuristic)\n",
        ")  # cost only seems to be consistently achieving the same result as MRE+MC\n"
      ]
    },
    {
      "cell_type": "markdown",
      "metadata": {
        "id": "ea8ILOQJvWZr"
      },
      "source": [
        "#### Comments\n",
        "\n",
        "- MRE consistently takes a lot of step, seems to make sense has it gives more priority to sets who cover a lot of already covered spaces\n",
        "\n",
        "- MC consistently behaves the best\n",
        "\n",
        "- MRE + MC behaves a bit worse than MC but a lot better than MRE\n",
        "\n",
        "- RANDOM seems to perform on par with MRE + MC\n",
        "\n",
        "- COSTONLY behaves exactly like MRE + MC, maybe because both are trying to maximize the coverage of elements (by minimizing the number of uncovered elements) and the cost function itself already captures the essence of minimizing the number of selected subsets.\n"
      ]
    },
    {
      "cell_type": "markdown",
      "metadata": {
        "id": "7G4VcV_XvWZs"
      },
      "source": [
        "# AVG Steps\n"
      ]
    },
    {
      "cell_type": "code",
      "execution_count": 9,
      "metadata": {
        "colab": {
          "base_uri": "https://localhost:8080/"
        },
        "id": "CraiNkyivWZs",
        "outputId": "84203fb7-2683-4bee-e18f-2f0eeda57bd7"
      },
      "outputs": [
        {
          "name": "stdout",
          "output_type": "stream",
          "text": [
            "Problem size: 5 - Number of sets: 10\n",
            "Run 1 completed\n",
            "Run 2 completed\n",
            "Run 3 completed\n",
            "Run 4 completed\n",
            "Run 5 completed\n",
            "Run 6 completed\n",
            "Run 7 completed\n",
            "Run 8 not solvable\n",
            "Run 9 completed\n",
            "Run 10 completed\n",
            "Run 11 not solvable\n",
            "Run 12 completed\n",
            "Run 13 completed\n",
            "Run 14 completed\n",
            "Run 15 completed\n",
            "Run 16 completed\n",
            "Run 17 completed\n",
            "Run 18 not solvable\n",
            "Run 19 completed\n",
            "Run 20 completed\n",
            "Average number of steps over 20 runs:\n",
            "MRE: 2599.59\n",
            "MC: 3.47\n",
            "MRE+MC: 84.41\n",
            "RANDOM: 79.06\n",
            "COSTONLY: 84.41\n"
          ]
        }
      ],
      "source": [
        "steps_MRE = []\n",
        "steps_MC = []\n",
        "steps_MRE_MC = []\n",
        "steps_RANDOM = []\n",
        "steps_COSTONLY = []\n",
        "\n",
        "N_RUNS = 20\n",
        "\n",
        "PROBLEM_SIZE = 5  # dimension of the finite set U\n",
        "NUMBER_SET = 10  # number of subsets in the collection S\n",
        "\n",
        "print(f\"Problem size: {PROBLEM_SIZE} - Number of sets: {NUMBER_SET}\")\n",
        "\n",
        "for _ in range(N_RUNS):\n",
        "    sets = tuple(\n",
        "        np.array([random() < 0.3 for i in range(PROBLEM_SIZE)])\n",
        "        for j in range(NUMBER_SET)\n",
        "    )\n",
        "\n",
        "    if goal_check(State(range(NUMBER_SET), 0, 0), sets):\n",
        "        steps_MRE.append(astar(sets, MRE_heuristic)[1])\n",
        "        steps_MC.append(astar(sets, MC_heuristic)[1])\n",
        "        steps_MRE_MC.append(astar(sets, MRE_MC_heuristic)[1])\n",
        "        steps_RANDOM.append(astar(sets, RANDOM_heuristic)[1])\n",
        "        steps_COSTONLY.append(astar(sets, COSTONLY_heuristic)[1])\n",
        "        print(f\"Run {_+1} completed\")\n",
        "    else:\n",
        "        print(f\"Run {_+1} not solvable\")\n",
        "\n",
        "\n",
        "print(f\"Average number of steps over {N_RUNS} runs:\")\n",
        "print(f\"MRE: {sum(steps_MRE)/len(steps_MRE):.2f}\")\n",
        "print(f\"MC: {sum(steps_MC)/len(steps_MC):.2f}\")\n",
        "print(f\"MRE+MC: {sum(steps_MRE_MC)/len(steps_MRE_MC):.2f}\")\n",
        "print(f\"RANDOM: {sum(steps_RANDOM)/len(steps_RANDOM):.2f}\")\n",
        "print(f\"COSTONLY: {sum(steps_COSTONLY)/len(steps_COSTONLY):.2f}\")\n"
      ]
    }
  ],
  "metadata": {
    "colab": {
      "provenance": []
    },
    "kernelspec": {
      "display_name": ".envCI",
      "language": "python",
      "name": "python3"
    },
    "language_info": {
      "codemirror_mode": {
        "name": "ipython",
        "version": 3
      },
      "file_extension": ".py",
      "mimetype": "text/x-python",
      "name": "python",
      "nbconvert_exporter": "python",
      "pygments_lexer": "ipython3",
      "version": "3.10.12"
    }
  },
  "nbformat": 4,
  "nbformat_minor": 0
}
