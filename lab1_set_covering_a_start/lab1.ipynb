{
  "cells": [
    {
      "cell_type": "code",
      "execution_count": 15,
      "metadata": {
        "id": "sCCwbjuwvWZd"
      },
      "outputs": [],
      "source": [
        "import numpy as np\n",
        "from random import random\n",
        "from functools import reduce\n",
        "from collections import namedtuple\n",
        "from queue import PriorityQueue\n",
        "\n",
        "from tqdm import tqdm\n"
      ]
    },
    {
      "cell_type": "code",
      "execution_count": 16,
      "metadata": {
        "id": "HrD3qip0vWZg"
      },
      "outputs": [],
      "source": [
        "# constants\n",
        "PROBLEM_SIZE = 5  # dimension of the finite set U\n",
        "NUMBER_SET = 20  # number of subsets in the collection S\n",
        "SETS = tuple(\n",
        "    np.array([random() < 0.3 for i in range(PROBLEM_SIZE)]) for j in range(NUMBER_SET)\n",
        ")  # generate sets in S\n",
        "\n",
        "# Define State as a named tuple\n",
        "State = namedtuple(\"State\", [\"taken\", \"cost\", \"heuristic\"])\n"
      ]
    },
    {
      "cell_type": "code",
      "execution_count": 17,
      "metadata": {
        "id": "4MiWodfNvWZh"
      },
      "outputs": [],
      "source": [
        "def goal_check(state, sets):\n",
        "    \"\"\"\n",
        "    check if the logical OR all the elements yeald a line of all true ie the\n",
        "    condition for a state to be covering the whole set U\n",
        "    \"\"\"\n",
        "    return np.all(\n",
        "        reduce(np.logical_or, [sets[i] for i in state.taken], np.zeros(PROBLEM_SIZE))\n",
        "    )\n",
        "\n",
        "\n",
        "# assert generated problem is solvable, ie the goal check of a stete with all\n",
        "# sets taken is true\n",
        "assert goal_check(State(range(NUMBER_SET), 0, 0), SETS)\n"
      ]
    },
    {
      "cell_type": "code",
      "execution_count": 18,
      "metadata": {
        "id": "rkXFnwICvWZj"
      },
      "outputs": [],
      "source": [
        "def cost(state):\n",
        "    \"\"\"The cost function calculates the cost of reaching a particular state\"\"\"\n",
        "    return len(state.taken)"
      ]
    },
    {
      "cell_type": "markdown",
      "metadata": {
        "id": "gt8hk1qBvWZk"
      },
      "source": [
        "#### Commonly used Heuristic for set covering:\n",
        "\n",
        "- **Minimum Remaining Elements (MRE)**: This heuristic estimates the number of elements that are not yet covered by any selected subset. It encourages selecting subsets that cover the fewest remaining uncovered elements, which is consistent with minimizing the actual cost. Therefore, it is admissible.\n",
        "\n",
        "- **Maximum Coverage (MC)**:  This heuristic estimates the number of currently uncovered elements and prioritizes selecting subsets that contribute to covering the largest number of these elements. It also encourages minimizing the actual cost, making it admissible. *The Greedy Heuristic is essentially the same as the MC. Both heuristics prioritize selecting subsets that cover the largest number of currently uncovered elements.*\n",
        "\n",
        "- **Combination of MRE and MC**:  A combination of admissible heuristics remains admissible. If both MRE and MC individually are admissible, their combination (e.g., taking the average) is still admissible.\n",
        "\n",
        "- **Randomized Heuristics**: A random heuristic does not guarantee admissibility. It may overestimate or underestimate the true cost. *It is not guaranteed to be admissible*, but its fun.\n",
        "\n",
        "- **All or None Heuristic**: This heuristic checks first for notable sets (ones that cover all or none of the remaining elements) and assigns them corresponding priority. If no such sets exist, it uses the MRE heuristic. This heuristic is admissible.\n",
        " "
      ]
    },
    {
      "cell_type": "code",
      "execution_count": 19,
      "metadata": {
        "id": "GnsoumyPvWZm"
      },
      "outputs": [],
      "source": [
        "#\n",
        "# state = namedtuple(\"State\", [\"taken\", \"cost\", \"heuristic\"])\n",
        "#\n",
        "# SETS example =\n",
        "#   Set 0 [False  True  True  True False] Coverage: 3\n",
        "#   Set 1 [False  True False False False] Coverage: 1\n",
        "#   Set 2 [ True  True False False False] Coverage: 2\n",
        "#   Set 3 [ True False False False  True] Coverage: 2\n",
        "#   Set 4 [False  True  True  True False] Coverage: 3\n",
        "#   Set 5 [ True False False False False] Coverage: 1\n",
        "#   Set 6 [False False False False False] Coverage: 0\n",
        "#   Set 7 [False False False False  True] Coverage: 1\n",
        "#   Set 8 [False False False False False] Coverage: 0\n",
        "#   Set 9 [False  True False False False] Coverage: 1\n",
        "#\n",
        "\n",
        "\n",
        "def MRE_heuristic(state, sets):\n",
        "    # Calculate the uncovered elements by taking the logical OR of selected subsets\n",
        "    uncovered = reduce(\n",
        "        np.logical_or, [sets[i] for i in state.taken], np.zeros(len(sets[0]))\n",
        "    )\n",
        "\n",
        "    # Estimate the remaining cost by counting the number of uncovered elements\n",
        "    heuristic = -np.sum(np.logical_not(uncovered))\n",
        "\n",
        "    return heuristic\n",
        "\n",
        "\n",
        "def MC_heuristic(state, sets):\n",
        "    # Calculate the uncovered elements by taking the logical OR of selected subsets\n",
        "    uncovered = reduce(\n",
        "        np.logical_or, [sets[i] for i in state.taken], np.zeros(len(sets[0]))\n",
        "    )\n",
        "\n",
        "    # Sort the subsets by how many uncovered elements they cover (in descending order)\n",
        "    subsets_by_coverage = sorted(\n",
        "        range(len(sets)), key=lambda i: -np.sum(sets[i] & np.logical_not(uncovered))\n",
        "    )\n",
        "\n",
        "    # Initialize the heuristic value\n",
        "    heuristic = 0\n",
        "    covered_elements = np.copy(uncovered)\n",
        "\n",
        "    # Iterate through subsets sorted by coverage and count their contribution\n",
        "    for subset_index in subsets_by_coverage:\n",
        "        subset = sets[subset_index]\n",
        "        contribution = subset & np.logical_not(covered_elements)\n",
        "        heuristic += 1  # Increment the cost\n",
        "        covered_elements = np.logical_or(covered_elements, contribution)\n",
        "\n",
        "        if np.all(covered_elements):\n",
        "            break  # All elements are covered\n",
        "\n",
        "    return heuristic\n",
        "\n",
        "\n",
        "def MRE_MC_heuristic(state, sets):\n",
        "    return (MRE_heuristic(state, sets) + MC_heuristic(state, sets)) / 2\n",
        "\n",
        "\n",
        "def RANDOM_heuristic(state, sets):\n",
        "    return random()\n",
        "\n",
        "\n",
        "def ALLorNONE_heuristic(state, sets):\n",
        "    # Calculate the uncovered elements by taking the logical OR of selected subsets\n",
        "    uncovered = reduce(np.logical_or, [sets[i] for i in state.taken], np.zeros(len(sets[0])))\n",
        "\n",
        "    # Check if there exist a set with all true \n",
        "    all_true_covered = np.any(np.all(np.logical_and(sets, np.logical_not(uncovered)), axis=1))\n",
        "\n",
        "    # Check if there exist a set with all false\n",
        "    all_false_covered = np.any(np.all(np.logical_and(np.logical_not(sets), np.logical_not(uncovered)), axis=1))\n",
        "\n",
        "\n",
        "    # Determine the heuristic value based on the conditions\n",
        "    if all_true_covered:\n",
        "        heuristic = 0  # Highest priority (goal state already reached)\n",
        "    elif all_false_covered:\n",
        "        heuristic = float('inf')  # Lowest priority (impossible to reach the goal state)\n",
        "    else:\n",
        "        # Calculate the remaining cost as in the MRE heuristic\n",
        "        heuristic = -np.sum(np.logical_not(uncovered))\n",
        "\n",
        "    return heuristic\n",
        "\n"
      ]
    },
    {
      "cell_type": "code",
      "execution_count": 20,
      "metadata": {
        "id": "_34iHwB3vWZo"
      },
      "outputs": [],
      "source": [
        "def astar(sets, heuristic):\n",
        "    # Initialize the priority queue with the initial state\n",
        "    initial_state = State(\n",
        "        taken=[],\n",
        "        cost=0,\n",
        "        heuristic=heuristic(State(taken=[], cost=0, heuristic=0), sets),\n",
        "    )\n",
        "    open_set = PriorityQueue()\n",
        "    open_set.put((initial_state.cost + initial_state.heuristic, initial_state))\n",
        "\n",
        "    # Initialize the closed set as an empty set\n",
        "    closed_set = set()\n",
        "\n",
        "    checked_states = 0\n",
        "\n",
        "    progress_bar = tqdm(total=None)\n",
        "\n",
        "    while not open_set.empty():\n",
        "        # Get the state with the lowest f score from the priority queue\n",
        "        _, current_state = open_set.get()\n",
        "\n",
        "        checked_states += 1\n",
        "\n",
        "        progress_bar.update(1)\n",
        "\n",
        "        # If the current state is a goal state, return the solution\n",
        "        if goal_check(current_state, sets):\n",
        "            progress_bar.close()\n",
        "            return current_state.taken, checked_states\n",
        "\n",
        "        # Add the current state to the closed set\n",
        "        closed_set.add(tuple(current_state.taken))\n",
        "\n",
        "        # Generate successor states by adding one more subset\n",
        "        for subset in range(NUMBER_SET):\n",
        "            if subset not in current_state.taken:\n",
        "                # Create a new state by adding the subset\n",
        "                new_taken = current_state.taken + [subset]\n",
        "                new_cost = cost(State(new_taken, 0, 0))\n",
        "                new_heuristic = heuristic(State(new_taken, 0, 0), sets)\n",
        "                new_state = State(new_taken, new_cost, new_heuristic)\n",
        "\n",
        "                # If the state is not in the closed set, add it to the open set\n",
        "                if tuple(new_taken) not in closed_set:\n",
        "                    open_set.put((new_state.cost + new_state.heuristic, new_state))\n",
        "\n",
        "    # If the open set is empty and no solution is found, return None\n",
        "    progress_bar.close()\n",
        "    return None\n"
      ]
    },
    {
      "cell_type": "code",
      "execution_count": 21,
      "metadata": {
        "colab": {
          "base_uri": "https://localhost:8080/"
        },
        "id": "LwP1SGP3vWZo",
        "outputId": "eaa8822e-5f80-4212-da9a-3bf53bc3b9d0"
      },
      "outputs": [
        {
          "name": "stdout",
          "output_type": "stream",
          "text": [
            "\n",
            "MRE\n"
          ]
        },
        {
          "name": "stderr",
          "output_type": "stream",
          "text": [
            "244948it [02:38, 1544.18it/s]\n"
          ]
        },
        {
          "name": "stdout",
          "output_type": "stream",
          "text": [
            " Solution: [1, 2, 6] \n",
            " Cost: 3\n",
            "\n",
            "MC\n"
          ]
        },
        {
          "name": "stderr",
          "output_type": "stream",
          "text": [
            "48it [00:00, 184.69it/s]\n"
          ]
        },
        {
          "name": "stdout",
          "output_type": "stream",
          "text": [
            " Solution: [1, 2, 6] \n",
            " Cost: 3\n",
            "\n",
            "MRE+MC\n"
          ]
        },
        {
          "name": "stderr",
          "output_type": "stream",
          "text": [
            "7482it [00:34, 214.43it/s]\n"
          ]
        },
        {
          "name": "stdout",
          "output_type": "stream",
          "text": [
            " Solution: [1, 2, 6] \n",
            " Cost: 3\n",
            "\n",
            "RANDOM\n"
          ]
        },
        {
          "name": "stderr",
          "output_type": "stream",
          "text": [
            "437it [00:00, 5257.56it/s]\n"
          ]
        },
        {
          "name": "stdout",
          "output_type": "stream",
          "text": [
            " Solution: [12, 4, 1] \n",
            " Cost: 3\n",
            "\n",
            "ALLorNONE\n"
          ]
        },
        {
          "name": "stderr",
          "output_type": "stream",
          "text": [
            "176420it [04:06, 714.96it/s]"
          ]
        },
        {
          "name": "stdout",
          "output_type": "stream",
          "text": [
            " Solution: [1, 2, 6] \n",
            " Cost: 3\n"
          ]
        },
        {
          "name": "stderr",
          "output_type": "stream",
          "text": [
            "\n"
          ]
        }
      ],
      "source": [
        "if NUMBER_SET <= 10:\n",
        "    for i in range(NUMBER_SET):\n",
        "        print(\"Set\", i, SETS[i], \"Coverage:\", np.sum(SETS[i]))\n",
        "\n",
        "print()\n",
        "print(\"MRE\")\n",
        "taken, states = astar(SETS, MRE_heuristic)\n",
        "print(\n",
        "    \" Solution:\",\n",
        "    taken,\n",
        "    \"\\n Cost:\",\n",
        "    len(taken),\n",
        ")\n",
        "print()\n",
        "print(\"MC\")\n",
        "taken, states = astar(SETS, MC_heuristic)\n",
        "print(\n",
        "    \" Solution:\",\n",
        "    taken,\n",
        "    \"\\n Cost:\",\n",
        "    len(taken),\n",
        ")\n",
        "print()\n",
        "print(\"MRE+MC\")\n",
        "taken, states = astar(SETS, MRE_MC_heuristic)\n",
        "print(\n",
        "    \" Solution:\",\n",
        "    taken,\n",
        "    \"\\n Cost:\",\n",
        "    len(taken),\n",
        ")\n",
        "print()\n",
        "print(\"RANDOM\")\n",
        "taken, states = astar(SETS, RANDOM_heuristic)\n",
        "print(\n",
        "    \" Solution:\",\n",
        "    taken,\n",
        "    \"\\n Cost:\",\n",
        "    len(taken),\n",
        ")\n",
        "print()\n",
        "print(\"ALLorNONE\")\n",
        "taken, states = astar(SETS, ALLorNONE_heuristic)\n",
        "print(\n",
        "    \" Solution:\",\n",
        "    taken,\n",
        "    \"\\n Cost:\",\n",
        "    len(taken),\n",
        ")\n"
      ]
    }
  ],
  "metadata": {
    "colab": {
      "provenance": []
    },
    "kernelspec": {
      "display_name": ".envCI",
      "language": "python",
      "name": "python3"
    },
    "language_info": {
      "codemirror_mode": {
        "name": "ipython",
        "version": 3
      },
      "file_extension": ".py",
      "mimetype": "text/x-python",
      "name": "python",
      "nbconvert_exporter": "python",
      "pygments_lexer": "ipython3",
      "version": "3.10.12"
    }
  },
  "nbformat": 4,
  "nbformat_minor": 0
}
