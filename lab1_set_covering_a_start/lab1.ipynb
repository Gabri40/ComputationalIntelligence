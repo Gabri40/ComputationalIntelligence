{
 "cells": [
  {
   "cell_type": "code",
   "execution_count": 659,
   "metadata": {},
   "outputs": [],
   "source": [
    "import numpy as np\n",
    "from random import random\n",
    "from functools import reduce\n",
    "from collections import namedtuple\n",
    "from queue import PriorityQueue"
   ]
  },
  {
   "cell_type": "code",
   "execution_count": 660,
   "metadata": {},
   "outputs": [],
   "source": [
    "# constants\n",
    "PROBLEM_SIZE = 5  # dimension of the finite set U\n",
    "NUMBER_SET = 10  # number of subsets in the collection S\n",
    "SETS = tuple(\n",
    "    np.array([random() < 0.3 for i in range(PROBLEM_SIZE)]) for j in range(NUMBER_SET)\n",
    ")  # generate sets in S\n",
    "\n",
    "# Define State as a named tuple\n",
    "State = namedtuple(\"State\", [\"taken\", \"cost\", \"heuristic\"])\n"
   ]
  },
  {
   "cell_type": "code",
   "execution_count": 661,
   "metadata": {},
   "outputs": [],
   "source": [
    "def goal_check(state, sets):\n",
    "    \"\"\"\n",
    "    check if the logical OR all the elements yeald a line of all true ie the\n",
    "    condition for a state to be covering the whole set U\n",
    "    \"\"\"\n",
    "    return np.all(\n",
    "        reduce(np.logical_or, [sets[i] for i in state.taken], np.zeros(PROBLEM_SIZE))\n",
    "    )\n",
    "\n",
    "\n",
    "# assert generated problem is solvable, ie the goal check of a stete with all\n",
    "# sets taken is true\n",
    "assert goal_check(State(range(NUMBER_SET), 0, 0), SETS)"
   ]
  },
  {
   "cell_type": "code",
   "execution_count": 662,
   "metadata": {},
   "outputs": [],
   "source": [
    "def cost(state):\n",
    "    \"\"\"The cost function calculates the cost of reaching a particular state\"\"\"\n",
    "    return len(state.taken)"
   ]
  },
  {
   "cell_type": "markdown",
   "metadata": {},
   "source": [
    "Commonly used Heuristic for set covering:\n",
    "\n",
    "- Minimum Remaining Elements (MRE): Prioritizes subsets with the fewest uncovered elements.\n",
    "\n",
    "- Maximum Coverage (MC): Favors subsets that cover the maximum number of uncovered elements.\n",
    "\n",
    "- Combination of MRE and MC: Balances between subsets with few remaining elements and high coverage.\n",
    "\n",
    "- Greedy Approximation (GA): Minimizes the cost-to-coverage ratio when selecting subsets.\n",
    "\n",
    "- Randomized Heuristics: Selects subsets randomly or based on probabilistic considerations to explore different paths."
   ]
  },
  {
   "cell_type": "code",
   "execution_count": 663,
   "metadata": {},
   "outputs": [],
   "source": [
    "def MRE_heuristic(state, sets):\n",
    "    \"\"\"\n",
    "    - Objective: The MRE heuristic prioritizes selecting subsets that have the\n",
    "      fewest remaining uncovered elements.\n",
    "    - Selection Criterion: It selects subsets that cover elements that are closest\n",
    "    to being fully covered. In other words, it aims to quickly cover the remaining\n",
    "    elements.\n",
    "    - Impact: The primary goal is to minimize the number of remaining uncovered\n",
    "    elements, which can lead to a different subset selection strategy compared to\n",
    "    the MC heuristic.\n",
    "    \"\"\"\n",
    "    uncovered = reduce(\n",
    "        np.logical_or, [sets[i] for i in state.taken], np.zeros(PROBLEM_SIZE)\n",
    "    )\n",
    "    # calculates number of uncovered elements and assign the ones wiht less\n",
    "    # higher priority\n",
    "    priority = -np.sum(np.logical_not(uncovered))\n",
    "    return priority\n",
    "\n",
    "\n",
    "def MC_heuristic(state, sets):\n",
    "    \"\"\"\n",
    "    - Objective: The MC heuristic prioritizes selecting subsets that cover the\n",
    "    maximum number of currently uncovered elements.\n",
    "    - Selection Criterion: It selects subsets that contribute to covering the largest\n",
    "    number of currently uncovered elements.\n",
    "    - Impact: The primary goal is to maximize\n",
    "    the coverage with each selection, potentially reducing the total number of\n",
    "    subsets needed to cover all elements.\n",
    "    \"\"\"\n",
    "    uncovered = reduce(\n",
    "        np.logical_or, [sets[i] for i in state.taken], np.zeros(PROBLEM_SIZE)\n",
    "    )\n",
    "    # calculates number of uncovered elements and assign the ones wiht less\n",
    "    # higher priority\n",
    "    priority = -np.sum(uncovered)\n",
    "    return priority\n",
    "\n",
    "\n",
    "def MRE_MC_heuristic(state, sets):\n",
    "    \"\"\"\n",
    "    Prioritize with a balanced approach between MRE and MC\n",
    "    \"\"\"\n",
    "    return (MRE_heuristic(state, sets) + MC_heuristic(state, sets)) / 2\n",
    "\n",
    "\n",
    "def GA_heuristic(state, sets):\n",
    "    \"\"\"\n",
    "    Prioritize with cost/coverage ration\n",
    "    \"\"\"\n",
    "    uncovered = reduce(\n",
    "        np.logical_or, [sets[i] for i in state.taken], np.zeros(PROBLEM_SIZE)\n",
    "    )\n",
    "\n",
    "    # TODO\n",
    "    # calculate the cost/coverage ratio\n",
    "\n",
    "\n",
    "\n",
    "def RANDOM_heuristic(state, sets):\n",
    "    \"\"\"\n",
    "    Prioritize with a random heuristic\n",
    "    \"\"\"\n",
    "    return random()\n"
   ]
  },
  {
   "cell_type": "code",
   "execution_count": 664,
   "metadata": {},
   "outputs": [],
   "source": [
    "def astar(sets, heuristic):\n",
    "    # Initialize the priority queue with the initial state\n",
    "    initial_state = State(\n",
    "        taken=[],\n",
    "        cost=0,\n",
    "        heuristic=heuristic(State(taken=[], cost=0, heuristic=0), sets),\n",
    "    )\n",
    "    open_set = PriorityQueue()\n",
    "    open_set.put((initial_state.cost + initial_state.heuristic, initial_state))\n",
    "\n",
    "    # Initialize the closed set as an empty set\n",
    "    closed_set = set()\n",
    "\n",
    "    checked_states=0\n",
    "\n",
    "    while not open_set.empty():\n",
    "        # Get the state with the lowest f score from the priority queue\n",
    "        _, current_state = open_set.get()\n",
    "\n",
    "        checked_states+=1\n",
    "\n",
    "        # If the current state is a goal state, return the solution\n",
    "        if goal_check(current_state, sets):\n",
    "            return current_state.taken,checked_states\n",
    "\n",
    "        # Add the current state to the closed set\n",
    "        closed_set.add(tuple(current_state.taken))\n",
    "\n",
    "        # Generate successor states by adding one more subset\n",
    "        for subset in range(NUMBER_SET):\n",
    "            if subset not in current_state.taken:\n",
    "                # Create a new state by adding the subset\n",
    "                new_taken = current_state.taken + [subset]\n",
    "                new_cost = cost(State(new_taken, 0, 0))\n",
    "                new_heuristic = heuristic(State(new_taken, 0, 0), sets)\n",
    "                new_state = State(new_taken, new_cost, new_heuristic)\n",
    "\n",
    "                # If the state is not in the closed set, add it to the open set\n",
    "                if tuple(new_taken) not in closed_set:\n",
    "                    open_set.put((new_state.cost + new_state.heuristic, new_state))\n",
    "\n",
    "    # If the open set is empty and no solution is found, return None\n",
    "    return None\n"
   ]
  },
  {
   "cell_type": "code",
   "execution_count": 665,
   "metadata": {},
   "outputs": [
    {
     "name": "stdout",
     "output_type": "stream",
     "text": [
      "Set 0 [False  True False False False] Coverage: 1\n",
      "Set 1 [False False False False False] Coverage: 0\n",
      "Set 2 [False False False False  True] Coverage: 1\n",
      "Set 3 [False False False  True  True] Coverage: 2\n",
      "Set 4 [False False False False False] Coverage: 0\n",
      "Set 5 [ True  True  True False False] Coverage: 3\n",
      "Set 6 [False False  True False  True] Coverage: 2\n",
      "Set 7 [False False False  True False] Coverage: 1\n",
      "Set 8 [False  True False False  True] Coverage: 2\n",
      "Set 9 [False False False False  True] Coverage: 1\n",
      "\n",
      "MRE: ([3, 5], 2849)\n",
      "MC: ([5, 3], 3)\n",
      "MRE+MC: ([3, 5], 43)\n",
      "RANDOM: ([3, 5], 26)\n"
     ]
    },
    {
     "ename": "TypeError",
     "evalue": "unsupported operand type(s) for +: 'int' and 'NoneType'",
     "output_type": "error",
     "traceback": [
      "\u001b[0;31m---------------------------------------------------------------------------\u001b[0m",
      "\u001b[0;31mTypeError\u001b[0m                                 Traceback (most recent call last)",
      "\u001b[1;32m/home/gabri/repos/computational-intelligence/lab1_set_covering_a_start/lab1.ipynb Cell 8\u001b[0m line \u001b[0;36m9\n\u001b[1;32m      <a href='vscode-notebook-cell:/home/gabri/repos/computational-intelligence/lab1_set_covering_a_start/lab1.ipynb#X12sZmlsZQ%3D%3D?line=6'>7</a>\u001b[0m \u001b[39mprint\u001b[39m(\u001b[39m\"\u001b[39m\u001b[39mMRE+MC:\u001b[39m\u001b[39m\"\u001b[39m,astar(SETS, MRE_MC_heuristic))\n\u001b[1;32m      <a href='vscode-notebook-cell:/home/gabri/repos/computational-intelligence/lab1_set_covering_a_start/lab1.ipynb#X12sZmlsZQ%3D%3D?line=7'>8</a>\u001b[0m \u001b[39mprint\u001b[39m(\u001b[39m\"\u001b[39m\u001b[39mRANDOM:\u001b[39m\u001b[39m\"\u001b[39m,astar(SETS, RANDOM_heuristic))\n\u001b[0;32m----> <a href='vscode-notebook-cell:/home/gabri/repos/computational-intelligence/lab1_set_covering_a_start/lab1.ipynb#X12sZmlsZQ%3D%3D?line=8'>9</a>\u001b[0m \u001b[39mprint\u001b[39m(\u001b[39m\"\u001b[39m\u001b[39mGA:\u001b[39m\u001b[39m\"\u001b[39m,astar(SETS, GA_heuristic))\n",
      "\u001b[1;32m/home/gabri/repos/computational-intelligence/lab1_set_covering_a_start/lab1.ipynb Cell 8\u001b[0m line \u001b[0;36m9\n\u001b[1;32m      <a href='vscode-notebook-cell:/home/gabri/repos/computational-intelligence/lab1_set_covering_a_start/lab1.ipynb#X12sZmlsZQ%3D%3D?line=2'>3</a>\u001b[0m initial_state \u001b[39m=\u001b[39m State(\n\u001b[1;32m      <a href='vscode-notebook-cell:/home/gabri/repos/computational-intelligence/lab1_set_covering_a_start/lab1.ipynb#X12sZmlsZQ%3D%3D?line=3'>4</a>\u001b[0m     taken\u001b[39m=\u001b[39m[],\n\u001b[1;32m      <a href='vscode-notebook-cell:/home/gabri/repos/computational-intelligence/lab1_set_covering_a_start/lab1.ipynb#X12sZmlsZQ%3D%3D?line=4'>5</a>\u001b[0m     cost\u001b[39m=\u001b[39m\u001b[39m0\u001b[39m,\n\u001b[1;32m      <a href='vscode-notebook-cell:/home/gabri/repos/computational-intelligence/lab1_set_covering_a_start/lab1.ipynb#X12sZmlsZQ%3D%3D?line=5'>6</a>\u001b[0m     heuristic\u001b[39m=\u001b[39mheuristic(State(taken\u001b[39m=\u001b[39m[], cost\u001b[39m=\u001b[39m\u001b[39m0\u001b[39m, heuristic\u001b[39m=\u001b[39m\u001b[39m0\u001b[39m), sets),\n\u001b[1;32m      <a href='vscode-notebook-cell:/home/gabri/repos/computational-intelligence/lab1_set_covering_a_start/lab1.ipynb#X12sZmlsZQ%3D%3D?line=6'>7</a>\u001b[0m )\n\u001b[1;32m      <a href='vscode-notebook-cell:/home/gabri/repos/computational-intelligence/lab1_set_covering_a_start/lab1.ipynb#X12sZmlsZQ%3D%3D?line=7'>8</a>\u001b[0m open_set \u001b[39m=\u001b[39m PriorityQueue()\n\u001b[0;32m----> <a href='vscode-notebook-cell:/home/gabri/repos/computational-intelligence/lab1_set_covering_a_start/lab1.ipynb#X12sZmlsZQ%3D%3D?line=8'>9</a>\u001b[0m open_set\u001b[39m.\u001b[39mput((initial_state\u001b[39m.\u001b[39;49mcost \u001b[39m+\u001b[39;49m initial_state\u001b[39m.\u001b[39;49mheuristic, initial_state))\n\u001b[1;32m     <a href='vscode-notebook-cell:/home/gabri/repos/computational-intelligence/lab1_set_covering_a_start/lab1.ipynb#X12sZmlsZQ%3D%3D?line=10'>11</a>\u001b[0m \u001b[39m# Initialize the closed set as an empty set\u001b[39;00m\n\u001b[1;32m     <a href='vscode-notebook-cell:/home/gabri/repos/computational-intelligence/lab1_set_covering_a_start/lab1.ipynb#X12sZmlsZQ%3D%3D?line=11'>12</a>\u001b[0m closed_set \u001b[39m=\u001b[39m \u001b[39mset\u001b[39m()\n",
      "\u001b[0;31mTypeError\u001b[0m: unsupported operand type(s) for +: 'int' and 'NoneType'"
     ]
    }
   ],
   "source": [
    "for i in range(NUMBER_SET):\n",
    "    print(\"Set\",i,SETS[i],\"Coverage:\",np.sum(SETS[i]))\n",
    "\n",
    "print()\n",
    "print(\"MRE:\",astar(SETS, MRE_heuristic))\n",
    "print(\"MC:\",astar(SETS, MC_heuristic))\n",
    "print(\"MRE+MC:\",astar(SETS, MRE_MC_heuristic))\n",
    "print(\"RANDOM:\",astar(SETS, RANDOM_heuristic))\n",
    "print(\"GA:\",astar(SETS, GA_heuristic))"
   ]
  }
 ],
 "metadata": {
  "kernelspec": {
   "display_name": ".envCI",
   "language": "python",
   "name": "python3"
  },
  "language_info": {
   "codemirror_mode": {
    "name": "ipython",
    "version": 3
   },
   "file_extension": ".py",
   "mimetype": "text/x-python",
   "name": "python",
   "nbconvert_exporter": "python",
   "pygments_lexer": "ipython3",
   "version": "3.10.12"
  }
 },
 "nbformat": 4,
 "nbformat_minor": 2
}
