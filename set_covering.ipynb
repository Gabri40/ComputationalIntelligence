{
 "cells": [
  {
   "cell_type": "markdown",
   "metadata": {},
   "source": [
    "## Set Covering\n",
    "Set covering problems are a class of combinatorial optimization problems in which the goal is to find a minimum-size collection of sets (subsets of a larger set) such that every element from the universal set is covered by at least one of the selected sets. These problems have applications in various fields, including operations research, computer science, logistics, and facility location.\n",
    "\n",
    "Here's a more formal definition:\n",
    "\n",
    "- Given a universal set U and a collection of subsets S = {S1, S2, ..., Sn}, where each Si is a subset of U, the set covering problem aims to find a minimum-size subset C of S such that the union of all sets in C covers every element in U. Mathematically, you want to minimize the cardinality of C, subject to the constraint that the union of sets in C equals U.\n",
    "\n",
    "Set covering problems can be described as an integer linear programming (ILP) problem. The decision version of the problem is typically referred to as the Set Covering Problem (SCP), and it can be formulated as follows:\n",
    "\n",
    "**Decision Set Covering Problem (SCP):**\n",
    "- Input: A finite set U, a collection of subsets S = {S1, S2, ..., Sn} of U, and a positive integer k.\n",
    "- Question: Is there a subset C of S with at most k sets such that the union of sets in C covers all elements of U?\n",
    "\n",
    "The optimization version of the problem is known as the Set Covering Optimization Problem (SCOP):\n",
    "\n",
    "**Set Covering Optimization Problem (SCOP):**\n",
    "- Input: A finite set U, a collection of subsets S = {S1, S2, ..., Sn} of U.\n",
    "- Output: Find a subset C of S with the minimum cardinality such that the union of sets in C covers all elements of U.\n",
    "\n",
    "Set covering problems are NP-hard, which means that finding an optimal solution is computationally challenging, especially for large instances. Various algorithms and heuristics are used to solve these problems efficiently, including greedy algorithms, integer linear programming solvers, and approximation algorithms."
   ]
  },
  {
   "cell_type": "markdown",
   "metadata": {},
   "source": [
    "## Problem Generation"
   ]
  },
  {
   "cell_type": "code",
   "execution_count": 432,
   "metadata": {},
   "outputs": [],
   "source": [
    "import numpy as np\n",
    "from random import random\n",
    "from functools import reduce\n",
    "from collections import namedtuple\n",
    "from queue import PriorityQueue"
   ]
  },
  {
   "cell_type": "code",
   "execution_count": 433,
   "metadata": {},
   "outputs": [],
   "source": [
    "# constants\n",
    "PROBLEM_SIZE = 5   # dimension of the finite set U\n",
    "NUMBER_SET = 10     # number of subsets in the collection S\n",
    "SETS = tuple(\n",
    "    np.array([random()<.3 for i in range(PROBLEM_SIZE)]) for j in range(NUMBER_SET)\n",
    "    ) # generate sets in S\n",
    "State = namedtuple('State', ['taken','not_taken'])"
   ]
  },
  {
   "cell_type": "code",
   "execution_count": 434,
   "metadata": {},
   "outputs": [],
   "source": [
    "def goal_check(state):\n",
    "    \"\"\"\n",
    "    check if the logical OR all the elements yeald a line of all true ie the\n",
    "    condition for a state to be covering the whole set U\n",
    "    \"\"\"\n",
    "    return np.all(reduce(np.logical_or, [SETS[i] for i in state.taken], np.zeros(PROBLEM_SIZE)))\n",
    "\n"
   ]
  },
  {
   "cell_type": "markdown",
   "metadata": {},
   "source": [
    "## Solving with path search"
   ]
  },
  {
   "cell_type": "code",
   "execution_count": 435,
   "metadata": {},
   "outputs": [],
   "source": [
    "frontier = PriorityQueue()"
   ]
  },
  {
   "cell_type": "code",
   "execution_count": 436,
   "metadata": {},
   "outputs": [],
   "source": [
    "# 1 add all nodes to forntier and visit them, once one is visited we romove it from frontier\n",
    "frontier.put(State(set(), set(range(NUMBER_SET))))"
   ]
  },
  {
   "cell_type": "code",
   "execution_count": 437,
   "metadata": {},
   "outputs": [
    {
     "name": "stdout",
     "output_type": "stream",
     "text": [
      "solved in 15\n"
     ]
    }
   ],
   "source": [
    "#extract from begining of frontier\n",
    "current_state= frontier.get()\n",
    "\n",
    "# check if state is solution\n",
    "counter=0\n",
    "while not goal_check(current_state):\n",
    "    counter+=1\n",
    "    for action in current_state[1]:\n",
    "        newstate = State(current_state.taken ^ {action}, current_state.not_taken ^ {action} )\n",
    "        frontier.put(newstate)\n",
    "\n",
    "    current_state = frontier.get()\n",
    "\n",
    "print(\"solved in\",counter)"
   ]
  },
  {
   "cell_type": "code",
   "execution_count": 438,
   "metadata": {},
   "outputs": [
    {
     "data": {
      "text/plain": [
       "State(taken={9, 5}, not_taken={0, 1, 2, 3, 4, 6, 7, 8})"
      ]
     },
     "execution_count": 438,
     "metadata": {},
     "output_type": "execute_result"
    }
   ],
   "source": [
    "current_state"
   ]
  }
 ],
 "metadata": {
  "kernelspec": {
   "display_name": ".envCI",
   "language": "python",
   "name": "python3"
  },
  "language_info": {
   "codemirror_mode": {
    "name": "ipython",
    "version": 3
   },
   "file_extension": ".py",
   "mimetype": "text/x-python",
   "name": "python",
   "nbconvert_exporter": "python",
   "pygments_lexer": "ipython3",
   "version": "3.10.12"
  },
  "orig_nbformat": 4
 },
 "nbformat": 4,
 "nbformat_minor": 2
}
