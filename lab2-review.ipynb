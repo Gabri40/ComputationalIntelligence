{
 "cells": [
  {
   "cell_type": "markdown",
   "metadata": {
    "pycharm": {
     "name": "#%% md\n"
    }
   },
   "source": [
    "Copyright **`(c)`** 2022 Giovanni Squillero `<squillero@polito.it>`  \n",
    "[`https://github.com/squillero/computational-intelligence`](https://github.com/squillero/computational-intelligence)  \n",
    "Free for personal or classroom use; see [`LICENSE.md`](https://github.com/squillero/computational-intelligence/blob/master/LICENSE.md) for details.  \n"
   ]
  },
  {
   "cell_type": "markdown",
   "metadata": {
    "pycharm": {
     "name": "#%%\n"
    }
   },
   "source": [
    "# Lab 3: ES\n",
    "\n",
    "## Task\n",
    "\n",
    "Write agents able to play [*Nim*](https://en.wikipedia.org/wiki/Nim), with an arbitrary number of rows and an upper bound $k$ on the number of objects that can be removed in a turn (a.k.a., *subtraction game*).\n",
    "\n",
    "The goal of the game is to **avoid** taking the last object.\n",
    "\n",
    "* Task2.1: An agent using fixed rules based on *nim-sum* (i.e., an *expert system*)\n",
    "* Task2.2: An agent using evolved rules using ES\n",
    "\n",
    "## Instructions\n",
    "\n",
    "* Create the directory `lab2` inside your personal course repository for the course \n",
    "* Put a `README.md` and your solution (all the files, code and auxiliary data if needed)\n",
    "\n",
    "## Notes\n",
    "\n",
    "* Working in group is not only allowed, but recommended (see: [Ubuntu](https://en.wikipedia.org/wiki/Ubuntu_philosophy) and [Cooperative Learning](https://files.eric.ed.gov/fulltext/EJ1096789.pdf)). Collaborations must be explicitly declared in the `README.md`.\n",
    "* [Yanking](https://www.emacswiki.org/emacs/KillingAndYanking) from the internet is allowed, but sources must be explicitly declared in the `README.md`.\n",
    "\n"
   ]
  },
  {
   "cell_type": "code",
   "execution_count": 1,
   "metadata": {},
   "outputs": [],
   "source": [
    "import logging\n",
    "from pprint import pprint, pformat\n",
    "from collections import namedtuple\n",
    "import random\n",
    "from copy import deepcopy\n",
    "from dataclasses import dataclass, field\n",
    "\n"
   ]
  },
  {
   "cell_type": "markdown",
   "metadata": {},
   "source": [
    "## The *Nim* and *Nimply* classes"
   ]
  },
  {
   "cell_type": "code",
   "execution_count": 2,
   "metadata": {},
   "outputs": [],
   "source": [
    "Nimply = namedtuple(\"Nimply\", \"row, num_objects\")\n"
   ]
  },
  {
   "cell_type": "code",
   "execution_count": 3,
   "metadata": {},
   "outputs": [],
   "source": [
    "class Nim:\n",
    "    def __init__(self, num_rows: int, k: int = None) -> None:\n",
    "        self._rows = [i * 2 + 1 for i in range(num_rows)]\n",
    "        self._k = k\n",
    "\n",
    "    def __bool__(self):\n",
    "        return sum(self._rows) > 0\n",
    "\n",
    "    def __str__(self):\n",
    "        return \"<\" + \" \".join(str(_) for _ in self._rows) + \">\"\n",
    "\n",
    "    @property\n",
    "    def rows(self) -> tuple:\n",
    "        return tuple(self._rows)\n",
    "    \n",
    "    def nimming(self, ply: Nimply) -> None:\n",
    "        row, num_objects = ply\n",
    "        assert self._rows[row] >= num_objects\n",
    "        assert self._k is None or num_objects <= self._k\n",
    "        self._rows[row] -= num_objects\n",
    "    \n",
    "    def copy(self) -> 'Nim':\n",
    "        new_nim = Nim(num_rows=len(self._rows), k=self._k)\n",
    "        new_nim._rows = list(self._rows)\n",
    "        return new_nim\n"
   ]
  },
  {
   "cell_type": "markdown",
   "metadata": {},
   "source": [
    "## Sample (and silly) startegies "
   ]
  },
  {
   "cell_type": "code",
   "execution_count": 4,
   "metadata": {},
   "outputs": [],
   "source": [
    "def pure_random(state: Nim) -> Nimply:\n",
    "    \"\"\"A completely random move\"\"\"\n",
    "    row = random.choice([r for r, c in enumerate(state.rows) if c > 0])\n",
    "    num_objects = random.randint(1, state.rows[row])\n",
    "    return Nimply(row, num_objects)\n"
   ]
  },
  {
   "cell_type": "code",
   "execution_count": 5,
   "metadata": {},
   "outputs": [],
   "source": [
    "def gabriele(state: Nim) -> Nimply:\n",
    "    \"\"\"Pick always the maximum possible number of the lowest row\"\"\"\n",
    "    possible_moves = [(r, o) for r, c in enumerate(state.rows) for o in range(1, c + 1)]\n",
    "    return Nimply(*max(possible_moves, key=lambda m: (-m[0], m[1])))\n"
   ]
  },
  {
   "cell_type": "code",
   "execution_count": 6,
   "metadata": {},
   "outputs": [],
   "source": [
    "import numpy as np\n",
    "\n",
    "\n",
    "def nim_sum(state: Nim) -> int:\n",
    "    tmp = np.array([tuple(int(x) for x in f\"{c:032b}\") for c in state.rows])\n",
    "    xor = tmp.sum(axis=0) % 2\n",
    "    return int(\"\".join(str(_) for _ in xor), base=2)\n",
    "\n",
    "\n",
    "def analyze(raw: Nim) -> dict:\n",
    "    cooked = {\"possible_moves\": {}}\n",
    "    for ply in (Nimply(r, o) for r, c in enumerate(raw.rows) for o in range(1, c + 1)):\n",
    "        tmp = deepcopy(raw)\n",
    "        tmp.nimming(ply)\n",
    "        cooked[\"possible_moves\"][ply] = nim_sum(tmp)\n",
    "    return cooked\n",
    "\n",
    "\n",
    "def optimal(state: Nim) -> Nimply:\n",
    "    analysis = analyze(state)\n",
    "    logging.debug(f\"analysis:\\n{pformat(analysis)}\")\n",
    "    spicy_moves = [ply for ply, ns in analysis[\"possible_moves\"].items() if ns != 0]\n",
    "    if not spicy_moves:\n",
    "        spicy_moves = list(analysis[\"possible_moves\"].keys())\n",
    "    ply = random.choice(spicy_moves)\n",
    "    return ply\n",
    "\n",
    "\n"
   ]
  },
  {
   "cell_type": "markdown",
   "metadata": {},
   "source": [
    "## (1,λ) ES\n"
   ]
  },
  {
   "cell_type": "code",
   "execution_count": 7,
   "metadata": {},
   "outputs": [],
   "source": [
    "import random\n",
    "from typing import Tuple\n",
    "\n",
    "NUM_SETS = 5\n",
    "LAMBDA = 20\n",
    "\n",
    "@dataclass\n",
    "class Individual:\n",
    "    fitness: int\n",
    "    genotype: Nim\n",
    "    mutation_info: Tuple[int, int] = field(default_factory=lambda: (0, 0))\n",
    "\n",
    "def fitness(state: Nim, real_state: Nim) -> int:\n",
    "\n",
    "    xor = nim_sum(state)\n",
    "    num_rows = sum(o > 0 for o in real_state.rows)\n",
    "                                                 \n",
    "    return (xor, num_rows)\n",
    "\n",
    "\n",
    "def mutate(ind: Individual) -> Individual:\n",
    "    state = list(ind.genotype.rows)\n",
    "\n",
    "    non_empty_sets = [i for i in range(NUM_SETS) if state[i] > 0]\n",
    "\n",
    "    pos = random.choice(non_empty_sets)\n",
    "    if state[pos] != 1:\n",
    "        num_to_remove = random.randint(1, state[pos]-1)\n",
    "    else:\n",
    "        num_to_remove = 1\n",
    "\n",
    "    \n",
    "    if len(non_empty_sets) == 1 and state[pos] != 1:\n",
    "        num_to_remove = state[pos] - 1 \n",
    "\n",
    "    state[pos] -= num_to_remove\n",
    "\n",
    "    new_state_nim = ind.genotype.copy()\n",
    "    new_state_nim.nimming(Nimply(pos, num_to_remove))\n",
    "\n",
    "    mutated_individual = Individual(\n",
    "        fitness=0,\n",
    "        genotype=new_state_nim,\n",
    "        mutation_info=(pos, num_to_remove),\n",
    "    )\n",
    "\n",
    "    return mutated_individual\n",
    "\n",
    "\n",
    "\n",
    "def adaptive(state: Nim,) -> Nimply:\n",
    "    offspring = []\n",
    "\n",
    "    for _ in range(LAMBDA):\n",
    "        parent = Individual(\n",
    "                    fitness=0,\n",
    "                    genotype=state\n",
    "                )\n",
    "        child = mutate(parent)\n",
    "        offspring.append(child)\n",
    "\n",
    "    for individual in offspring:\n",
    "        individual.fitness = fitness(individual.genotype, state)\n",
    "\n",
    "    best_mutated_individual = max(offspring, key=lambda ind: ind.fitness)\n",
    "   \n",
    "    result_nimply = Nimply(\n",
    "        row=best_mutated_individual.mutation_info[0],\n",
    "        num_objects=best_mutated_individual.mutation_info[1],\n",
    "    )\n",
    "    return result_nimply"
   ]
  },
  {
   "cell_type": "markdown",
   "metadata": {},
   "source": [
    "## Oversimplified match"
   ]
  },
  {
   "cell_type": "code",
   "execution_count": 8,
   "metadata": {},
   "outputs": [
    {
     "name": "stderr",
     "output_type": "stream",
     "text": [
      "  1%|          | 10/1000 [00:00<00:11, 88.26it/s]"
     ]
    },
    {
     "name": "stderr",
     "output_type": "stream",
     "text": [
      "100%|██████████| 1000/1000 [00:09<00:00, 100.65it/s]"
     ]
    },
    {
     "name": "stdout",
     "output_type": "stream",
     "text": [
      "Number games won player_0: 425, Percentage: 42%\n",
      "Number games won player_1: 575, Percentage: 57%\n"
     ]
    },
    {
     "name": "stderr",
     "output_type": "stream",
     "text": [
      "\n"
     ]
    }
   ],
   "source": [
    "from tqdm import tqdm\n",
    "\n",
    "num_iteration = 1000\n",
    "count_0 = 0\n",
    "count_1 = 0\n",
    "\n",
    "logging.getLogger().setLevel(logging.INFO)\n",
    "\n",
    "strategy = (adaptive, optimal)\n",
    "\n",
    "for _ in tqdm(range(num_iteration)):\n",
    "    nim = Nim(5)\n",
    "    \n",
    "    #logging.info(f\"status: {nim}\")\n",
    "    player = 0\n",
    "    while nim:\n",
    "        ply = strategy[player](nim)\n",
    "        #logging.info(f\"ply: player {player} plays {ply}\")\n",
    "        nim.nimming(ply)\n",
    "        #logging.info(f\"status: {nim}\")\n",
    "        player = 1 - player\n",
    "        \n",
    "    if player == 0:\n",
    "        count_0 += 1\n",
    "    else:\n",
    "        count_1 += 1\n",
    "\n",
    "print(f\"Number games won player_0: {count_0}, Percentage: {round(count_0 / num_iteration * 100)}%\")\n",
    "print(f\"Number games won player_1: {count_1}, Percentage: {round(count_1 / num_iteration * 100)}%\")\n"
   ]
  }
 ],
 "metadata": {
  "kernelspec": {
   "display_name": "Python 3.10.7 ('ci22-dPIXJ0_o-py3.10')",
   "language": "python",
   "name": "python3"
  },
  "language_info": {
   "codemirror_mode": {
    "name": "ipython",
    "version": 3
   },
   "file_extension": ".py",
   "mimetype": "text/x-python",
   "name": "python",
   "nbconvert_exporter": "python",
   "pygments_lexer": "ipython3",
   "version": "3.9.6"
  },
  "vscode": {
   "interpreter": {
    "hash": "10197e8e2f2aa67e2c349105091c77f4cd384fce4877865f002d9ec653f96bc0"
   }
  }
 },
 "nbformat": 4,
 "nbformat_minor": 2
}
